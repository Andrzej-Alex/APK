{
  "nbformat": 4,
  "nbformat_minor": 0,
  "metadata": {
    "anaconda-cloud": {},
    "hide_input": false,
    "kernelspec": {
      "display_name": "Python 3",
      "language": "python",
      "name": "python3"
    },
    "language_info": {
      "codemirror_mode": {
        "name": "ipython",
        "version": 3
      },
      "file_extension": ".py",
      "mimetype": "text/x-python",
      "name": "python",
      "nbconvert_exporter": "python",
      "pygments_lexer": "ipython3",
      "version": "3.7.0"
    },
    "nav_menu": {},
    "toc": {
      "nav_menu": {
        "height": "461px",
        "width": "252px"
      },
      "navigate_menu": true,
      "number_sections": true,
      "sideBar": true,
      "threshold": 4,
      "toc_cell": false,
      "toc_section_display": "block",
      "toc_window_display": false
    },
    "colab": {
      "provenance": [],
      "include_colab_link": true
    }
  },
  "cells": [
    {
      "cell_type": "markdown",
      "metadata": {
        "id": "view-in-github",
        "colab_type": "text"
      },
      "source": [
        "<a href=\"https://colab.research.google.com/github/Andrzej-Alex/APK/blob/main/LabJupyter6_2023_wse_part2.ipynb\" target=\"_parent\"><img src=\"https://colab.research.google.com/assets/colab-badge.svg\" alt=\"Open In Colab\"/></a>"
      ]
    },
    {
      "cell_type": "markdown",
      "metadata": {
        "ExecuteTime": {
          "end_time": "2016-12-02T01:30:23.686185",
          "start_time": "2016-12-02T01:30:23.683168"
        },
        "id": "2xwwl0Ny55Ue"
      },
      "source": [
        "# **Laboratorium 6** - część 2 , programowanie obiektowe, testy jednostkowe"
      ]
    },
    {
      "cell_type": "markdown",
      "metadata": {
        "ExecuteTime": {
          "end_time": "2016-12-02T00:32:55.306505",
          "start_time": "2016-12-02T00:32:55.302502"
        },
        "id": "Vy4laze455UY"
      },
      "source": [
        "dr Aneta Polewko-Klim"
      ]
    },
    {
      "cell_type": "markdown",
      "source": [
        "Zapamiętaj:\n",
        "\n",
        "* W niektórych językach programowania mogą przeciążać funkcje mające różne listy\n",
        "argumentów, na przykład klasa może mieć kilka metod z taką samą nazwą, ale z różną liczbą argumentów lub z argumentami różnych typów (np. Java),  W C++ mogą być funkcje o tej samej nazwie, które różnią się typami argumentów (ale nie zwracanych wartości).\n",
        "\n",
        "* Niektóre z nich (SQL)  obsługują nawet przeciążanie funkcji, które różnią się jedynie nazwą argumentu np. jedna klasa może mieć kilka metod z tą samą nazwą, tą samą liczbą argumentów o tych samych typów, ale inaczej nazwanych.\n",
        "\n",
        "* W Python-ie nie ma żadnej z tych możliwości, **nie ma** tu **przeciążania funkcji**. **Metody są jednoznacznie definiowane przez ich nazwy i w danej klasie może być tylko jedna metoda o danej nazwie.** Jeśli więc mamy w jakiejś klasie potomnej metodę __init__, to zawsze zasłoni ona metodę __init__ klasy rodzicielskiej, nawet jeśli klasa pochodna definiuje ją z innymi argumentami. Ta uwaga stosuje się do wszystkich metod.\n",
        "\n",
        "* W Pythonie nie ma przeciążania funkcji, gdyż nazwa funkcji jest referencją do obiektu.\n",
        "\n",
        "* **W Pythonie przeciążanie operatorów robi się za pomocą metod specjalnych**.\n"
      ],
      "metadata": {
        "id": "X0vi_4sakNDM"
      }
    },
    {
      "cell_type": "markdown",
      "source": [
        "# **1. Dunders, czyli metody magiczne, info o obiekcie, interakcja między obiektami**\n",
        "\n",
        "#### Magiczne metody (inaczej atrybuty specjalne klasy)\n",
        "---\n",
        "Wykaz dostępnych metod specjalnych tu: [https://docs.python.org/3/reference/datamodel.html](https://docs.python.org/3/reference/datamodel.html)\n",
        "---\n",
        "Możemy je podzielić na kilka kategorii, związanych z:\n",
        "* Tworzeniem i usuwaniem instancji np. $__init__$ , $__del__$\n",
        "* Reprezentacją obiektów np. $__repr__$, $__str__$\n",
        "* Konwersją typu np. $__int__$, $__float__$\n",
        "* Metodami charakterystycznymi dla kontenerów np. $__len__$, $__getitem__$\n",
        "* Wywoływaniem obiektu np. $__call__$\n",
        "* Kontrolą dostępu do obiektu np. $__getattr__$, $__setattr__$\n",
        "* Menadżer kontektu (dostęp/zarządznie zasobami, definiowanie obiektów z wyrażeniem with tj. with open(\"log.txt\") as f: ... ) np.  $__enter__$, $__exit__$\n",
        "* Obsługą operatorów np. $__le__$ (operator <=), $__ne__$ (operator !=), $__add__$"
      ],
      "metadata": {
        "id": "gVJs2IMRzPrs"
      }
    },
    {
      "cell_type": "markdown",
      "source": [
        "1. Utworzymy klase Punkt, zwróć uwagę na własnosci zastosowanych metod specjalnych: $__init__ , __str__, __repr__$"
      ],
      "metadata": {
        "id": "Iflh0nruYvtV"
      }
    },
    {
      "cell_type": "code",
      "source": [
        "# metoda specjalna składnia/syntax:\n",
        "\n",
        "# def __nazwametody__(self):\n",
        "#     blok instrukcji\n",
        "\n",
        "# self - reprezentuje nowoutworzony obiekt, instancję klasy"
      ],
      "metadata": {
        "id": "n0dllDObiKvG"
      },
      "execution_count": null,
      "outputs": []
    },
    {
      "cell_type": "code",
      "source": [
        "class Punkt:\n",
        "  def __init__(self,x=0,y=0):\n",
        "    self.x = int(x) # wspolrzedna x\n",
        "    self.y = int(y) # wspolrzedna y\n",
        "\n",
        "  def __str__(self): # tak obiekt będzie wyświetlany, przy użyciu print, to czytelna dla użytkownika wartość\n",
        "    return f'Wspolrzedne wynoszą: x = {self.x}, y = {self.y}'\n",
        "\n",
        "  def __repr__(self): # tak obiekt tej klasy będzie reprezentowany, jednoznaczna wartość\n",
        "    return  f'({self.x},{self.y})'\n"
      ],
      "metadata": {
        "id": "Yi-1UkGdYydM"
      },
      "execution_count": null,
      "outputs": []
    },
    {
      "cell_type": "code",
      "source": [
        "p1 = Punkt(10,20)\n",
        "print(p1)"
      ],
      "metadata": {
        "id": "nnMAu6OzcYP7",
        "colab": {
          "base_uri": "https://localhost:8080/"
        },
        "outputId": "40ad819c-12c4-40f9-b1b2-075b26ba93b5"
      },
      "execution_count": null,
      "outputs": [
        {
          "output_type": "stream",
          "name": "stdout",
          "text": [
            "Wspolrzedne wynoszą: x = 10, y = 20\n"
          ]
        }
      ]
    },
    {
      "cell_type": "code",
      "source": [
        "# reprezentacja obiektu\n",
        "p1"
      ],
      "metadata": {
        "id": "n4xJzAcVhFXd",
        "colab": {
          "base_uri": "https://localhost:8080/"
        },
        "outputId": "e66336cb-07b8-47b3-c9c1-472cf7e7b98f"
      },
      "execution_count": null,
      "outputs": [
        {
          "output_type": "execute_result",
          "data": {
            "text/plain": [
              "10,20"
            ]
          },
          "metadata": {},
          "execution_count": 64
        }
      ]
    },
    {
      "cell_type": "markdown",
      "source": [
        "2. Czy możemy dodawać lub odejmować 2 punkty tj. wykonać operację dodawania/odejmowania 2 różne obiekty?"
      ],
      "metadata": {
        "id": "ENjfrcd-WL90"
      }
    },
    {
      "cell_type": "code",
      "source": [
        "p1 = Punkt(10,20)\n",
        "p2 = Punkt(10,20)\n",
        "p1+p2"
      ],
      "metadata": {
        "colab": {
          "base_uri": "https://localhost:8080/",
          "height": 201
        },
        "id": "f-lk5xzbaenc",
        "outputId": "a4128919-ef5f-444a-d1da-b3b972a61712"
      },
      "execution_count": null,
      "outputs": [
        {
          "output_type": "error",
          "ename": "TypeError",
          "evalue": "ignored",
          "traceback": [
            "\u001b[0;31m---------------------------------------------------------------------------\u001b[0m",
            "\u001b[0;31mTypeError\u001b[0m                                 Traceback (most recent call last)",
            "\u001b[0;32m<ipython-input-65-ee97e15c26eb>\u001b[0m in \u001b[0;36m<cell line: 3>\u001b[0;34m()\u001b[0m\n\u001b[1;32m      1\u001b[0m \u001b[0mp1\u001b[0m \u001b[0;34m=\u001b[0m \u001b[0mPunkt\u001b[0m\u001b[0;34m(\u001b[0m\u001b[0;36m10\u001b[0m\u001b[0;34m,\u001b[0m\u001b[0;36m20\u001b[0m\u001b[0;34m)\u001b[0m\u001b[0;34m\u001b[0m\u001b[0;34m\u001b[0m\u001b[0m\n\u001b[1;32m      2\u001b[0m \u001b[0mp2\u001b[0m \u001b[0;34m=\u001b[0m \u001b[0mPunkt\u001b[0m\u001b[0;34m(\u001b[0m\u001b[0;36m10\u001b[0m\u001b[0;34m,\u001b[0m\u001b[0;36m20\u001b[0m\u001b[0;34m)\u001b[0m\u001b[0;34m\u001b[0m\u001b[0;34m\u001b[0m\u001b[0m\n\u001b[0;32m----> 3\u001b[0;31m \u001b[0mp1\u001b[0m\u001b[0;34m+\u001b[0m\u001b[0mp2\u001b[0m\u001b[0;34m\u001b[0m\u001b[0;34m\u001b[0m\u001b[0m\n\u001b[0m",
            "\u001b[0;31mTypeError\u001b[0m: unsupported operand type(s) for +: 'Punkt' and 'Punkt'"
          ]
        }
      ]
    },
    {
      "cell_type": "markdown",
      "source": [
        "Mozemy ale musimy dodać odpowiednia metodę specjalną"
      ],
      "metadata": {
        "id": "ZbnM98KnloU7"
      }
    },
    {
      "cell_type": "code",
      "source": [
        "class Punkt:\n",
        "  def __init__(self,x,y):\n",
        "    self.x = int(x) # wspolrzedna x\n",
        "    self.y = int(y) # wspolrzedna y\n",
        "\n",
        "  def __str__(self): # tak obiekt będzie wyświetlany, przy użyciu print, to czytelna dla użytkownika wartość np. jako wielkość podana w stopniach, minutach, sekundach...\n",
        "    return f'Wspolrzedne wynoszą: x = {self.x}, y = {self.y}'\n",
        "\n",
        "  def __repr__(self): # tak obiekt tej klasy będzie reprezentowany, jednoznaczna wartość\n",
        "    return  f'({self.x},{self.y})'\n",
        "\n",
        "  def __add__(self, kolejnyPunkt):\n",
        "    return Punkt(self.x + kolejnyPunkt.x, self.y + kolejnyPunkt.y)\n",
        "\n",
        "  def __sub__(self, kolejnyPunkt):\n",
        "    return Punkt(self.x - kolejnyPunkt.x, self.y - kolejnyPunkt.y)\n"
      ],
      "metadata": {
        "id": "n0E9SYYYiTZI"
      },
      "execution_count": null,
      "outputs": []
    },
    {
      "cell_type": "code",
      "source": [
        "p3 = Punkt(10,20)\n",
        "p4 = Punkt(10,30)\n",
        "p3-p4"
      ],
      "metadata": {
        "colab": {
          "base_uri": "https://localhost:8080/"
        },
        "id": "Fr06WKUkjeqj",
        "outputId": "5d567d27-25cb-40fb-b5a1-76b365b40d84"
      },
      "execution_count": null,
      "outputs": [
        {
          "output_type": "execute_result",
          "data": {
            "text/plain": [
              "(0,-10)"
            ]
          },
          "metadata": {},
          "execution_count": 68
        }
      ]
    },
    {
      "cell_type": "code",
      "source": [
        "print(p3-p4)\n",
        "print(p3+p4)"
      ],
      "metadata": {
        "colab": {
          "base_uri": "https://localhost:8080/"
        },
        "id": "P0_QwgyOnKle",
        "outputId": "257742a8-a8be-49d1-ff6c-11deb7da8ab7"
      },
      "execution_count": null,
      "outputs": [
        {
          "output_type": "stream",
          "name": "stdout",
          "text": [
            "Wspolrzedne wynoszą: x = 0, y = -10\n",
            "Wspolrzedne wynoszą: x = 20, y = 50\n"
          ]
        }
      ]
    },
    {
      "cell_type": "markdown",
      "source": [
        "3. A co jesli chciałbys dodac wartosc wspołrzędnych wpisanych jako krotka?"
      ],
      "metadata": {
        "id": "46hb14oWoBil"
      }
    },
    {
      "cell_type": "code",
      "source": [
        "class Punkt:\n",
        "  def __init__(self,x,y):\n",
        "    self.x = int(x) # wspolrzedna x\n",
        "    self.y = int(y) # wspolrzedna y\n",
        "\n",
        "  def __str__(self): # tak obiekt będzie wyświetlany, przy użyciu print, to czytelna dla użytkownika wartość np. jako wielkość podana w stopniach, minutach, sekundach...\n",
        "    return f'Wspolrzedne wynoszą: x = {self.x}, y = {self.y}'\n",
        "\n",
        "  def __repr__(self): # tak obiekt tej klasy będzie reprezentowany, jednoznaczna wartość\n",
        "    return  f'({self.x},{self.y})'\n",
        "\n",
        "  def __sub__(self, kolejnyPunkt):\n",
        "    return Punkt(self.x - kolejnyPunkt.x, self.y - kolejnyPunkt.y)\n",
        "\n",
        "  def __add__(self, kolejnyPunkt):\n",
        "    if type(kolejnyPunkt) == tuple:   # uwzględnij że dane mogą miec typ krotka\n",
        "      return Punkt(self.x + kolejnyPunkt[0], self.y + kolejnyPunkt[1])\n",
        "    else:\n",
        "      return Punkt(self.x + kolejnyPunkt.x, self.y + kolejnyPunkt.y)"
      ],
      "metadata": {
        "id": "vzl1tV8FoAsG"
      },
      "execution_count": null,
      "outputs": []
    },
    {
      "cell_type": "code",
      "source": [
        "p5 = Punkt(10,20)\n",
        "p6 = (100,200)\n",
        "p5+p6"
      ],
      "metadata": {
        "colab": {
          "base_uri": "https://localhost:8080/"
        },
        "id": "K-5UfwVCoqIe",
        "outputId": "b2f59ec5-2a26-4638-bd24-e36b5fd20f26"
      },
      "execution_count": null,
      "outputs": [
        {
          "output_type": "execute_result",
          "data": {
            "text/plain": [
              "(110,220)"
            ]
          },
          "metadata": {},
          "execution_count": 71
        }
      ]
    },
    {
      "cell_type": "markdown",
      "source": [
        "4. Często podajemy własnosc okreslającą długosc, W tym celu utworzymy metodę specjalną **\\__len__**, przyjmijmy że w naszym wypadku dlugosc to odlegosc punktu od poczatka ukladu wspolrzednych opisana wzorem: sqrt(x^2+y^2)"
      ],
      "metadata": {
        "id": "tqFEEcQRrV8m"
      }
    },
    {
      "cell_type": "code",
      "source": [
        "import math\n",
        "\n",
        "class Punkt:\n",
        "  def __init__(self,x,y):\n",
        "    self.x = int(x) # wspolrzedna x\n",
        "    self.y = int(y) # wspolrzedna y\n",
        "\n",
        "  def __str__(self): # tak obiekt będzie wyświetlany, przy użyciu print, to czytelna dla użytkownika wartość np. podana w określonych jednostkach\n",
        "    return f'Wspolrzedne wynoszą: x = {self.x}, y = {self.y}'\n",
        "\n",
        "  def __repr__(self): # tak obiekt tej klasy będzie reprezentowany, jednoznaczna wartość\n",
        "    return  f'({self.x},{self.y})'\n",
        "\n",
        "  def __sub__(self, kolejnyPunkt):\n",
        "    return Punkt(self.x - kolejnyPunkt.x, self.y - kolejnyPunkt.y)\n",
        "\n",
        "  def __add__(self, kolejnyPunkt):\n",
        "    if type(kolejnyPunkt) == tuple:   # uwzględnij że dane mogą miec typ krotka\n",
        "      return Punkt(self.x + kolejnyPunkt[0], self.y + kolejnyPunkt[1])\n",
        "    else:\n",
        "      return Punkt(self.x + kolejnyPunkt.x, self.y + kolejnyPunkt.y)\n",
        "\n",
        "  def __len__(self):\n",
        "      return int(math.sqrt(self.x**2+self.y**2))   # uwaga zaokrągla wynik do liczby całkowitej\n"
      ],
      "metadata": {
        "id": "RiFpugrrWPBV"
      },
      "execution_count": null,
      "outputs": []
    },
    {
      "cell_type": "code",
      "source": [
        "p7 = Punkt(0,10)\n",
        "len(p7)\n"
      ],
      "metadata": {
        "id": "2OjSF5wtBw0X",
        "colab": {
          "base_uri": "https://localhost:8080/"
        },
        "outputId": "94cb8e8f-8a3d-4826-9e32-d06b89a4fe4f"
      },
      "execution_count": null,
      "outputs": [
        {
          "output_type": "execute_result",
          "data": {
            "text/plain": [
              "10"
            ]
          },
          "metadata": {},
          "execution_count": 84
        }
      ]
    },
    {
      "cell_type": "code",
      "source": [
        "p8 = Punkt(1,1)\n",
        "len(p8)"
      ],
      "metadata": {
        "colab": {
          "base_uri": "https://localhost:8080/"
        },
        "id": "QIjCMs6SuTk9",
        "outputId": "0aef02fe-f562-411e-8816-2fe1c87d8342"
      },
      "execution_count": null,
      "outputs": [
        {
          "output_type": "execute_result",
          "data": {
            "text/plain": [
              "1"
            ]
          },
          "metadata": {},
          "execution_count": 85
        }
      ]
    },
    {
      "cell_type": "markdown",
      "source": [
        "## **2. Testy jednostkowe - pakiet unittest**\n",
        "\n",
        "### **Zadanie 1 . Wykonaj test jednostkowy sprawdzający poprawność wyznaczania odległosci punktu od początku układu współrzędnych.**\n",
        "\n",
        "Do wykonania testu wykorzystaj pakiet **unittest** , zwróć uwagę na 5 charakterystycznych kroków, które powinienieś wykonać dla poprawnej implementacji testu"
      ],
      "metadata": {
        "id": "-Qu8OgPQ_riB"
      }
    },
    {
      "cell_type": "code",
      "source": [
        "import unittest\n",
        "print(dir(unittest))"
      ],
      "metadata": {
        "colab": {
          "base_uri": "https://localhost:8080/"
        },
        "id": "4MRSEC4Xob3w",
        "outputId": "dc8b88ec-de66-44a1-d309-709fa07fe539"
      },
      "execution_count": 4,
      "outputs": [
        {
          "output_type": "stream",
          "name": "stdout",
          "text": [
            "['BaseTestSuite', 'FunctionTestCase', 'IsolatedAsyncioTestCase', 'SkipTest', 'TestCase', 'TestLoader', 'TestProgram', 'TestResult', 'TestSuite', 'TextTestResult', 'TextTestRunner', '_TextTestResult', '__all__', '__builtins__', '__cached__', '__dir__', '__doc__', '__file__', '__getattr__', '__loader__', '__name__', '__package__', '__path__', '__spec__', '__unittest', 'addModuleCleanup', 'case', 'defaultTestLoader', 'expectedFailure', 'findTestCases', 'getTestCaseNames', 'installHandler', 'load_tests', 'loader', 'main', 'makeSuite', 'registerResult', 'removeHandler', 'removeResult', 'result', 'runner', 'signals', 'skip', 'skipIf', 'skipUnless', 'suite', 'util']\n"
          ]
        }
      ]
    },
    {
      "cell_type": "code",
      "source": [
        "### Przygotuj dane testowe, dla których znasz poprawny wynik algorytmu\n",
        "### np. wiesz że odległość punktu o współrzędnych (10,10) do (0,0) wynosi 14\n",
        "### Uwaga: możesz wprowadzić wiele testów, każdy jako niezależna metoda\n",
        "\n",
        "class TestLen(unittest.TestCase):  # 1. Utwórz klasę która dziedziczy po klasie TestCase\n",
        "  def test_1(self):  # 2. Utwórz metodę z testem jednostkowym\n",
        "    result_test = len(Punkt(10,10)) # 3. Na danych testowych (znane dane) uruchom testowany kod\n",
        "    result_correct = 14 # znany, poprawny wynik dla danych testowych\n",
        "    self.assertEqual(result_test, result_correct, \"Should be 14\") # 4. Porównaj dane wyjściowe z poprawnym wynikiem\n",
        "\n",
        "# 5. Uruchom test/-y\n",
        "unittest.main(argv=[''], verbosity=2, exit=False)"
      ],
      "metadata": {
        "id": "DKm6RDOJvDUu",
        "colab": {
          "base_uri": "https://localhost:8080/"
        },
        "outputId": "f0df3392-177a-4251-8d99-234b075c76cd"
      },
      "execution_count": 5,
      "outputs": [
        {
          "output_type": "stream",
          "name": "stderr",
          "text": [
            "test_1 (__main__.TestLen) ... ERROR\n",
            "\n",
            "======================================================================\n",
            "ERROR: test_1 (__main__.TestLen)\n",
            "----------------------------------------------------------------------\n",
            "Traceback (most recent call last):\n",
            "  File \"<ipython-input-5-d50778e18adc>\", line 7, in test_1\n",
            "    result_test = len(Punkt(10,10)) # 3. Na danych testowych (znane dane) uruchom testowany kod\n",
            "NameError: name 'Punkt' is not defined\n",
            "\n",
            "----------------------------------------------------------------------\n",
            "Ran 1 test in 0.003s\n",
            "\n",
            "FAILED (errors=1)\n"
          ]
        },
        {
          "output_type": "execute_result",
          "data": {
            "text/plain": [
              "<unittest.main.TestProgram at 0x7fad1429dd50>"
            ]
          },
          "metadata": {},
          "execution_count": 5
        }
      ]
    },
    {
      "cell_type": "code",
      "source": [
        "import unittest\n",
        "import math\n",
        "\n",
        "class Punkt:\n",
        "    \"\"\"Reprezentuje punkt w dwuwymiarowym układzie współrzędnych.\"\"\"\n",
        "\n",
        "    def __init__(self, x, y):\n",
        "        \"\"\"\n",
        "        Inicjalizuje punkt o zadanych współrzędnych.\n",
        "\n",
        "        Args:\n",
        "            x (float): Współrzędna x punktu.\n",
        "            y (float): Współrzędna y punktu.\n",
        "        \"\"\"\n",
        "        self.x = x\n",
        "        self.y = y\n",
        "\n",
        "    def odleglosc(self):\n",
        "        \"\"\"\n",
        "        Oblicza odległość punktu od początku układu współrzędnych.\n",
        "        (korzysta z twierdzenia Pitagorasa)\n",
        "        Returns:\n",
        "            float: Odległość od początku układu współrzędnych.\n",
        "        \"\"\"\n",
        "        return math.sqrt(self.x**2 + self.y**2)\n",
        "\n",
        "class TestLen(unittest.TestCase):\n",
        "    \"\"\"Zestaw testów dla funkcji odleglosc klasy Punkt.\"\"\"\n",
        "\n",
        "    def test_1(self):\n",
        "        \"\"\"\n",
        "        Testuje czy odległość punktu (10,10) od początku układu współrzędnych jest prawidłowo obliczana.\n",
        "        \"\"\"\n",
        "        punkt = Punkt(10, 10)\n",
        "        result_test = punkt.odleglosc()\n",
        "        result_correct = 14\n",
        "        self.assertAlmostEqual(result_test, result_correct, places=0, msg=\"Should be ~14\")\n",
        "\n",
        "    def test_2(self):\n",
        "        \"\"\"\n",
        "        Testuje czy odległość punktu (-7,-7) od początku układu współrzędnych jest prawidłowo obliczana.\n",
        "        \"\"\"\n",
        "        punkt = Punkt(-7, -7)\n",
        "        result_test = punkt.odleglosc()\n",
        "        result_correct = 10\n",
        "        self.assertAlmostEqual(result_test, result_correct, places=0, msg=\"Should be ~10\")\n",
        "\n",
        "if __name__ == '__main__':\n",
        "    unittest.main(argv=[''], verbosity=2, exit=False)"
      ],
      "metadata": {
        "colab": {
          "base_uri": "https://localhost:8080/"
        },
        "id": "RqkC3OA5k5fx",
        "outputId": "a3382a5a-a160-4be3-fd08-e4618e0c0e9d"
      },
      "execution_count": 16,
      "outputs": [
        {
          "output_type": "stream",
          "name": "stderr",
          "text": [
            "test_1 (__main__.TestLen)\n",
            "Testuje czy odległość punktu (10,10) od początku układu współrzędnych jest prawidłowo obliczana. ... ok\n",
            "test_2 (__main__.TestLen)\n",
            "Testuje czy odległość punktu (-7,-7) od początku układu współrzędnych jest prawidłowo obliczana. ... ok\n",
            "\n",
            "----------------------------------------------------------------------\n",
            "Ran 2 tests in 0.010s\n",
            "\n",
            "OK\n"
          ]
        }
      ]
    },
    {
      "cell_type": "markdown",
      "source": [
        "## **Czy w python instancja danej klasy (obiekt) może być funkcją?**\n",
        "Tak to możliwe, umożliwia to metoda magiczna o nazwie $__call__$, pozwala na uruchomienie instancji klasy, tak jakby była funkcją, nie zawsze modyfikując samą instancję. Porównaj wyniki $__init__ oraz __call__$, zwróć uwagę na sposób użycia. Zwróc uwagę na brak implementacji $__str__$"
      ],
      "metadata": {
        "id": "u01pewe4AOQa"
      }
    },
    {
      "cell_type": "code",
      "source": [
        "class Punkt2:\n",
        "  def __init__(self,x=0,y=0):   # ustawiono parametry domyślne\n",
        "    self.x = int(x) # wspolrzedna x\n",
        "    self.y = int(y) # wspolrzedna y\n",
        "\n",
        "  def __repr__(self): # tak obiekt tej klasy będzie reprezentowany, jednoznaczna wartość\n",
        "    return f'({self.x},{self.y})'\n",
        "\n",
        "  def __call__(self, x=0, y=0):\n",
        "    self.x = int(x) # wspolrzedna x\n",
        "    self.y = int(y) # wspolrzedna y\n",
        "    return (self.x,self.y)\n",
        "\n"
      ],
      "metadata": {
        "id": "qBSULYm1AJfk"
      },
      "execution_count": null,
      "outputs": []
    },
    {
      "cell_type": "code",
      "source": [
        "# gdy nie ma zaimplementowanej metody __str__  używając print() widzimy rezultat metody __rep__\n",
        "\n",
        "moj_punkt_start = Punkt2()\n",
        "print(moj_punkt_start)\n"
      ],
      "metadata": {
        "colab": {
          "base_uri": "https://localhost:8080/"
        },
        "id": "eGyE3CqbHRLi",
        "outputId": "4b33831a-ea5f-4f93-8bcd-c7543471925d"
      },
      "execution_count": null,
      "outputs": [
        {
          "output_type": "stream",
          "name": "stdout",
          "text": [
            "(0,0)\n"
          ]
        }
      ]
    },
    {
      "cell_type": "code",
      "source": [
        "# a tak działa __call__,\n",
        "moj_punkt_start()  # wywołanie jak w funkcji"
      ],
      "metadata": {
        "colab": {
          "base_uri": "https://localhost:8080/"
        },
        "id": "PJ7fZ4PGEhoT",
        "outputId": "5a5c2d72-4580-42a2-fadf-920fba6d3cae"
      },
      "execution_count": null,
      "outputs": [
        {
          "output_type": "execute_result",
          "data": {
            "text/plain": [
              "(0, 0)"
            ]
          },
          "metadata": {},
          "execution_count": 90
        }
      ]
    },
    {
      "cell_type": "code",
      "source": [
        "moj_punkt_start = Punkt2(10,20)\n",
        "print(moj_punkt_start)"
      ],
      "metadata": {
        "colab": {
          "base_uri": "https://localhost:8080/"
        },
        "id": "2xxa7BAAIg64",
        "outputId": "63954f57-b7ec-4324-ff74-73ad668efdd6"
      },
      "execution_count": null,
      "outputs": [
        {
          "output_type": "stream",
          "name": "stdout",
          "text": [
            "(10,20)\n"
          ]
        }
      ]
    },
    {
      "cell_type": "code",
      "source": [
        "# tak działa __call__,\n",
        "moj_punkt_start(100,100)  # wywołanie jak w funkcji"
      ],
      "metadata": {
        "colab": {
          "base_uri": "https://localhost:8080/"
        },
        "id": "D9pzP-0NJN1B",
        "outputId": "43e9557c-ceb9-4853-a9db-3baf34823ecb"
      },
      "execution_count": null,
      "outputs": [
        {
          "output_type": "execute_result",
          "data": {
            "text/plain": [
              "(100, 100)"
            ]
          },
          "metadata": {},
          "execution_count": 92
        }
      ]
    },
    {
      "cell_type": "code",
      "source": [
        "# można również wywołać bezpośrednio metodę __call__ na obiekcie\n",
        "moj_punkt_start.__call__(100,100)"
      ],
      "metadata": {
        "colab": {
          "base_uri": "https://localhost:8080/"
        },
        "id": "T0uQAijB2cNL",
        "outputId": "4112ba7c-9637-4e44-ec38-9be5fcc9ad22"
      },
      "execution_count": null,
      "outputs": [
        {
          "output_type": "execute_result",
          "data": {
            "text/plain": [
              "(100, 100)"
            ]
          },
          "metadata": {},
          "execution_count": 93
        }
      ]
    },
    {
      "cell_type": "markdown",
      "metadata": {
        "id": "kXP0KyVt55Uj"
      },
      "source": [
        "### **Zadanie 2**\n",
        "Zapoznaj się z przykładem klasy opisującej długość geograficzną"
      ]
    },
    {
      "cell_type": "code",
      "source": [
        "import math\n",
        "class DlugoscGeo:\n",
        "  def __init__(self,d):\n",
        "    self.d = float(d) # długość geograficzna  podana w stopniach dziesiętnych\n",
        "\n",
        "  def __str__(self): # tak obiekt będzie wyświetlany, przy użyciu print, to czytelna dla użytkownika wartość np. jako wielkość podana w stopniach, minutach, sekundach...\n",
        "    Dd = int(self.d)\n",
        "    Md = int(abs(self.d) * 60) % 60\n",
        "    Sd = round((abs(self.d) * 3600) % 60)\n",
        "    Ud = 'E' if self.d > 0 else 'W'\n",
        "    return 'długość: {}°{}\\'{}\"{}'.format(Dd, Md, Sd, Ud)"
      ],
      "metadata": {
        "id": "u9ftmp69tmTT"
      },
      "execution_count": 1,
      "outputs": []
    },
    {
      "cell_type": "code",
      "source": [
        "d1 =  DlugoscGeo(53.132398)  # wpółrzędne geograficzne Białegostoku\n",
        "print(d1)"
      ],
      "metadata": {
        "colab": {
          "base_uri": "https://localhost:8080/"
        },
        "id": "0fs0BHNXo3IC",
        "outputId": "52b2990e-83d2-4108-e902-1c8f031229f4"
      },
      "execution_count": 2,
      "outputs": [
        {
          "output_type": "stream",
          "name": "stdout",
          "text": [
            "długość: 53°7'57\"E\n"
          ]
        }
      ]
    },
    {
      "cell_type": "markdown",
      "source": [
        "a) Wzorując się na w/w przykładzie utwórz klasę **PunktMap** która posiada atrybuty sz- szerokosc geograficzną d - długość geograficzną, utworz metody magiczne $__str__, __rep__$, utworz obiekt **bstok** o wpółrzędnych geograficznych Białegostoku (53.132398, 23.159168) wyrażonych w stopniach dziesiętnych\n"
      ],
      "metadata": {
        "id": "8TY8Eha_n5Lo"
      }
    },
    {
      "cell_type": "code",
      "source": [],
      "metadata": {
        "id": "3URp7G-LqtH8"
      },
      "execution_count": null,
      "outputs": []
    },
    {
      "cell_type": "markdown",
      "source": [
        "b) dodaj do klasy, metode **$__sub__$**, która obliczy odleglosc miedzy dwoma punktami na mapie\n",
        "\n",
        "UWAGA: odległość liniowa pomiędzy punktami a i b na mapie, jak to zrobić korzystając z twierdzenia Pitagorasa zobacz tu: https://skuteczneraporty.pl/blog/mapa-polski-excel-jak-obliczyc-odleglosc-liniowa-pomiedzy-punktami-na-mapie/\n",
        "a - punkt na mapie o pewnych współrzędnych (x, y)\n",
        "b - punkt na mapie o innych niż punkt a współrzędnych (x, y)"
      ],
      "metadata": {
        "id": "_hWBgVYIuGaW"
      }
    },
    {
      "cell_type": "code",
      "source": [
        "\n"
      ],
      "metadata": {
        "id": "Vu8tdyFUt9sW"
      },
      "execution_count": null,
      "outputs": []
    },
    {
      "cell_type": "markdown",
      "source": [
        "c) Wykonaj test programu mierząc odległość z Białegostoku do Warszawy (przyjmij wartość 176,28 km). Współrzędne Warszawy  (52.231924, 21.006727) w stopniach dziesiętnych"
      ],
      "metadata": {
        "id": "iyObDDLkv27O"
      }
    },
    {
      "cell_type": "code",
      "source": [],
      "metadata": {
        "id": "VGKHEkuGqqWU"
      },
      "execution_count": null,
      "outputs": []
    },
    {
      "cell_type": "markdown",
      "source": [
        "# **3. Dekoratory - przykłady**"
      ],
      "metadata": {
        "id": "DXufje4lJ-FQ"
      }
    },
    {
      "cell_type": "markdown",
      "source": [
        "### Wiesz już, że w Python instancja danej klasy (obiekt) może być jak funkcja, przypomnijmy zatem w jaki sposób dekorowałeś funkcje w python\n",
        "\n"
      ],
      "metadata": {
        "id": "SuvblgAS_mFr"
      }
    },
    {
      "cell_type": "code",
      "source": [
        "# mamy 2 proste funkcje do modyfikacji\n",
        "def licz1(x,y):\n",
        "    print('Wynik dodawania: ', x+y)\n",
        "\n",
        "def licz2(x,y):\n",
        "    print('Wynik mnożenia: ', x*y)\n"
      ],
      "metadata": {
        "id": "O1a04psYNi9u"
      },
      "execution_count": null,
      "outputs": []
    },
    {
      "cell_type": "code",
      "source": [
        "licz1(20,2)\n",
        "licz2(20,2)"
      ],
      "metadata": {
        "colab": {
          "base_uri": "https://localhost:8080/"
        },
        "id": "rpeoRB9rPDzO",
        "outputId": "47566619-850e-41b2-d136-2d2811af2f35"
      },
      "execution_count": null,
      "outputs": [
        {
          "output_type": "stream",
          "name": "stdout",
          "text": [
            "Wynik dodawania:  22\n",
            "Wynik mnożenia:  40\n"
          ]
        }
      ]
    },
    {
      "cell_type": "code",
      "source": [
        "# chcemy rozszerzyć funkcjonalności w/w funkcji licz1() i licz2() o jeszcze jedną operację np. odejmowanie\n",
        "\n",
        "# utwórz funkcję która udekoruje starą wersję funkcji\n",
        "def decor(funk,*args):  # pracujemy na liczbach, więc nazwy zmiennych nie są tu ważne (dlatego args)\n",
        "  def dodana_konfiguracja(*args):\n",
        "    funk(*args)\n",
        "    print('Wynik odejmowania: ', args[0]-args[1])\n",
        "  return dodana_konfiguracja\n",
        "#\n",
        "@decor\n",
        "def licz1(x,y):\n",
        "    print('Wynik dodawania: ', x+y)\n",
        "\n",
        "@decor\n",
        "def licz2(x,y):\n",
        "    print('Wynik mnożenia: ', x*y)\n",
        "\n",
        "###########################################\n",
        "licz1(20,2) # udekorowana/udoskonalona wersja funkcji licz1()\n",
        "###########################################\n",
        "licz2(20,2) # udekorowana/udoskonalona wersja funkcji licz2()"
      ],
      "metadata": {
        "colab": {
          "base_uri": "https://localhost:8080/"
        },
        "id": "zzjy639uLWGH",
        "outputId": "bca0bce8-7958-48e2-f200-de0924bed09c"
      },
      "execution_count": null,
      "outputs": [
        {
          "output_type": "stream",
          "name": "stdout",
          "text": [
            "Wynik dodawania:  22\n",
            "Wynik odejmowania:  18\n",
            "Wynik mnożenia:  40\n",
            "Wynik odejmowania:  18\n"
          ]
        }
      ]
    },
    {
      "cell_type": "markdown",
      "source": [
        "### Spróbujmy teraz udekorować pewną funkcję, ale....dekorator będzie Klasą"
      ],
      "metadata": {
        "id": "KRSkzkTuQW71"
      }
    },
    {
      "cell_type": "code",
      "source": [
        "# mamy funkcję do modyfikacji/dekoracji\n",
        "def licz3(x,y):\n",
        "    print('Wynik dodawania: ', x+y)\n",
        "\n",
        "#############\n",
        "licz3(2,3)"
      ],
      "metadata": {
        "colab": {
          "base_uri": "https://localhost:8080/"
        },
        "id": "L78u5JqqX4cc",
        "outputId": "0d43a38f-9b38-4bfc-c488-39f560ca2be7"
      },
      "execution_count": null,
      "outputs": [
        {
          "output_type": "stream",
          "name": "stdout",
          "text": [
            "Wynik dodawania:  5\n"
          ]
        }
      ]
    },
    {
      "cell_type": "code",
      "source": [
        "# tworzymy dekorator w formie klasy o nazwie Dekoruj\n",
        "\n",
        "class Dekoruj():\n",
        "    def __init__(self, func):  # w argumencie jest funkcja, czyli to tu złapiemy funkcje np. licz3 do przetworzenia\n",
        "        self.func = func\n",
        "\n",
        "    def __call__(self, *args):   # używamy __call__\n",
        "        self.func(*args)\n",
        "        print('Wynik potegowania: ', args[0] * args[1])\n",
        "\n",
        "\n",
        "\n",
        "@Dekoruj\n",
        "def licz3(x,y):\n",
        "    print('Wynik dodawania: ', x+y)\n",
        "\n",
        "########################\n",
        "licz3(2,3)"
      ],
      "metadata": {
        "colab": {
          "base_uri": "https://localhost:8080/"
        },
        "id": "bEJqsii3YRRr",
        "outputId": "bf9fd774-95bf-4d1b-f637-4cf5ad776fcd"
      },
      "execution_count": null,
      "outputs": [
        {
          "output_type": "stream",
          "name": "stdout",
          "text": [
            "Wynik dodawania:  5\n",
            "Wynik potegowania:  6\n"
          ]
        }
      ]
    },
    {
      "cell_type": "markdown",
      "source": [
        "### **Zadanie 3**\n",
        "Utwórz dekorator w formie klasy o nazwie MierzCzas, zmierz czas wykonania algorytmu dla poniższej funkcji rekurencyjnej (dla 20!), wykorzystaj możliwości pakietu datatime (w przypadku problemu, patrz przykłady wykład 6)"
      ],
      "metadata": {
        "id": "ONMIPAMhIMTg"
      }
    },
    {
      "cell_type": "code",
      "source": [
        "def silnia(n):\n",
        "  if n < 2:\n",
        "    return 1\n",
        "  return n*silnia(n-1)"
      ],
      "metadata": {
        "id": "sKl_zco_KIbx"
      },
      "execution_count": null,
      "outputs": []
    },
    {
      "cell_type": "code",
      "source": [
        "### Sprawdzanie poprawności kodu na danych testowych\n",
        "assert silnia(3) == 6, 'Funkcja nie działa poprawnie'"
      ],
      "metadata": {
        "id": "_rayKTRoKrfp"
      },
      "execution_count": null,
      "outputs": []
    },
    {
      "cell_type": "code",
      "source": [],
      "metadata": {
        "id": "ofw2H75vLc2R"
      },
      "execution_count": null,
      "outputs": []
    },
    {
      "cell_type": "markdown",
      "source": [
        "# **4. Dziedziczenie, hermetyzacja i polimorfizm - przykład**\n",
        "\n",
        "### Tworzymy klasę Student"
      ],
      "metadata": {
        "id": "krZC4ff8Llhp"
      }
    },
    {
      "cell_type": "code",
      "source": [
        "class Student:\n",
        "\n",
        "   znizka_kino = 50  # atrybut klasy, bo to cecha wszystkich obiektów klasy Student\n",
        "\n",
        "   def __init__(self, nazwisko, nrindeksu):\n",
        "       self.__nazwisko = nazwisko # pole \"prywatne\", nie widoczne poza klasą\n",
        "       self.nrindeksu = nrindeksu  # pole \"publiczne\"\n",
        "\n",
        "   def moje_nazwisko(self):\n",
        "       print('Moje nazwisko to: ',self.__nazwisko)\n",
        "\n",
        "   def zmien_nazwisko(self, nazwisko):\n",
        "       self.__nazwisko = nazwisko\n",
        "\n",
        "   def lubisz_studia(self):\n",
        "       print('Nie wiem')\n"
      ],
      "metadata": {
        "id": "PHuGXc2bMOHZ"
      },
      "execution_count": null,
      "outputs": []
    },
    {
      "cell_type": "markdown",
      "source": [
        "### **Pola prywatne, publiczne**\n",
        "\n",
        "Zapoznaj się i zapamiętaj różnicę w odwoływaniu się i dostępie do pól: prywatne vs publiczne:"
      ],
      "metadata": {
        "id": "FpzcSRJ2wA4L"
      }
    },
    {
      "cell_type": "code",
      "source": [
        "student1 = Student(\"Kowalski\", '0001')\n",
        "print(student1.nrindeksu)   # to pole publiczne  takie odwołanie jest możliwe,\n"
      ],
      "metadata": {
        "colab": {
          "base_uri": "https://localhost:8080/"
        },
        "id": "QsJ2o0toM7VC",
        "outputId": "94661b46-731f-4453-85cb-c093e64e1eef"
      },
      "execution_count": null,
      "outputs": [
        {
          "output_type": "stream",
          "name": "stdout",
          "text": [
            "0001\n"
          ]
        }
      ]
    },
    {
      "cell_type": "code",
      "source": [
        "student1.nrindeksu = '0002'\n",
        "print(student1.nrindeksu)"
      ],
      "metadata": {
        "colab": {
          "base_uri": "https://localhost:8080/"
        },
        "id": "osTDnyYXNSHi",
        "outputId": "0b2478ed-1f7d-4317-c9db-f88edb6f7f8e"
      },
      "execution_count": null,
      "outputs": [
        {
          "output_type": "stream",
          "name": "stdout",
          "text": [
            "0002\n"
          ]
        }
      ]
    },
    {
      "cell_type": "markdown",
      "source": [],
      "metadata": {
        "id": "kvZSrzwpr8hC"
      }
    },
    {
      "cell_type": "code",
      "source": [
        "# print(student.__nazwisko)  # to pole prywatne  takie odwołanie nie jest możliwe,\n",
        "# błąd: AttributeError: 'Student' object has no attribute '__nazwisko'\n",
        "# nie chcemy, aby zeby ktos ją zmienił poza klasą,"
      ],
      "metadata": {
        "id": "qx1QGqGvNmEj"
      },
      "execution_count": null,
      "outputs": []
    },
    {
      "cell_type": "code",
      "source": [
        "print(student1.__nazwisko)"
      ],
      "metadata": {
        "colab": {
          "base_uri": "https://localhost:8080/",
          "height": 165
        },
        "id": "TxFz0F_tvlOE",
        "outputId": "7b2492a8-68ee-4373-8e0e-39fc7d2bc571"
      },
      "execution_count": null,
      "outputs": [
        {
          "output_type": "error",
          "ename": "AttributeError",
          "evalue": "ignored",
          "traceback": [
            "\u001b[0;31m---------------------------------------------------------------------------\u001b[0m",
            "\u001b[0;31mAttributeError\u001b[0m                            Traceback (most recent call last)",
            "\u001b[0;32m<ipython-input-35-966a9bea6cf8>\u001b[0m in \u001b[0;36m<cell line: 1>\u001b[0;34m()\u001b[0m\n\u001b[0;32m----> 1\u001b[0;31m \u001b[0mprint\u001b[0m\u001b[0;34m(\u001b[0m\u001b[0mstudent1\u001b[0m\u001b[0;34m.\u001b[0m\u001b[0m__nazwisko\u001b[0m\u001b[0;34m)\u001b[0m\u001b[0;34m\u001b[0m\u001b[0;34m\u001b[0m\u001b[0m\n\u001b[0m",
            "\u001b[0;31mAttributeError\u001b[0m: 'Student' object has no attribute '__nazwisko'"
          ]
        }
      ]
    },
    {
      "cell_type": "code",
      "source": [
        "student1.__nazwisko = \"Kwiatkowska\"\n",
        "student1.moje_nazwisko()"
      ],
      "metadata": {
        "colab": {
          "base_uri": "https://localhost:8080/"
        },
        "id": "_Tr74i0IM93S",
        "outputId": "b19aa848-aad6-49fb-d196-63355f0e96ab"
      },
      "execution_count": null,
      "outputs": [
        {
          "output_type": "stream",
          "name": "stdout",
          "text": [
            "Moje nazwisko to:  Kowalski\n"
          ]
        }
      ]
    },
    {
      "cell_type": "code",
      "source": [
        "student1.zmien_nazwisko(\"Kwiatkowska\")  # ale mogę utworzyć metodę która pozwoli zmienić wartość\n",
        "student1.moje_nazwisko()"
      ],
      "metadata": {
        "colab": {
          "base_uri": "https://localhost:8080/"
        },
        "id": "QGBD66AixYNl",
        "outputId": "689a2040-c88b-4649-fbd2-f72f1c3ba399"
      },
      "execution_count": null,
      "outputs": [
        {
          "output_type": "stream",
          "name": "stdout",
          "text": [
            "Moje nazwisko to:  Kwiatkowska\n"
          ]
        }
      ]
    },
    {
      "cell_type": "code",
      "source": [],
      "metadata": {
        "id": "U-b-V39b4xFc"
      },
      "execution_count": null,
      "outputs": []
    },
    {
      "cell_type": "markdown",
      "source": [
        "### **Dziedziczenie - nadpisywanie metod**\n",
        "\n",
        "Uwaga: aby odwołać się do konstruktora Klasy bazowej,\n",
        "\n",
        "użyj funkcji super,  **super.\\__init__(...)** (zwróć uwagę na brak self) lub\n",
        "\n",
        " podaj explicite nazwę klasy rodzica **NazwaKlasyBazowej.\\__init__(self,...)**\n",
        "\n",
        "\n"
      ],
      "metadata": {
        "id": "yJvx10Zwy4TD"
      }
    },
    {
      "cell_type": "code",
      "source": [
        "###  Klasa pochodna 1\n",
        "class SuperStudent(Student):  # klasa SuperStudent dziedziczy po klasie Student\n",
        "\n",
        "  def __init__(self, nazwisko, nrindeksu, stypendium):\n",
        "        super().__init__(nazwisko, nrindeksu) #  # Sposób I wywołania konstruktora z klasy Student, brak\n",
        "        self.stypendium = stypendium  # wzbogacamy o dodatkowe dane tj. stypendium\n",
        "\n",
        "  def lubisz_studia(self):\n",
        "        Student.lubisz_studia(self)       # nadpisanie metody klasy bazowej\n",
        "        print('Oczywiście')\n",
        "\n"
      ],
      "metadata": {
        "id": "raxzxHuYMEVs"
      },
      "execution_count": null,
      "outputs": []
    },
    {
      "cell_type": "code",
      "source": [
        "student1 = SuperStudent('SuperKowalski','0003','tak')\n",
        "student1.lubisz_studia()"
      ],
      "metadata": {
        "colab": {
          "base_uri": "https://localhost:8080/"
        },
        "id": "6gENzQkB6A5X",
        "outputId": "a70ab3cf-043f-4377-e71a-32e9ece75f01"
      },
      "execution_count": null,
      "outputs": [
        {
          "output_type": "stream",
          "name": "stdout",
          "text": [
            "Nie wiem\n",
            "Oczywiście\n"
          ]
        }
      ]
    },
    {
      "cell_type": "code",
      "source": [
        "### Klasa pochodna 2\n",
        "class SlabyStudent(Student):    # klasa SlabyStudent dziedziczy po klasie Student\n",
        "\n",
        "   def __init__(self, nazwisko, nrindeksu, powtarzany_przedmiot):\n",
        "       Student.__init__(self, nazwisko, nrindeksu)  # Sposób II wywołania konstruktora z klasy Student\n",
        "       self.powtarzany_przedmiot = powtarzany_przedmiot # wzbogacamy o dodatkowe dane\n",
        "\n",
        "   def lubisz_studia(self):\n",
        "       Student.lubisz_studia(self)    # nadpisanie metody klasy bazowej\n",
        "       print('Lubię, bo muszę !')"
      ],
      "metadata": {
        "id": "Dc3r4Shz0_Di"
      },
      "execution_count": null,
      "outputs": []
    },
    {
      "cell_type": "code",
      "source": [
        "student2 = SlabyStudent('SlabyKowalski', '0004','Jezyk Polski')\n",
        "student2.lubisz_studia()\n"
      ],
      "metadata": {
        "colab": {
          "base_uri": "https://localhost:8080/"
        },
        "id": "zU1WEp5k0_ft",
        "outputId": "a7a53caf-db9e-402f-f320-853370e76542"
      },
      "execution_count": null,
      "outputs": [
        {
          "output_type": "stream",
          "name": "stdout",
          "text": [
            "Nie wiem\n",
            "Lubię, bo muszę !\n"
          ]
        }
      ]
    },
    {
      "cell_type": "code",
      "source": [
        "student2 = SlabyStudent('SlabyKowalski', '0004','Jezyk Polski')\n",
        "student2.lubisz_studia()"
      ],
      "metadata": {
        "colab": {
          "base_uri": "https://localhost:8080/"
        },
        "id": "ptLbKAD-4oan",
        "outputId": "c69f9c37-c0c8-45f7-eaa6-dbe0f0fe54c6"
      },
      "execution_count": null,
      "outputs": [
        {
          "output_type": "stream",
          "name": "stdout",
          "text": [
            "Nie wiem\n",
            "Lubię, bo muszę !\n"
          ]
        }
      ]
    },
    {
      "cell_type": "markdown",
      "source": [
        "### **Hermetyzacja - \"nie wszystko musi być widoczne\"**\n",
        "\n",
        "* hermetyzacja - ukrywanie implementacji\n",
        "* brak bezpośredniego dostępu do danych tylko własne metody mogą zmienić stan\n",
        "* w Pythonie jest to umowne\n"
      ],
      "metadata": {
        "id": "uaqJrRI87DFA"
      }
    },
    {
      "cell_type": "code",
      "source": [
        "class Czastka():\n",
        "\n",
        "  def __init__(self, masa0 = 1, predkosc0 = 1):\n",
        "    self.masa = masa0\n",
        "    self.predkosc = predkosc0\n",
        "    self.__oblicz_ped()   # ukrywamy pęd, obliczamy go ze wzoru\n",
        "\n",
        "  def __str__(self):\n",
        "    return 'Masa wynosi: {}, Prędkość wynosi: {}, Pęd wynosi: {}'.format(self.masa, self.predkosc, self.ped)\n",
        "\n",
        "  def __oblicz_ped(self):   # metoda prywatna\n",
        "    self.ped = self.masa * self.predkosc\n",
        ""
      ],
      "metadata": {
        "id": "xoAk6yj57kUm"
      },
      "execution_count": null,
      "outputs": []
    },
    {
      "cell_type": "code",
      "source": [
        "czasteczka1 = Czastka(10,20)\n",
        "print(czasteczka1)"
      ],
      "metadata": {
        "colab": {
          "base_uri": "https://localhost:8080/"
        },
        "id": "WhDIP5nN8yqI",
        "outputId": "7cb83fff-642f-4cff-b659-d94dd19f956e"
      },
      "execution_count": null,
      "outputs": [
        {
          "output_type": "stream",
          "name": "stdout",
          "text": [
            "Masa wynosi: 10, Prędkość wynosi: 20, Pęd wynosi: 200\n"
          ]
        }
      ]
    },
    {
      "cell_type": "code",
      "source": [
        "# Zmieniamy wartość pola masa, zwróć uwagę że wartość pędu nie ulega zmianie\n",
        "czasteczka1.masa = 0\n",
        "print(czasteczka1)"
      ],
      "metadata": {
        "colab": {
          "base_uri": "https://localhost:8080/"
        },
        "id": "q1T7GUns9lD_",
        "outputId": "f434ab7b-f9a7-4a9b-c5f8-ac179f029153"
      },
      "execution_count": null,
      "outputs": [
        {
          "output_type": "stream",
          "name": "stdout",
          "text": [
            "Masa wynosi: 0, Prędkość wynosi: 20, Pęd wynosi: 200\n"
          ]
        }
      ]
    },
    {
      "cell_type": "markdown",
      "source": [
        "### **Zadanie 4**\n",
        "Utwórz klasę o nazwie Sila, pola publiczne to tylko: masa, predkosc, czas.\n",
        "Zaimplementuj klasę i włąściwe metody, które pozwola na wyprowadzenie nastepujących informacji o utworzonym obiekcie: masa, predkosc, czas oraz dodatkowo przyspieszenie i siła"
      ],
      "metadata": {
        "id": "mC1KVCPk-P-_"
      }
    },
    {
      "cell_type": "markdown",
      "source": [
        "### **Polimorfizm - obiekty dwóch różnych klas mają wspólny zestaw metod i pól i można je używać zamiennie**\n"
      ],
      "metadata": {
        "id": "iaucxdgmAgJA"
      }
    },
    {
      "cell_type": "code",
      "source": [
        "class Litery():\n",
        "  def kontantacja(self,a,b):\n",
        "    print(a+b)\n",
        "\n",
        "Litery().kontantacja(1,2)"
      ],
      "metadata": {
        "colab": {
          "base_uri": "https://localhost:8080/"
        },
        "id": "dgJgWu_mAs64",
        "outputId": "7d6afd6c-7aea-4d22-f1fc-3d1f4c02f408"
      },
      "execution_count": null,
      "outputs": [
        {
          "output_type": "stream",
          "name": "stdout",
          "text": [
            "3\n"
          ]
        }
      ]
    },
    {
      "cell_type": "code",
      "source": [
        "Litery().kontantacja('a','b')"
      ],
      "metadata": {
        "colab": {
          "base_uri": "https://localhost:8080/"
        },
        "id": "_JdgV_PfCqH4",
        "outputId": "2edf04b0-3876-40e7-f29c-1e64dcddf91d"
      },
      "execution_count": null,
      "outputs": [
        {
          "output_type": "stream",
          "name": "stdout",
          "text": [
            "ab\n"
          ]
        }
      ]
    },
    {
      "cell_type": "code",
      "source": [
        "class Cyfry():\n",
        "  def kontantacja(self,a,b):\n",
        "    print(a+b)\n",
        "\n",
        "Cyfry().kontantacja(1,2)"
      ],
      "metadata": {
        "colab": {
          "base_uri": "https://localhost:8080/"
        },
        "id": "pPunpOy5BSSP",
        "outputId": "1a56ffe2-0d6b-4c70-b2c4-d1adaf58df97"
      },
      "execution_count": null,
      "outputs": [
        {
          "output_type": "stream",
          "name": "stdout",
          "text": [
            "3\n"
          ]
        }
      ]
    },
    {
      "cell_type": "code",
      "source": [
        "Cyfry().kontantacja('a','b')"
      ],
      "metadata": {
        "colab": {
          "base_uri": "https://localhost:8080/"
        },
        "id": "irNRn8YtCuVI",
        "outputId": "d0489bdb-a1fc-48bf-a7f4-55b41ddea900"
      },
      "execution_count": null,
      "outputs": [
        {
          "output_type": "stream",
          "name": "stdout",
          "text": [
            "ab\n"
          ]
        }
      ]
    },
    {
      "cell_type": "code",
      "source": [
        "class Cyfry1(Litery):\n",
        "  pass\n",
        "\n",
        "Cyfry1().kontantacja('k','l')\n"
      ],
      "metadata": {
        "colab": {
          "base_uri": "https://localhost:8080/"
        },
        "id": "cMVY9YGnsoDG",
        "outputId": "caa1377d-5d26-4621-ecae-bb9cc567ee3c"
      },
      "execution_count": null,
      "outputs": [
        {
          "output_type": "stream",
          "name": "stdout",
          "text": [
            "kl\n"
          ]
        }
      ]
    },
    {
      "cell_type": "markdown",
      "source": [
        "### **Zadanie 5**\n",
        "Utwórz klasę o nazwie Laczenie, która zawiera metodę suma, która pozwala niezależnie od typu danych wejściowych (set lub list) połączyć elementy:\n",
        "* 2 zbiorów w 1 zbiór\n",
        "* 2 list w 1 listę"
      ],
      "metadata": {
        "id": "JuUZdcuZDGkQ"
      }
    }
  ]
}