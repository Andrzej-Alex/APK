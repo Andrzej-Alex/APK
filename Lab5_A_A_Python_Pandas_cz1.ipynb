{
  "nbformat": 4,
  "nbformat_minor": 0,
  "metadata": {
    "anaconda-cloud": {},
    "hide_input": false,
    "kernelspec": {
      "display_name": "Python 3",
      "language": "python",
      "name": "python3"
    },
    "language_info": {
      "codemirror_mode": {
        "name": "ipython",
        "version": 3
      },
      "file_extension": ".py",
      "mimetype": "text/x-python",
      "name": "python",
      "nbconvert_exporter": "python",
      "pygments_lexer": "ipython3",
      "version": "3.7.0"
    },
    "nav_menu": {},
    "toc": {
      "colors": {
        "hover_highlight": "#DAA520",
        "running_highlight": "#FF0000",
        "selected_highlight": "#FFD700"
      },
      "moveMenuLeft": true,
      "nav_menu": {
        "height": "512px",
        "width": "252px"
      },
      "navigate_menu": true,
      "number_sections": true,
      "sideBar": true,
      "threshold": 6,
      "toc_cell": false,
      "toc_section_display": "block",
      "toc_window_display": true
    },
    "toc_position": {
      "height": "531px",
      "left": "0px",
      "right": "1030px",
      "top": "129px",
      "width": "212px"
    },
    "colab": {
      "provenance": [],
      "collapsed_sections": [
        "DOYj2ppLoGis",
        "IQfQQjDj3tRr",
        "OhTmdHtQoGiv",
        "7dLlk5kvoGix",
        "06UfXDWHoGi1",
        "uv3fmPw0oGi3"
      ],
      "include_colab_link": true
    }
  },
  "cells": [
    {
      "cell_type": "markdown",
      "metadata": {
        "id": "view-in-github",
        "colab_type": "text"
      },
      "source": [
        "<a href=\"https://colab.research.google.com/github/Andrzej-Alex/APK/blob/main/Lab5_A_A_Python_Pandas_cz1.ipynb\" target=\"_parent\"><img src=\"https://colab.research.google.com/assets/colab-badge.svg\" alt=\"Open In Colab\"/></a>"
      ]
    },
    {
      "cell_type": "markdown",
      "metadata": {
        "ExecuteTime": {
          "end_time": "2016-12-10T12:03:07.442819",
          "start_time": "2016-12-10T12:03:07.439817"
        },
        "run_control": {
          "frozen": false,
          "read_only": false
        },
        "id": "PffyjNUjoGiX"
      },
      "source": [
        "# Programowanie w Python\n",
        "Autor dr Aneta Polewko-Klim\n",
        "\n",
        "## Pandas część 1\n",
        "Homepage -http://pandas.pydata.org/  \n",
        "DataCamp web https://www.datacamp.com/community/tutorials/pandas-tutorial-dataframe-python \n",
        "\n",
        "**Additional tutorials**\n",
        "\n",
        "http://www.shanelynn.ie/summarising-aggregation-and-grouping-data-in-python-pandas/  \n"
      ]
    },
    {
      "cell_type": "markdown",
      "metadata": {
        "id": "yN3Nh9bSoGib"
      },
      "source": [
        "### Import niezbędnych bibliotek"
      ]
    },
    {
      "cell_type": "code",
      "metadata": {
        "ExecuteTime": {
          "end_time": "2017-03-04T09:34:47.337978",
          "start_time": "2017-03-04T09:34:47.333960"
        },
        "run_control": {
          "frozen": false,
          "read_only": false
        },
        "id": "VpMBms9ioGic"
      },
      "source": [
        "import pandas as pd  # biblioteka do obsługi danych w formie tabelarycznej/ramek danych\n",
        "import numpy as np   # biblioteka do obsługi danych w macierzy, wektorów, tablic\n",
        "import os  # biblioteka do obsługi plików i folderów"
      ],
      "execution_count": null,
      "outputs": []
    },
    {
      "cell_type": "code",
      "source": [
        "print(dir(pd))"
      ],
      "metadata": {
        "colab": {
          "base_uri": "https://localhost:8080/"
        },
        "id": "OVyapup4KhRx",
        "outputId": "b4694157-3e34-4f65-f7aa-fb47b867ddf3"
      },
      "execution_count": null,
      "outputs": [
        {
          "output_type": "stream",
          "name": "stdout",
          "text": [
            "['ArrowDtype', 'BooleanDtype', 'Categorical', 'CategoricalDtype', 'CategoricalIndex', 'DataFrame', 'DateOffset', 'DatetimeIndex', 'DatetimeTZDtype', 'ExcelFile', 'ExcelWriter', 'Flags', 'Float32Dtype', 'Float64Dtype', 'Float64Index', 'Grouper', 'HDFStore', 'Index', 'IndexSlice', 'Int16Dtype', 'Int32Dtype', 'Int64Dtype', 'Int64Index', 'Int8Dtype', 'Interval', 'IntervalDtype', 'IntervalIndex', 'MultiIndex', 'NA', 'NaT', 'NamedAgg', 'Period', 'PeriodDtype', 'PeriodIndex', 'RangeIndex', 'Series', 'SparseDtype', 'StringDtype', 'Timedelta', 'TimedeltaIndex', 'Timestamp', 'UInt16Dtype', 'UInt32Dtype', 'UInt64Dtype', 'UInt64Index', 'UInt8Dtype', '__all__', '__builtins__', '__cached__', '__deprecated_num_index_names', '__dir__', '__doc__', '__docformat__', '__file__', '__getattr__', '__git_version__', '__loader__', '__name__', '__package__', '__path__', '__spec__', '__version__', '_config', '_is_numpy_dev', '_libs', '_testing', '_typing', '_version', 'annotations', 'api', 'array', 'arrays', 'bdate_range', 'compat', 'concat', 'core', 'crosstab', 'cut', 'date_range', 'describe_option', 'errors', 'eval', 'factorize', 'from_dummies', 'get_dummies', 'get_option', 'infer_freq', 'interval_range', 'io', 'isna', 'isnull', 'json_normalize', 'lreshape', 'melt', 'merge', 'merge_asof', 'merge_ordered', 'notna', 'notnull', 'offsets', 'option_context', 'options', 'pandas', 'period_range', 'pivot', 'pivot_table', 'plotting', 'qcut', 'read_clipboard', 'read_csv', 'read_excel', 'read_feather', 'read_fwf', 'read_gbq', 'read_hdf', 'read_html', 'read_json', 'read_orc', 'read_parquet', 'read_pickle', 'read_sas', 'read_spss', 'read_sql', 'read_sql_query', 'read_sql_table', 'read_stata', 'read_table', 'read_xml', 'reset_option', 'set_eng_float_format', 'set_option', 'show_versions', 'test', 'testing', 'timedelta_range', 'to_datetime', 'to_numeric', 'to_pickle', 'to_timedelta', 'tseries', 'unique', 'util', 'value_counts', 'wide_to_long']\n"
          ]
        }
      ]
    },
    {
      "cell_type": "code",
      "source": [
        "'api', 'array', 'arrays', 'bdate_range', 'compat', 'concat', 'core', 'crosstab', 'cut', 'date_range', 'describe_option', 'errors', 'eval', 'factorize', 'get_dummies', 'get_option', 'infer_freq', 'interval_range', 'io', 'isna', 'isnull', 'json_normalize', 'lreshape', 'melt', 'merge', 'merge_asof', 'merge_ordered', 'notna', 'notnull', 'offsets', 'option_context', 'options', 'pandas', 'period_range', 'pivot', 'pivot_table', 'plotting', 'qcut', 'read_clipboard', 'read_csv', 'read_excel', 'read_feather', 'read_fwf', 'read_gbq', 'read_hdf', 'read_html', 'read_json', 'read_orc', 'read_parquet', 'read_pickle', 'read_sas', 'read_spss', 'read_sql', 'read_sql_query', 'read_sql_table', 'read_stata', 'read_table', 'read_xml', 'reset_option', 'set_eng_float_format', 'set_option', 'show_versions', 'test', 'testing', 'timedelta_range', 'to_datetime', 'to_numeric', 'to_pickle', 'to_timedelta', 'tseries', 'unique', 'util', 'value_counts', 'wide_to_long'"
      ],
      "metadata": {
        "id": "gLywPA-FK50R",
        "colab": {
          "base_uri": "https://localhost:8080/"
        },
        "outputId": "14953a05-5644-49b9-a805-2fc3a3628be5"
      },
      "execution_count": null,
      "outputs": [
        {
          "output_type": "execute_result",
          "data": {
            "text/plain": [
              "('api',\n",
              " 'array',\n",
              " 'arrays',\n",
              " 'bdate_range',\n",
              " 'compat',\n",
              " 'concat',\n",
              " 'core',\n",
              " 'crosstab',\n",
              " 'cut',\n",
              " 'date_range',\n",
              " 'describe_option',\n",
              " 'errors',\n",
              " 'eval',\n",
              " 'factorize',\n",
              " 'get_dummies',\n",
              " 'get_option',\n",
              " 'infer_freq',\n",
              " 'interval_range',\n",
              " 'io',\n",
              " 'isna',\n",
              " 'isnull',\n",
              " 'json_normalize',\n",
              " 'lreshape',\n",
              " 'melt',\n",
              " 'merge',\n",
              " 'merge_asof',\n",
              " 'merge_ordered',\n",
              " 'notna',\n",
              " 'notnull',\n",
              " 'offsets',\n",
              " 'option_context',\n",
              " 'options',\n",
              " 'pandas',\n",
              " 'period_range',\n",
              " 'pivot',\n",
              " 'pivot_table',\n",
              " 'plotting',\n",
              " 'qcut',\n",
              " 'read_clipboard',\n",
              " 'read_csv',\n",
              " 'read_excel',\n",
              " 'read_feather',\n",
              " 'read_fwf',\n",
              " 'read_gbq',\n",
              " 'read_hdf',\n",
              " 'read_html',\n",
              " 'read_json',\n",
              " 'read_orc',\n",
              " 'read_parquet',\n",
              " 'read_pickle',\n",
              " 'read_sas',\n",
              " 'read_spss',\n",
              " 'read_sql',\n",
              " 'read_sql_query',\n",
              " 'read_sql_table',\n",
              " 'read_stata',\n",
              " 'read_table',\n",
              " 'read_xml',\n",
              " 'reset_option',\n",
              " 'set_eng_float_format',\n",
              " 'set_option',\n",
              " 'show_versions',\n",
              " 'test',\n",
              " 'testing',\n",
              " 'timedelta_range',\n",
              " 'to_datetime',\n",
              " 'to_numeric',\n",
              " 'to_pickle',\n",
              " 'to_timedelta',\n",
              " 'tseries',\n",
              " 'unique',\n",
              " 'util',\n",
              " 'value_counts',\n",
              " 'wide_to_long')"
            ]
          },
          "metadata": {},
          "execution_count": 2
        }
      ]
    },
    {
      "cell_type": "markdown",
      "metadata": {
        "id": "F-IVwyhQoGid"
      },
      "source": [
        "###  Tworzenie ramek danych"
      ]
    },
    {
      "cell_type": "code",
      "metadata": {
        "id": "VaLxEhmqoGie",
        "colab": {
          "base_uri": "https://localhost:8080/"
        },
        "outputId": "08880b5e-0ba0-4ec8-abee-c605348462ae"
      },
      "source": [
        "dr = pd.date_range('1/6/2019', periods=8)  # wektor/kolumna, generowanie wektora z dat, przedział = liczba miesięcy \n",
        "dr"
      ],
      "execution_count": null,
      "outputs": [
        {
          "output_type": "execute_result",
          "data": {
            "text/plain": [
              "DatetimeIndex(['2019-01-06', '2019-01-07', '2019-01-08', '2019-01-09',\n",
              "               '2019-01-10', '2019-01-11', '2019-01-12', '2019-01-13'],\n",
              "              dtype='datetime64[ns]', freq='D')"
            ]
          },
          "metadata": {},
          "execution_count": 4
        }
      ]
    },
    {
      "cell_type": "code",
      "metadata": {
        "id": "Hnl_iX8YoGif",
        "colab": {
          "base_uri": "https://localhost:8080/"
        },
        "outputId": "fa05d7eb-7603-4593-e335-36a1a07aa086"
      },
      "source": [
        "s = pd.Series(np.random.randn(5), index=['A', 'B', 'C', 'D', 'E'])  # kolumna + nazwy wierszy (wartości są losowane)\n",
        "s"
      ],
      "execution_count": null,
      "outputs": [
        {
          "output_type": "execute_result",
          "data": {
            "text/plain": [
              "A    0.780757\n",
              "B   -1.193663\n",
              "C   -1.230405\n",
              "D    1.205186\n",
              "E    1.071811\n",
              "dtype: float64"
            ]
          },
          "metadata": {},
          "execution_count": 23
        }
      ]
    },
    {
      "cell_type": "code",
      "metadata": {
        "id": "cwsxRJHYoGif",
        "colab": {
          "base_uri": "https://localhost:8080/",
          "height": 300
        },
        "outputId": "f23eb01c-41c9-4bb2-a09e-17e424926c63"
      },
      "source": [
        "# tworzymy ramkę danych na podstawie zmiennej dr, zwróć uwagę na rozmiary\n",
        "df = pd.DataFrame(np.random.randn(8, 3), index=dr, columns=['A', 'B', 'C'])   \n",
        "df"
      ],
      "execution_count": null,
      "outputs": [
        {
          "output_type": "execute_result",
          "data": {
            "text/plain": [
              "                   A         B         C\n",
              "2019-01-06  0.218240  1.532224 -0.805443\n",
              "2019-01-07  0.810192 -0.764097  1.269986\n",
              "2019-01-08  1.290535 -0.808343 -1.188088\n",
              "2019-01-09  0.000956  0.689131  1.572337\n",
              "2019-01-10 -0.189681 -0.084810 -0.774417\n",
              "2019-01-11  1.055855 -0.452934  0.659471\n",
              "2019-01-12  0.942394  0.479138 -0.937518\n",
              "2019-01-13 -0.860915  1.728896  0.771871"
            ],
            "text/html": [
              "\n",
              "  <div id=\"df-5b508ea8-ff70-472c-85a2-6070872df2b6\">\n",
              "    <div class=\"colab-df-container\">\n",
              "      <div>\n",
              "<style scoped>\n",
              "    .dataframe tbody tr th:only-of-type {\n",
              "        vertical-align: middle;\n",
              "    }\n",
              "\n",
              "    .dataframe tbody tr th {\n",
              "        vertical-align: top;\n",
              "    }\n",
              "\n",
              "    .dataframe thead th {\n",
              "        text-align: right;\n",
              "    }\n",
              "</style>\n",
              "<table border=\"1\" class=\"dataframe\">\n",
              "  <thead>\n",
              "    <tr style=\"text-align: right;\">\n",
              "      <th></th>\n",
              "      <th>A</th>\n",
              "      <th>B</th>\n",
              "      <th>C</th>\n",
              "    </tr>\n",
              "  </thead>\n",
              "  <tbody>\n",
              "    <tr>\n",
              "      <th>2019-01-06</th>\n",
              "      <td>0.218240</td>\n",
              "      <td>1.532224</td>\n",
              "      <td>-0.805443</td>\n",
              "    </tr>\n",
              "    <tr>\n",
              "      <th>2019-01-07</th>\n",
              "      <td>0.810192</td>\n",
              "      <td>-0.764097</td>\n",
              "      <td>1.269986</td>\n",
              "    </tr>\n",
              "    <tr>\n",
              "      <th>2019-01-08</th>\n",
              "      <td>1.290535</td>\n",
              "      <td>-0.808343</td>\n",
              "      <td>-1.188088</td>\n",
              "    </tr>\n",
              "    <tr>\n",
              "      <th>2019-01-09</th>\n",
              "      <td>0.000956</td>\n",
              "      <td>0.689131</td>\n",
              "      <td>1.572337</td>\n",
              "    </tr>\n",
              "    <tr>\n",
              "      <th>2019-01-10</th>\n",
              "      <td>-0.189681</td>\n",
              "      <td>-0.084810</td>\n",
              "      <td>-0.774417</td>\n",
              "    </tr>\n",
              "    <tr>\n",
              "      <th>2019-01-11</th>\n",
              "      <td>1.055855</td>\n",
              "      <td>-0.452934</td>\n",
              "      <td>0.659471</td>\n",
              "    </tr>\n",
              "    <tr>\n",
              "      <th>2019-01-12</th>\n",
              "      <td>0.942394</td>\n",
              "      <td>0.479138</td>\n",
              "      <td>-0.937518</td>\n",
              "    </tr>\n",
              "    <tr>\n",
              "      <th>2019-01-13</th>\n",
              "      <td>-0.860915</td>\n",
              "      <td>1.728896</td>\n",
              "      <td>0.771871</td>\n",
              "    </tr>\n",
              "  </tbody>\n",
              "</table>\n",
              "</div>\n",
              "      <button class=\"colab-df-convert\" onclick=\"convertToInteractive('df-5b508ea8-ff70-472c-85a2-6070872df2b6')\"\n",
              "              title=\"Convert this dataframe to an interactive table.\"\n",
              "              style=\"display:none;\">\n",
              "        \n",
              "  <svg xmlns=\"http://www.w3.org/2000/svg\" height=\"24px\"viewBox=\"0 0 24 24\"\n",
              "       width=\"24px\">\n",
              "    <path d=\"M0 0h24v24H0V0z\" fill=\"none\"/>\n",
              "    <path d=\"M18.56 5.44l.94 2.06.94-2.06 2.06-.94-2.06-.94-.94-2.06-.94 2.06-2.06.94zm-11 1L8.5 8.5l.94-2.06 2.06-.94-2.06-.94L8.5 2.5l-.94 2.06-2.06.94zm10 10l.94 2.06.94-2.06 2.06-.94-2.06-.94-.94-2.06-.94 2.06-2.06.94z\"/><path d=\"M17.41 7.96l-1.37-1.37c-.4-.4-.92-.59-1.43-.59-.52 0-1.04.2-1.43.59L10.3 9.45l-7.72 7.72c-.78.78-.78 2.05 0 2.83L4 21.41c.39.39.9.59 1.41.59.51 0 1.02-.2 1.41-.59l7.78-7.78 2.81-2.81c.8-.78.8-2.07 0-2.86zM5.41 20L4 18.59l7.72-7.72 1.47 1.35L5.41 20z\"/>\n",
              "  </svg>\n",
              "      </button>\n",
              "      \n",
              "  <style>\n",
              "    .colab-df-container {\n",
              "      display:flex;\n",
              "      flex-wrap:wrap;\n",
              "      gap: 12px;\n",
              "    }\n",
              "\n",
              "    .colab-df-convert {\n",
              "      background-color: #E8F0FE;\n",
              "      border: none;\n",
              "      border-radius: 50%;\n",
              "      cursor: pointer;\n",
              "      display: none;\n",
              "      fill: #1967D2;\n",
              "      height: 32px;\n",
              "      padding: 0 0 0 0;\n",
              "      width: 32px;\n",
              "    }\n",
              "\n",
              "    .colab-df-convert:hover {\n",
              "      background-color: #E2EBFA;\n",
              "      box-shadow: 0px 1px 2px rgba(60, 64, 67, 0.3), 0px 1px 3px 1px rgba(60, 64, 67, 0.15);\n",
              "      fill: #174EA6;\n",
              "    }\n",
              "\n",
              "    [theme=dark] .colab-df-convert {\n",
              "      background-color: #3B4455;\n",
              "      fill: #D2E3FC;\n",
              "    }\n",
              "\n",
              "    [theme=dark] .colab-df-convert:hover {\n",
              "      background-color: #434B5C;\n",
              "      box-shadow: 0px 1px 3px 1px rgba(0, 0, 0, 0.15);\n",
              "      filter: drop-shadow(0px 1px 2px rgba(0, 0, 0, 0.3));\n",
              "      fill: #FFFFFF;\n",
              "    }\n",
              "  </style>\n",
              "\n",
              "      <script>\n",
              "        const buttonEl =\n",
              "          document.querySelector('#df-5b508ea8-ff70-472c-85a2-6070872df2b6 button.colab-df-convert');\n",
              "        buttonEl.style.display =\n",
              "          google.colab.kernel.accessAllowed ? 'block' : 'none';\n",
              "\n",
              "        async function convertToInteractive(key) {\n",
              "          const element = document.querySelector('#df-5b508ea8-ff70-472c-85a2-6070872df2b6');\n",
              "          const dataTable =\n",
              "            await google.colab.kernel.invokeFunction('convertToInteractive',\n",
              "                                                     [key], {});\n",
              "          if (!dataTable) return;\n",
              "\n",
              "          const docLinkHtml = 'Like what you see? Visit the ' +\n",
              "            '<a target=\"_blank\" href=https://colab.research.google.com/notebooks/data_table.ipynb>data table notebook</a>'\n",
              "            + ' to learn more about interactive tables.';\n",
              "          element.innerHTML = '';\n",
              "          dataTable['output_type'] = 'display_data';\n",
              "          await google.colab.output.renderOutput(dataTable, element);\n",
              "          const docLink = document.createElement('div');\n",
              "          docLink.innerHTML = docLinkHtml;\n",
              "          element.appendChild(docLink);\n",
              "        }\n",
              "      </script>\n",
              "    </div>\n",
              "  </div>\n",
              "  "
            ]
          },
          "metadata": {},
          "execution_count": 5
        }
      ]
    },
    {
      "cell_type": "code",
      "metadata": {
        "id": "jn8URwnZoGig",
        "colab": {
          "base_uri": "https://localhost:8080/",
          "height": 300
        },
        "outputId": "a5e886c5-9df2-4388-93de-ca8b19ea1992"
      },
      "source": [
        "# tworzymy ramkę danych na podstawie zmiennej dr, zwróć uwagę na rozmiary\n",
        "zawartosc = np.random.randn(8, 3)\n",
        "df2 = pd.DataFrame(zawartosc, index=dr, columns=['A', 'B', 'C'])   \n",
        "df2"
      ],
      "execution_count": null,
      "outputs": [
        {
          "output_type": "execute_result",
          "data": {
            "text/plain": [
              "                   A         B         C\n",
              "2019-01-06  0.526746  0.834452 -0.687589\n",
              "2019-01-07  0.198661 -0.597429 -0.074528\n",
              "2019-01-08 -0.548598 -1.422524 -0.160386\n",
              "2019-01-09  0.242510  1.113301  0.629836\n",
              "2019-01-10  2.514914 -0.316653 -0.059952\n",
              "2019-01-11  0.338057 -0.017216  0.486389\n",
              "2019-01-12  1.506091 -1.045550 -1.568449\n",
              "2019-01-13 -0.146128 -0.339451 -3.236412"
            ],
            "text/html": [
              "\n",
              "  <div id=\"df-8bf499e3-d1f0-4e6b-adfe-d6861262cdba\">\n",
              "    <div class=\"colab-df-container\">\n",
              "      <div>\n",
              "<style scoped>\n",
              "    .dataframe tbody tr th:only-of-type {\n",
              "        vertical-align: middle;\n",
              "    }\n",
              "\n",
              "    .dataframe tbody tr th {\n",
              "        vertical-align: top;\n",
              "    }\n",
              "\n",
              "    .dataframe thead th {\n",
              "        text-align: right;\n",
              "    }\n",
              "</style>\n",
              "<table border=\"1\" class=\"dataframe\">\n",
              "  <thead>\n",
              "    <tr style=\"text-align: right;\">\n",
              "      <th></th>\n",
              "      <th>A</th>\n",
              "      <th>B</th>\n",
              "      <th>C</th>\n",
              "    </tr>\n",
              "  </thead>\n",
              "  <tbody>\n",
              "    <tr>\n",
              "      <th>2019-01-06</th>\n",
              "      <td>0.526746</td>\n",
              "      <td>0.834452</td>\n",
              "      <td>-0.687589</td>\n",
              "    </tr>\n",
              "    <tr>\n",
              "      <th>2019-01-07</th>\n",
              "      <td>0.198661</td>\n",
              "      <td>-0.597429</td>\n",
              "      <td>-0.074528</td>\n",
              "    </tr>\n",
              "    <tr>\n",
              "      <th>2019-01-08</th>\n",
              "      <td>-0.548598</td>\n",
              "      <td>-1.422524</td>\n",
              "      <td>-0.160386</td>\n",
              "    </tr>\n",
              "    <tr>\n",
              "      <th>2019-01-09</th>\n",
              "      <td>0.242510</td>\n",
              "      <td>1.113301</td>\n",
              "      <td>0.629836</td>\n",
              "    </tr>\n",
              "    <tr>\n",
              "      <th>2019-01-10</th>\n",
              "      <td>2.514914</td>\n",
              "      <td>-0.316653</td>\n",
              "      <td>-0.059952</td>\n",
              "    </tr>\n",
              "    <tr>\n",
              "      <th>2019-01-11</th>\n",
              "      <td>0.338057</td>\n",
              "      <td>-0.017216</td>\n",
              "      <td>0.486389</td>\n",
              "    </tr>\n",
              "    <tr>\n",
              "      <th>2019-01-12</th>\n",
              "      <td>1.506091</td>\n",
              "      <td>-1.045550</td>\n",
              "      <td>-1.568449</td>\n",
              "    </tr>\n",
              "    <tr>\n",
              "      <th>2019-01-13</th>\n",
              "      <td>-0.146128</td>\n",
              "      <td>-0.339451</td>\n",
              "      <td>-3.236412</td>\n",
              "    </tr>\n",
              "  </tbody>\n",
              "</table>\n",
              "</div>\n",
              "      <button class=\"colab-df-convert\" onclick=\"convertToInteractive('df-8bf499e3-d1f0-4e6b-adfe-d6861262cdba')\"\n",
              "              title=\"Convert this dataframe to an interactive table.\"\n",
              "              style=\"display:none;\">\n",
              "        \n",
              "  <svg xmlns=\"http://www.w3.org/2000/svg\" height=\"24px\"viewBox=\"0 0 24 24\"\n",
              "       width=\"24px\">\n",
              "    <path d=\"M0 0h24v24H0V0z\" fill=\"none\"/>\n",
              "    <path d=\"M18.56 5.44l.94 2.06.94-2.06 2.06-.94-2.06-.94-.94-2.06-.94 2.06-2.06.94zm-11 1L8.5 8.5l.94-2.06 2.06-.94-2.06-.94L8.5 2.5l-.94 2.06-2.06.94zm10 10l.94 2.06.94-2.06 2.06-.94-2.06-.94-.94-2.06-.94 2.06-2.06.94z\"/><path d=\"M17.41 7.96l-1.37-1.37c-.4-.4-.92-.59-1.43-.59-.52 0-1.04.2-1.43.59L10.3 9.45l-7.72 7.72c-.78.78-.78 2.05 0 2.83L4 21.41c.39.39.9.59 1.41.59.51 0 1.02-.2 1.41-.59l7.78-7.78 2.81-2.81c.8-.78.8-2.07 0-2.86zM5.41 20L4 18.59l7.72-7.72 1.47 1.35L5.41 20z\"/>\n",
              "  </svg>\n",
              "      </button>\n",
              "      \n",
              "  <style>\n",
              "    .colab-df-container {\n",
              "      display:flex;\n",
              "      flex-wrap:wrap;\n",
              "      gap: 12px;\n",
              "    }\n",
              "\n",
              "    .colab-df-convert {\n",
              "      background-color: #E8F0FE;\n",
              "      border: none;\n",
              "      border-radius: 50%;\n",
              "      cursor: pointer;\n",
              "      display: none;\n",
              "      fill: #1967D2;\n",
              "      height: 32px;\n",
              "      padding: 0 0 0 0;\n",
              "      width: 32px;\n",
              "    }\n",
              "\n",
              "    .colab-df-convert:hover {\n",
              "      background-color: #E2EBFA;\n",
              "      box-shadow: 0px 1px 2px rgba(60, 64, 67, 0.3), 0px 1px 3px 1px rgba(60, 64, 67, 0.15);\n",
              "      fill: #174EA6;\n",
              "    }\n",
              "\n",
              "    [theme=dark] .colab-df-convert {\n",
              "      background-color: #3B4455;\n",
              "      fill: #D2E3FC;\n",
              "    }\n",
              "\n",
              "    [theme=dark] .colab-df-convert:hover {\n",
              "      background-color: #434B5C;\n",
              "      box-shadow: 0px 1px 3px 1px rgba(0, 0, 0, 0.15);\n",
              "      filter: drop-shadow(0px 1px 2px rgba(0, 0, 0, 0.3));\n",
              "      fill: #FFFFFF;\n",
              "    }\n",
              "  </style>\n",
              "\n",
              "      <script>\n",
              "        const buttonEl =\n",
              "          document.querySelector('#df-8bf499e3-d1f0-4e6b-adfe-d6861262cdba button.colab-df-convert');\n",
              "        buttonEl.style.display =\n",
              "          google.colab.kernel.accessAllowed ? 'block' : 'none';\n",
              "\n",
              "        async function convertToInteractive(key) {\n",
              "          const element = document.querySelector('#df-8bf499e3-d1f0-4e6b-adfe-d6861262cdba');\n",
              "          const dataTable =\n",
              "            await google.colab.kernel.invokeFunction('convertToInteractive',\n",
              "                                                     [key], {});\n",
              "          if (!dataTable) return;\n",
              "\n",
              "          const docLinkHtml = 'Like what you see? Visit the ' +\n",
              "            '<a target=\"_blank\" href=https://colab.research.google.com/notebooks/data_table.ipynb>data table notebook</a>'\n",
              "            + ' to learn more about interactive tables.';\n",
              "          element.innerHTML = '';\n",
              "          dataTable['output_type'] = 'display_data';\n",
              "          await google.colab.output.renderOutput(dataTable, element);\n",
              "          const docLink = document.createElement('div');\n",
              "          docLink.innerHTML = docLinkHtml;\n",
              "          element.appendChild(docLink);\n",
              "        }\n",
              "      </script>\n",
              "    </div>\n",
              "  </div>\n",
              "  "
            ]
          },
          "metadata": {},
          "execution_count": 24
        }
      ]
    },
    {
      "cell_type": "code",
      "metadata": {
        "id": "iqaMII9RoGih",
        "colab": {
          "base_uri": "https://localhost:8080/",
          "height": 357
        },
        "outputId": "d4646973-d00e-4b89-b55d-cd84f2313f95"
      },
      "source": [
        "# tworzenie wielowymiarowych ramek danych tu \"kostka 3D o wymiarach 2x5x4\"\n",
        "pan = pd.Panel(np.random.randn(2, 5, 4), \n",
        "              items=['Item1', 'Item2'],\n",
        "              major_axis=pd.date_range('1/1/2000', periods=5),\n",
        "              minor_axis=['A', 'B', 'C', 'D'])\n"
      ],
      "execution_count": null,
      "outputs": [
        {
          "output_type": "error",
          "ename": "AttributeError",
          "evalue": "ignored",
          "traceback": [
            "\u001b[0;31m---------------------------------------------------------------------------\u001b[0m",
            "\u001b[0;31mAttributeError\u001b[0m                            Traceback (most recent call last)",
            "\u001b[0;32m<ipython-input-36-8b77c59660a3>\u001b[0m in \u001b[0;36m<cell line: 2>\u001b[0;34m()\u001b[0m\n\u001b[1;32m      1\u001b[0m \u001b[0;31m# tworzenie wielowymiarowych ramek danych tu \"kostka 3D o wymiarach 2x5x4\"\u001b[0m\u001b[0;34m\u001b[0m\u001b[0;34m\u001b[0m\u001b[0m\n\u001b[0;32m----> 2\u001b[0;31m pan = pd.Panel(np.random.randn(2, 5, 4), \n\u001b[0m\u001b[1;32m      3\u001b[0m               \u001b[0mitems\u001b[0m\u001b[0;34m=\u001b[0m\u001b[0;34m[\u001b[0m\u001b[0;34m'Item1'\u001b[0m\u001b[0;34m,\u001b[0m \u001b[0;34m'Item2'\u001b[0m\u001b[0;34m]\u001b[0m\u001b[0;34m,\u001b[0m\u001b[0;34m\u001b[0m\u001b[0;34m\u001b[0m\u001b[0m\n\u001b[1;32m      4\u001b[0m               \u001b[0mmajor_axis\u001b[0m\u001b[0;34m=\u001b[0m\u001b[0mpd\u001b[0m\u001b[0;34m.\u001b[0m\u001b[0mdate_range\u001b[0m\u001b[0;34m(\u001b[0m\u001b[0;34m'1/1/2000'\u001b[0m\u001b[0;34m,\u001b[0m \u001b[0mperiods\u001b[0m\u001b[0;34m=\u001b[0m\u001b[0;36m5\u001b[0m\u001b[0;34m)\u001b[0m\u001b[0;34m,\u001b[0m\u001b[0;34m\u001b[0m\u001b[0;34m\u001b[0m\u001b[0m\n\u001b[1;32m      5\u001b[0m               minor_axis=['A', 'B', 'C', 'D'])\n",
            "\u001b[0;32m/usr/local/lib/python3.10/dist-packages/pandas/__init__.py\u001b[0m in \u001b[0;36m__getattr__\u001b[0;34m(name)\u001b[0m\n\u001b[1;32m    262\u001b[0m         \u001b[0;32mreturn\u001b[0m \u001b[0m_SparseArray\u001b[0m\u001b[0;34m\u001b[0m\u001b[0;34m\u001b[0m\u001b[0m\n\u001b[1;32m    263\u001b[0m \u001b[0;34m\u001b[0m\u001b[0m\n\u001b[0;32m--> 264\u001b[0;31m     \u001b[0;32mraise\u001b[0m \u001b[0mAttributeError\u001b[0m\u001b[0;34m(\u001b[0m\u001b[0;34mf\"module 'pandas' has no attribute '{name}'\"\u001b[0m\u001b[0;34m)\u001b[0m\u001b[0;34m\u001b[0m\u001b[0;34m\u001b[0m\u001b[0m\n\u001b[0m\u001b[1;32m    265\u001b[0m \u001b[0;34m\u001b[0m\u001b[0m\n\u001b[1;32m    266\u001b[0m \u001b[0;34m\u001b[0m\u001b[0m\n",
            "\u001b[0;31mAttributeError\u001b[0m: module 'pandas' has no attribute 'Panel'"
          ]
        }
      ]
    },
    {
      "cell_type": "markdown",
      "metadata": {
        "id": "nMWfWfdvoGii"
      },
      "source": [
        "### Tworzymy przykładową ramkę danych"
      ]
    },
    {
      "cell_type": "code",
      "metadata": {
        "id": "zVOV-hPzoGii",
        "colab": {
          "base_uri": "https://localhost:8080/"
        },
        "outputId": "60628b3f-a4f6-499e-d2b1-35f8c5f01e96"
      },
      "source": [
        "dictionary = {'one':[1,10,100,1000,10000],\n",
        "     'two':[2,20,200,2000,2000],\n",
        "     'price':['prod1','prod3','prod2','prod1','prod2']}  # wykorzystamy słownik do utworzenia odpowiedniej struktury\n",
        "dictionary"
      ],
      "execution_count": null,
      "outputs": [
        {
          "output_type": "execute_result",
          "data": {
            "text/plain": [
              "{'one': [1, 10, 100, 1000, 10000],\n",
              " 'two': [2, 20, 200, 2000, 2000],\n",
              " 'price': ['prod1', 'prod3', 'prod2', 'prod1', 'prod2']}"
            ]
          },
          "metadata": {},
          "execution_count": 34
        }
      ]
    },
    {
      "cell_type": "code",
      "metadata": {
        "id": "p8aTvYZhoGij",
        "colab": {
          "base_uri": "https://localhost:8080/",
          "height": 206
        },
        "outputId": "88464afb-16a8-44ad-da26-d7f5d9dd1ddb"
      },
      "source": [
        "dfs = pd.DataFrame(dictionary)   # tworzymy ramkę danych wg. nazwaObietu = nazwaBiblioteki.nazwaFunkcji(argumentMetody)\n",
        "dfs"
      ],
      "execution_count": null,
      "outputs": [
        {
          "output_type": "execute_result",
          "data": {
            "text/plain": [
              "     one   two  price\n",
              "0      1     2  prod1\n",
              "1     10    20  prod3\n",
              "2    100   200  prod2\n",
              "3   1000  2000  prod1\n",
              "4  10000  2000  prod2"
            ],
            "text/html": [
              "\n",
              "  <div id=\"df-8b80ba6e-7711-4b61-b8ec-dc895df977ea\">\n",
              "    <div class=\"colab-df-container\">\n",
              "      <div>\n",
              "<style scoped>\n",
              "    .dataframe tbody tr th:only-of-type {\n",
              "        vertical-align: middle;\n",
              "    }\n",
              "\n",
              "    .dataframe tbody tr th {\n",
              "        vertical-align: top;\n",
              "    }\n",
              "\n",
              "    .dataframe thead th {\n",
              "        text-align: right;\n",
              "    }\n",
              "</style>\n",
              "<table border=\"1\" class=\"dataframe\">\n",
              "  <thead>\n",
              "    <tr style=\"text-align: right;\">\n",
              "      <th></th>\n",
              "      <th>one</th>\n",
              "      <th>two</th>\n",
              "      <th>price</th>\n",
              "    </tr>\n",
              "  </thead>\n",
              "  <tbody>\n",
              "    <tr>\n",
              "      <th>0</th>\n",
              "      <td>1</td>\n",
              "      <td>2</td>\n",
              "      <td>prod1</td>\n",
              "    </tr>\n",
              "    <tr>\n",
              "      <th>1</th>\n",
              "      <td>10</td>\n",
              "      <td>20</td>\n",
              "      <td>prod3</td>\n",
              "    </tr>\n",
              "    <tr>\n",
              "      <th>2</th>\n",
              "      <td>100</td>\n",
              "      <td>200</td>\n",
              "      <td>prod2</td>\n",
              "    </tr>\n",
              "    <tr>\n",
              "      <th>3</th>\n",
              "      <td>1000</td>\n",
              "      <td>2000</td>\n",
              "      <td>prod1</td>\n",
              "    </tr>\n",
              "    <tr>\n",
              "      <th>4</th>\n",
              "      <td>10000</td>\n",
              "      <td>2000</td>\n",
              "      <td>prod2</td>\n",
              "    </tr>\n",
              "  </tbody>\n",
              "</table>\n",
              "</div>\n",
              "      <button class=\"colab-df-convert\" onclick=\"convertToInteractive('df-8b80ba6e-7711-4b61-b8ec-dc895df977ea')\"\n",
              "              title=\"Convert this dataframe to an interactive table.\"\n",
              "              style=\"display:none;\">\n",
              "        \n",
              "  <svg xmlns=\"http://www.w3.org/2000/svg\" height=\"24px\"viewBox=\"0 0 24 24\"\n",
              "       width=\"24px\">\n",
              "    <path d=\"M0 0h24v24H0V0z\" fill=\"none\"/>\n",
              "    <path d=\"M18.56 5.44l.94 2.06.94-2.06 2.06-.94-2.06-.94-.94-2.06-.94 2.06-2.06.94zm-11 1L8.5 8.5l.94-2.06 2.06-.94-2.06-.94L8.5 2.5l-.94 2.06-2.06.94zm10 10l.94 2.06.94-2.06 2.06-.94-2.06-.94-.94-2.06-.94 2.06-2.06.94z\"/><path d=\"M17.41 7.96l-1.37-1.37c-.4-.4-.92-.59-1.43-.59-.52 0-1.04.2-1.43.59L10.3 9.45l-7.72 7.72c-.78.78-.78 2.05 0 2.83L4 21.41c.39.39.9.59 1.41.59.51 0 1.02-.2 1.41-.59l7.78-7.78 2.81-2.81c.8-.78.8-2.07 0-2.86zM5.41 20L4 18.59l7.72-7.72 1.47 1.35L5.41 20z\"/>\n",
              "  </svg>\n",
              "      </button>\n",
              "      \n",
              "  <style>\n",
              "    .colab-df-container {\n",
              "      display:flex;\n",
              "      flex-wrap:wrap;\n",
              "      gap: 12px;\n",
              "    }\n",
              "\n",
              "    .colab-df-convert {\n",
              "      background-color: #E8F0FE;\n",
              "      border: none;\n",
              "      border-radius: 50%;\n",
              "      cursor: pointer;\n",
              "      display: none;\n",
              "      fill: #1967D2;\n",
              "      height: 32px;\n",
              "      padding: 0 0 0 0;\n",
              "      width: 32px;\n",
              "    }\n",
              "\n",
              "    .colab-df-convert:hover {\n",
              "      background-color: #E2EBFA;\n",
              "      box-shadow: 0px 1px 2px rgba(60, 64, 67, 0.3), 0px 1px 3px 1px rgba(60, 64, 67, 0.15);\n",
              "      fill: #174EA6;\n",
              "    }\n",
              "\n",
              "    [theme=dark] .colab-df-convert {\n",
              "      background-color: #3B4455;\n",
              "      fill: #D2E3FC;\n",
              "    }\n",
              "\n",
              "    [theme=dark] .colab-df-convert:hover {\n",
              "      background-color: #434B5C;\n",
              "      box-shadow: 0px 1px 3px 1px rgba(0, 0, 0, 0.15);\n",
              "      filter: drop-shadow(0px 1px 2px rgba(0, 0, 0, 0.3));\n",
              "      fill: #FFFFFF;\n",
              "    }\n",
              "  </style>\n",
              "\n",
              "      <script>\n",
              "        const buttonEl =\n",
              "          document.querySelector('#df-8b80ba6e-7711-4b61-b8ec-dc895df977ea button.colab-df-convert');\n",
              "        buttonEl.style.display =\n",
              "          google.colab.kernel.accessAllowed ? 'block' : 'none';\n",
              "\n",
              "        async function convertToInteractive(key) {\n",
              "          const element = document.querySelector('#df-8b80ba6e-7711-4b61-b8ec-dc895df977ea');\n",
              "          const dataTable =\n",
              "            await google.colab.kernel.invokeFunction('convertToInteractive',\n",
              "                                                     [key], {});\n",
              "          if (!dataTable) return;\n",
              "\n",
              "          const docLinkHtml = 'Like what you see? Visit the ' +\n",
              "            '<a target=\"_blank\" href=https://colab.research.google.com/notebooks/data_table.ipynb>data table notebook</a>'\n",
              "            + ' to learn more about interactive tables.';\n",
              "          element.innerHTML = '';\n",
              "          dataTable['output_type'] = 'display_data';\n",
              "          await google.colab.output.renderOutput(dataTable, element);\n",
              "          const docLink = document.createElement('div');\n",
              "          docLink.innerHTML = docLinkHtml;\n",
              "          element.appendChild(docLink);\n",
              "        }\n",
              "      </script>\n",
              "    </div>\n",
              "  </div>\n",
              "  "
            ]
          },
          "metadata": {},
          "execution_count": 35
        }
      ]
    },
    {
      "cell_type": "code",
      "metadata": {
        "id": "nUQV357aoGik",
        "colab": {
          "base_uri": "https://localhost:8080/"
        },
        "outputId": "beaafcd5-b687-45c7-ccb6-3877c5729bff"
      },
      "source": [
        "type(dfs)  # informacje o obiekcie"
      ],
      "execution_count": null,
      "outputs": [
        {
          "output_type": "execute_result",
          "data": {
            "text/plain": [
              "pandas.core.frame.DataFrame"
            ]
          },
          "metadata": {},
          "execution_count": 11
        }
      ]
    },
    {
      "cell_type": "code",
      "metadata": {
        "id": "4pOqLcwtoGik",
        "colab": {
          "base_uri": "https://localhost:8080/",
          "height": 112
        },
        "outputId": "cf542f51-67b8-4090-e32e-9d33de72f055"
      },
      "source": [
        "dfs.head(2)  # pokazuje 2 pierwsze wiersze tabeli"
      ],
      "execution_count": null,
      "outputs": [
        {
          "output_type": "execute_result",
          "data": {
            "text/plain": [
              "   one  two  price\n",
              "0    1    2  prod1\n",
              "1   10   20  prod3"
            ],
            "text/html": [
              "\n",
              "  <div id=\"df-53909213-3510-4eb0-91e5-cc0da8fa5d7a\">\n",
              "    <div class=\"colab-df-container\">\n",
              "      <div>\n",
              "<style scoped>\n",
              "    .dataframe tbody tr th:only-of-type {\n",
              "        vertical-align: middle;\n",
              "    }\n",
              "\n",
              "    .dataframe tbody tr th {\n",
              "        vertical-align: top;\n",
              "    }\n",
              "\n",
              "    .dataframe thead th {\n",
              "        text-align: right;\n",
              "    }\n",
              "</style>\n",
              "<table border=\"1\" class=\"dataframe\">\n",
              "  <thead>\n",
              "    <tr style=\"text-align: right;\">\n",
              "      <th></th>\n",
              "      <th>one</th>\n",
              "      <th>two</th>\n",
              "      <th>price</th>\n",
              "    </tr>\n",
              "  </thead>\n",
              "  <tbody>\n",
              "    <tr>\n",
              "      <th>0</th>\n",
              "      <td>1</td>\n",
              "      <td>2</td>\n",
              "      <td>prod1</td>\n",
              "    </tr>\n",
              "    <tr>\n",
              "      <th>1</th>\n",
              "      <td>10</td>\n",
              "      <td>20</td>\n",
              "      <td>prod3</td>\n",
              "    </tr>\n",
              "  </tbody>\n",
              "</table>\n",
              "</div>\n",
              "      <button class=\"colab-df-convert\" onclick=\"convertToInteractive('df-53909213-3510-4eb0-91e5-cc0da8fa5d7a')\"\n",
              "              title=\"Convert this dataframe to an interactive table.\"\n",
              "              style=\"display:none;\">\n",
              "        \n",
              "  <svg xmlns=\"http://www.w3.org/2000/svg\" height=\"24px\"viewBox=\"0 0 24 24\"\n",
              "       width=\"24px\">\n",
              "    <path d=\"M0 0h24v24H0V0z\" fill=\"none\"/>\n",
              "    <path d=\"M18.56 5.44l.94 2.06.94-2.06 2.06-.94-2.06-.94-.94-2.06-.94 2.06-2.06.94zm-11 1L8.5 8.5l.94-2.06 2.06-.94-2.06-.94L8.5 2.5l-.94 2.06-2.06.94zm10 10l.94 2.06.94-2.06 2.06-.94-2.06-.94-.94-2.06-.94 2.06-2.06.94z\"/><path d=\"M17.41 7.96l-1.37-1.37c-.4-.4-.92-.59-1.43-.59-.52 0-1.04.2-1.43.59L10.3 9.45l-7.72 7.72c-.78.78-.78 2.05 0 2.83L4 21.41c.39.39.9.59 1.41.59.51 0 1.02-.2 1.41-.59l7.78-7.78 2.81-2.81c.8-.78.8-2.07 0-2.86zM5.41 20L4 18.59l7.72-7.72 1.47 1.35L5.41 20z\"/>\n",
              "  </svg>\n",
              "      </button>\n",
              "      \n",
              "  <style>\n",
              "    .colab-df-container {\n",
              "      display:flex;\n",
              "      flex-wrap:wrap;\n",
              "      gap: 12px;\n",
              "    }\n",
              "\n",
              "    .colab-df-convert {\n",
              "      background-color: #E8F0FE;\n",
              "      border: none;\n",
              "      border-radius: 50%;\n",
              "      cursor: pointer;\n",
              "      display: none;\n",
              "      fill: #1967D2;\n",
              "      height: 32px;\n",
              "      padding: 0 0 0 0;\n",
              "      width: 32px;\n",
              "    }\n",
              "\n",
              "    .colab-df-convert:hover {\n",
              "      background-color: #E2EBFA;\n",
              "      box-shadow: 0px 1px 2px rgba(60, 64, 67, 0.3), 0px 1px 3px 1px rgba(60, 64, 67, 0.15);\n",
              "      fill: #174EA6;\n",
              "    }\n",
              "\n",
              "    [theme=dark] .colab-df-convert {\n",
              "      background-color: #3B4455;\n",
              "      fill: #D2E3FC;\n",
              "    }\n",
              "\n",
              "    [theme=dark] .colab-df-convert:hover {\n",
              "      background-color: #434B5C;\n",
              "      box-shadow: 0px 1px 3px 1px rgba(0, 0, 0, 0.15);\n",
              "      filter: drop-shadow(0px 1px 2px rgba(0, 0, 0, 0.3));\n",
              "      fill: #FFFFFF;\n",
              "    }\n",
              "  </style>\n",
              "\n",
              "      <script>\n",
              "        const buttonEl =\n",
              "          document.querySelector('#df-53909213-3510-4eb0-91e5-cc0da8fa5d7a button.colab-df-convert');\n",
              "        buttonEl.style.display =\n",
              "          google.colab.kernel.accessAllowed ? 'block' : 'none';\n",
              "\n",
              "        async function convertToInteractive(key) {\n",
              "          const element = document.querySelector('#df-53909213-3510-4eb0-91e5-cc0da8fa5d7a');\n",
              "          const dataTable =\n",
              "            await google.colab.kernel.invokeFunction('convertToInteractive',\n",
              "                                                     [key], {});\n",
              "          if (!dataTable) return;\n",
              "\n",
              "          const docLinkHtml = 'Like what you see? Visit the ' +\n",
              "            '<a target=\"_blank\" href=https://colab.research.google.com/notebooks/data_table.ipynb>data table notebook</a>'\n",
              "            + ' to learn more about interactive tables.';\n",
              "          element.innerHTML = '';\n",
              "          dataTable['output_type'] = 'display_data';\n",
              "          await google.colab.output.renderOutput(dataTable, element);\n",
              "          const docLink = document.createElement('div');\n",
              "          docLink.innerHTML = docLinkHtml;\n",
              "          element.appendChild(docLink);\n",
              "        }\n",
              "      </script>\n",
              "    </div>\n",
              "  </div>\n",
              "  "
            ]
          },
          "metadata": {},
          "execution_count": 33
        }
      ]
    },
    {
      "cell_type": "code",
      "metadata": {
        "id": "YjuSmu0ioGil",
        "colab": {
          "base_uri": "https://localhost:8080/"
        },
        "outputId": "ad8a62ea-c6da-4ed5-bb94-ce27bc98f6db"
      },
      "source": [
        "dfs.head"
      ],
      "execution_count": null,
      "outputs": [
        {
          "output_type": "execute_result",
          "data": {
            "text/plain": [
              "<bound method NDFrame.head of      one   two  price\n",
              "0      1     2  prod1\n",
              "1     10    20  prod3\n",
              "2    100   200  prod2\n",
              "3   1000  2000  prod1\n",
              "4  10000  2000  prod2>"
            ]
          },
          "metadata": {},
          "execution_count": 34
        }
      ]
    },
    {
      "cell_type": "code",
      "metadata": {
        "id": "OwwXxe-EoGil",
        "colab": {
          "base_uri": "https://localhost:8080/",
          "height": 206
        },
        "outputId": "407f7058-496c-4fa3-f1db-272746eee542"
      },
      "source": [
        "dfs.tail()  # pokazuje 3 końcowe wiersze tabeli"
      ],
      "execution_count": null,
      "outputs": [
        {
          "output_type": "execute_result",
          "data": {
            "text/plain": [
              "     one   two  price\n",
              "0      1     2  prod1\n",
              "1     10    20  prod3\n",
              "2    100   200  prod2\n",
              "3   1000  2000  prod1\n",
              "4  10000  2000  prod2"
            ],
            "text/html": [
              "\n",
              "  <div id=\"df-b1201105-6e7a-495c-8dc8-380c8898cb42\">\n",
              "    <div class=\"colab-df-container\">\n",
              "      <div>\n",
              "<style scoped>\n",
              "    .dataframe tbody tr th:only-of-type {\n",
              "        vertical-align: middle;\n",
              "    }\n",
              "\n",
              "    .dataframe tbody tr th {\n",
              "        vertical-align: top;\n",
              "    }\n",
              "\n",
              "    .dataframe thead th {\n",
              "        text-align: right;\n",
              "    }\n",
              "</style>\n",
              "<table border=\"1\" class=\"dataframe\">\n",
              "  <thead>\n",
              "    <tr style=\"text-align: right;\">\n",
              "      <th></th>\n",
              "      <th>one</th>\n",
              "      <th>two</th>\n",
              "      <th>price</th>\n",
              "    </tr>\n",
              "  </thead>\n",
              "  <tbody>\n",
              "    <tr>\n",
              "      <th>0</th>\n",
              "      <td>1</td>\n",
              "      <td>2</td>\n",
              "      <td>prod1</td>\n",
              "    </tr>\n",
              "    <tr>\n",
              "      <th>1</th>\n",
              "      <td>10</td>\n",
              "      <td>20</td>\n",
              "      <td>prod3</td>\n",
              "    </tr>\n",
              "    <tr>\n",
              "      <th>2</th>\n",
              "      <td>100</td>\n",
              "      <td>200</td>\n",
              "      <td>prod2</td>\n",
              "    </tr>\n",
              "    <tr>\n",
              "      <th>3</th>\n",
              "      <td>1000</td>\n",
              "      <td>2000</td>\n",
              "      <td>prod1</td>\n",
              "    </tr>\n",
              "    <tr>\n",
              "      <th>4</th>\n",
              "      <td>10000</td>\n",
              "      <td>2000</td>\n",
              "      <td>prod2</td>\n",
              "    </tr>\n",
              "  </tbody>\n",
              "</table>\n",
              "</div>\n",
              "      <button class=\"colab-df-convert\" onclick=\"convertToInteractive('df-b1201105-6e7a-495c-8dc8-380c8898cb42')\"\n",
              "              title=\"Convert this dataframe to an interactive table.\"\n",
              "              style=\"display:none;\">\n",
              "        \n",
              "  <svg xmlns=\"http://www.w3.org/2000/svg\" height=\"24px\"viewBox=\"0 0 24 24\"\n",
              "       width=\"24px\">\n",
              "    <path d=\"M0 0h24v24H0V0z\" fill=\"none\"/>\n",
              "    <path d=\"M18.56 5.44l.94 2.06.94-2.06 2.06-.94-2.06-.94-.94-2.06-.94 2.06-2.06.94zm-11 1L8.5 8.5l.94-2.06 2.06-.94-2.06-.94L8.5 2.5l-.94 2.06-2.06.94zm10 10l.94 2.06.94-2.06 2.06-.94-2.06-.94-.94-2.06-.94 2.06-2.06.94z\"/><path d=\"M17.41 7.96l-1.37-1.37c-.4-.4-.92-.59-1.43-.59-.52 0-1.04.2-1.43.59L10.3 9.45l-7.72 7.72c-.78.78-.78 2.05 0 2.83L4 21.41c.39.39.9.59 1.41.59.51 0 1.02-.2 1.41-.59l7.78-7.78 2.81-2.81c.8-.78.8-2.07 0-2.86zM5.41 20L4 18.59l7.72-7.72 1.47 1.35L5.41 20z\"/>\n",
              "  </svg>\n",
              "      </button>\n",
              "      \n",
              "  <style>\n",
              "    .colab-df-container {\n",
              "      display:flex;\n",
              "      flex-wrap:wrap;\n",
              "      gap: 12px;\n",
              "    }\n",
              "\n",
              "    .colab-df-convert {\n",
              "      background-color: #E8F0FE;\n",
              "      border: none;\n",
              "      border-radius: 50%;\n",
              "      cursor: pointer;\n",
              "      display: none;\n",
              "      fill: #1967D2;\n",
              "      height: 32px;\n",
              "      padding: 0 0 0 0;\n",
              "      width: 32px;\n",
              "    }\n",
              "\n",
              "    .colab-df-convert:hover {\n",
              "      background-color: #E2EBFA;\n",
              "      box-shadow: 0px 1px 2px rgba(60, 64, 67, 0.3), 0px 1px 3px 1px rgba(60, 64, 67, 0.15);\n",
              "      fill: #174EA6;\n",
              "    }\n",
              "\n",
              "    [theme=dark] .colab-df-convert {\n",
              "      background-color: #3B4455;\n",
              "      fill: #D2E3FC;\n",
              "    }\n",
              "\n",
              "    [theme=dark] .colab-df-convert:hover {\n",
              "      background-color: #434B5C;\n",
              "      box-shadow: 0px 1px 3px 1px rgba(0, 0, 0, 0.15);\n",
              "      filter: drop-shadow(0px 1px 2px rgba(0, 0, 0, 0.3));\n",
              "      fill: #FFFFFF;\n",
              "    }\n",
              "  </style>\n",
              "\n",
              "      <script>\n",
              "        const buttonEl =\n",
              "          document.querySelector('#df-b1201105-6e7a-495c-8dc8-380c8898cb42 button.colab-df-convert');\n",
              "        buttonEl.style.display =\n",
              "          google.colab.kernel.accessAllowed ? 'block' : 'none';\n",
              "\n",
              "        async function convertToInteractive(key) {\n",
              "          const element = document.querySelector('#df-b1201105-6e7a-495c-8dc8-380c8898cb42');\n",
              "          const dataTable =\n",
              "            await google.colab.kernel.invokeFunction('convertToInteractive',\n",
              "                                                     [key], {});\n",
              "          if (!dataTable) return;\n",
              "\n",
              "          const docLinkHtml = 'Like what you see? Visit the ' +\n",
              "            '<a target=\"_blank\" href=https://colab.research.google.com/notebooks/data_table.ipynb>data table notebook</a>'\n",
              "            + ' to learn more about interactive tables.';\n",
              "          element.innerHTML = '';\n",
              "          dataTable['output_type'] = 'display_data';\n",
              "          await google.colab.output.renderOutput(dataTable, element);\n",
              "          const docLink = document.createElement('div');\n",
              "          docLink.innerHTML = docLinkHtml;\n",
              "          element.appendChild(docLink);\n",
              "        }\n",
              "      </script>\n",
              "    </div>\n",
              "  </div>\n",
              "  "
            ]
          },
          "metadata": {},
          "execution_count": 20
        }
      ]
    },
    {
      "cell_type": "code",
      "metadata": {
        "id": "GqdzGjWioGil",
        "colab": {
          "base_uri": "https://localhost:8080/"
        },
        "outputId": "f483211d-8983-4898-dbeb-3d11fda3756b"
      },
      "source": [
        "dfs.info() # podstawowe informacje o danych"
      ],
      "execution_count": null,
      "outputs": [
        {
          "output_type": "stream",
          "name": "stdout",
          "text": [
            "<class 'pandas.core.frame.DataFrame'>\n",
            "RangeIndex: 5 entries, 0 to 4\n",
            "Data columns (total 3 columns):\n",
            " #   Column  Non-Null Count  Dtype \n",
            "---  ------  --------------  ----- \n",
            " 0   one     5 non-null      int64 \n",
            " 1   two     5 non-null      int64 \n",
            " 2   price   5 non-null      object\n",
            "dtypes: int64(2), object(1)\n",
            "memory usage: 248.0+ bytes\n"
          ]
        }
      ]
    },
    {
      "cell_type": "code",
      "metadata": {
        "id": "FmH594EjoGim",
        "colab": {
          "base_uri": "https://localhost:8080/"
        },
        "outputId": "66675260-1787-4ee3-bf9d-9a8ed204623e"
      },
      "source": [
        "dfs.shape  # liczba wierszy i liczba kolumn"
      ],
      "execution_count": null,
      "outputs": [
        {
          "output_type": "execute_result",
          "data": {
            "text/plain": [
              "(5, 3)"
            ]
          },
          "metadata": {},
          "execution_count": 13
        }
      ]
    },
    {
      "cell_type": "code",
      "metadata": {
        "id": "LxSAIp9koGim",
        "colab": {
          "base_uri": "https://localhost:8080/"
        },
        "outputId": "5779f446-4fa8-4341-9a6f-bf309601593c"
      },
      "source": [
        "dfs.columns # wyswietla nazwy kolumn tabeli"
      ],
      "execution_count": null,
      "outputs": [
        {
          "output_type": "execute_result",
          "data": {
            "text/plain": [
              "Index(['one', 'two', 'price'], dtype='object')"
            ]
          },
          "metadata": {},
          "execution_count": 14
        }
      ]
    },
    {
      "cell_type": "code",
      "metadata": {
        "id": "iUZeRDkcoGim",
        "colab": {
          "base_uri": "https://localhost:8080/"
        },
        "outputId": "0797a15e-abaa-495a-f30b-7003bf3284c4"
      },
      "source": [
        "dfs['price'].value_counts()  # zliczamy ilość elementów o tych samych wartościach z kolumny 'price'"
      ],
      "execution_count": null,
      "outputs": [
        {
          "output_type": "execute_result",
          "data": {
            "text/plain": [
              "prod1    2\n",
              "prod2    2\n",
              "prod3    1\n",
              "Name: price, dtype: int64"
            ]
          },
          "metadata": {},
          "execution_count": 15
        }
      ]
    },
    {
      "cell_type": "code",
      "metadata": {
        "id": "iYqvrPnHoGin",
        "colab": {
          "base_uri": "https://localhost:8080/"
        },
        "outputId": "de6e5dd3-5131-4cc3-c06f-67eaf1dba521"
      },
      "source": [
        "z = dfs['price']\n",
        "z\n",
        "z.value_counts()"
      ],
      "execution_count": null,
      "outputs": [
        {
          "output_type": "execute_result",
          "data": {
            "text/plain": [
              "prod1    2\n",
              "prod2    2\n",
              "prod3    1\n",
              "Name: price, dtype: int64"
            ]
          },
          "metadata": {},
          "execution_count": 26
        }
      ]
    },
    {
      "cell_type": "code",
      "metadata": {
        "id": "DBnRFs5yoGio"
      },
      "source": [
        "dfs[['price', 'one']] # ograniczenie zbioru do wybranych nazw kolumn 'price', 'one' z tabeli"
      ],
      "execution_count": null,
      "outputs": []
    },
    {
      "cell_type": "code",
      "metadata": {
        "id": "se_MxnjsoGio"
      },
      "source": [
        "dfs[0:3] # selekcja wybranych wierszy tabeli data np: 0,1,2"
      ],
      "execution_count": null,
      "outputs": []
    },
    {
      "cell_type": "markdown",
      "metadata": {
        "id": "6TITQRIEoGio"
      },
      "source": [
        "## Metoda: groupby\n",
        "##### metoda grupuje dane tabelaryczne względem kolumny, na wyodrębnionych w ten sposób podgrupach/podzbiorach wykonuje rónocześnie zadeklarowaną operację"
      ]
    },
    {
      "cell_type": "code",
      "metadata": {
        "id": "nTm66tzRoGip"
      },
      "source": [
        "dfPrice = dfs.groupby('price')  # grupujemy dane po kolumnie z nagłówkiem 'price'"
      ],
      "execution_count": null,
      "outputs": []
    },
    {
      "cell_type": "code",
      "metadata": {
        "id": "KNbZZusaoGip",
        "colab": {
          "base_uri": "https://localhost:8080/"
        },
        "outputId": "7288d9c4-476b-4b3c-9fc1-69a12d26db72"
      },
      "source": [
        "dfPrice.ngroups  # sprawdzenie liczby utworzonych podzbiorów <=> liczba kategorii w kolumnie 'price'"
      ],
      "execution_count": null,
      "outputs": [
        {
          "output_type": "execute_result",
          "data": {
            "text/plain": [
              "3"
            ]
          },
          "metadata": {},
          "execution_count": 27
        }
      ]
    },
    {
      "cell_type": "code",
      "metadata": {
        "id": "c4u0cb3coGiq",
        "colab": {
          "base_uri": "https://localhost:8080/"
        },
        "outputId": "3476b937-d2cc-4ad8-999a-c41e189f0447"
      },
      "source": [
        "dfPrice.groups  # podstawowe informacje o typach danych wewnątrz ramki danych"
      ],
      "execution_count": null,
      "outputs": [
        {
          "output_type": "execute_result",
          "data": {
            "text/plain": [
              "{'prod1': [0, 3], 'prod2': [2, 4], 'prod3': [1]}"
            ]
          },
          "metadata": {},
          "execution_count": 48
        }
      ]
    },
    {
      "cell_type": "code",
      "metadata": {
        "id": "1p-95DXhoGiq",
        "colab": {
          "base_uri": "https://localhost:8080/",
          "height": 112
        },
        "outputId": "ea3a21a9-bbe9-4516-a02f-10753d336f7b"
      },
      "source": [
        "dfPrice.get_group('prod1') # wydzielenie podzbioru danych 'prod1'"
      ],
      "execution_count": null,
      "outputs": [
        {
          "output_type": "execute_result",
          "data": {
            "text/plain": [
              "    one   two  price\n",
              "0     1     2  prod1\n",
              "3  1000  2000  prod1"
            ],
            "text/html": [
              "\n",
              "  <div id=\"df-d3011a9b-fdbd-4fce-a4f2-b8f1bb0a0e86\">\n",
              "    <div class=\"colab-df-container\">\n",
              "      <div>\n",
              "<style scoped>\n",
              "    .dataframe tbody tr th:only-of-type {\n",
              "        vertical-align: middle;\n",
              "    }\n",
              "\n",
              "    .dataframe tbody tr th {\n",
              "        vertical-align: top;\n",
              "    }\n",
              "\n",
              "    .dataframe thead th {\n",
              "        text-align: right;\n",
              "    }\n",
              "</style>\n",
              "<table border=\"1\" class=\"dataframe\">\n",
              "  <thead>\n",
              "    <tr style=\"text-align: right;\">\n",
              "      <th></th>\n",
              "      <th>one</th>\n",
              "      <th>two</th>\n",
              "      <th>price</th>\n",
              "    </tr>\n",
              "  </thead>\n",
              "  <tbody>\n",
              "    <tr>\n",
              "      <th>0</th>\n",
              "      <td>1</td>\n",
              "      <td>2</td>\n",
              "      <td>prod1</td>\n",
              "    </tr>\n",
              "    <tr>\n",
              "      <th>3</th>\n",
              "      <td>1000</td>\n",
              "      <td>2000</td>\n",
              "      <td>prod1</td>\n",
              "    </tr>\n",
              "  </tbody>\n",
              "</table>\n",
              "</div>\n",
              "      <button class=\"colab-df-convert\" onclick=\"convertToInteractive('df-d3011a9b-fdbd-4fce-a4f2-b8f1bb0a0e86')\"\n",
              "              title=\"Convert this dataframe to an interactive table.\"\n",
              "              style=\"display:none;\">\n",
              "        \n",
              "  <svg xmlns=\"http://www.w3.org/2000/svg\" height=\"24px\"viewBox=\"0 0 24 24\"\n",
              "       width=\"24px\">\n",
              "    <path d=\"M0 0h24v24H0V0z\" fill=\"none\"/>\n",
              "    <path d=\"M18.56 5.44l.94 2.06.94-2.06 2.06-.94-2.06-.94-.94-2.06-.94 2.06-2.06.94zm-11 1L8.5 8.5l.94-2.06 2.06-.94-2.06-.94L8.5 2.5l-.94 2.06-2.06.94zm10 10l.94 2.06.94-2.06 2.06-.94-2.06-.94-.94-2.06-.94 2.06-2.06.94z\"/><path d=\"M17.41 7.96l-1.37-1.37c-.4-.4-.92-.59-1.43-.59-.52 0-1.04.2-1.43.59L10.3 9.45l-7.72 7.72c-.78.78-.78 2.05 0 2.83L4 21.41c.39.39.9.59 1.41.59.51 0 1.02-.2 1.41-.59l7.78-7.78 2.81-2.81c.8-.78.8-2.07 0-2.86zM5.41 20L4 18.59l7.72-7.72 1.47 1.35L5.41 20z\"/>\n",
              "  </svg>\n",
              "      </button>\n",
              "      \n",
              "  <style>\n",
              "    .colab-df-container {\n",
              "      display:flex;\n",
              "      flex-wrap:wrap;\n",
              "      gap: 12px;\n",
              "    }\n",
              "\n",
              "    .colab-df-convert {\n",
              "      background-color: #E8F0FE;\n",
              "      border: none;\n",
              "      border-radius: 50%;\n",
              "      cursor: pointer;\n",
              "      display: none;\n",
              "      fill: #1967D2;\n",
              "      height: 32px;\n",
              "      padding: 0 0 0 0;\n",
              "      width: 32px;\n",
              "    }\n",
              "\n",
              "    .colab-df-convert:hover {\n",
              "      background-color: #E2EBFA;\n",
              "      box-shadow: 0px 1px 2px rgba(60, 64, 67, 0.3), 0px 1px 3px 1px rgba(60, 64, 67, 0.15);\n",
              "      fill: #174EA6;\n",
              "    }\n",
              "\n",
              "    [theme=dark] .colab-df-convert {\n",
              "      background-color: #3B4455;\n",
              "      fill: #D2E3FC;\n",
              "    }\n",
              "\n",
              "    [theme=dark] .colab-df-convert:hover {\n",
              "      background-color: #434B5C;\n",
              "      box-shadow: 0px 1px 3px 1px rgba(0, 0, 0, 0.15);\n",
              "      filter: drop-shadow(0px 1px 2px rgba(0, 0, 0, 0.3));\n",
              "      fill: #FFFFFF;\n",
              "    }\n",
              "  </style>\n",
              "\n",
              "      <script>\n",
              "        const buttonEl =\n",
              "          document.querySelector('#df-d3011a9b-fdbd-4fce-a4f2-b8f1bb0a0e86 button.colab-df-convert');\n",
              "        buttonEl.style.display =\n",
              "          google.colab.kernel.accessAllowed ? 'block' : 'none';\n",
              "\n",
              "        async function convertToInteractive(key) {\n",
              "          const element = document.querySelector('#df-d3011a9b-fdbd-4fce-a4f2-b8f1bb0a0e86');\n",
              "          const dataTable =\n",
              "            await google.colab.kernel.invokeFunction('convertToInteractive',\n",
              "                                                     [key], {});\n",
              "          if (!dataTable) return;\n",
              "\n",
              "          const docLinkHtml = 'Like what you see? Visit the ' +\n",
              "            '<a target=\"_blank\" href=https://colab.research.google.com/notebooks/data_table.ipynb>data table notebook</a>'\n",
              "            + ' to learn more about interactive tables.';\n",
              "          element.innerHTML = '';\n",
              "          dataTable['output_type'] = 'display_data';\n",
              "          await google.colab.output.renderOutput(dataTable, element);\n",
              "          const docLink = document.createElement('div');\n",
              "          docLink.innerHTML = docLinkHtml;\n",
              "          element.appendChild(docLink);\n",
              "        }\n",
              "      </script>\n",
              "    </div>\n",
              "  </div>\n",
              "  "
            ]
          },
          "metadata": {},
          "execution_count": 32
        }
      ]
    },
    {
      "cell_type": "code",
      "metadata": {
        "id": "rSUZUGXRoGiq",
        "colab": {
          "base_uri": "https://localhost:8080/",
          "height": 206
        },
        "outputId": "f2a4c44e-b1d6-4f53-cfe5-d0f1566bb13d"
      },
      "source": [
        "dfPrice.describe()  # tabela podstawowych statystych dla poszczególnych podzbiorów"
      ],
      "execution_count": null,
      "outputs": [
        {
          "output_type": "execute_result",
          "data": {
            "text/plain": [
              "        one                                                                 \\\n",
              "      count    mean          std    min      25%     50%      75%      max   \n",
              "price                                                                        \n",
              "prod1   2.0   500.5   706.399674    1.0   250.75   500.5   750.25   1000.0   \n",
              "prod2   2.0  5050.0  7000.357134  100.0  2575.00  5050.0  7525.00  10000.0   \n",
              "prod3   1.0    10.0          NaN   10.0    10.00    10.0    10.00     10.0   \n",
              "\n",
              "        two                                                             \n",
              "      count    mean          std    min    25%     50%     75%     max  \n",
              "price                                                                   \n",
              "prod1   2.0  1001.0  1412.799349    2.0  501.5  1001.0  1500.5  2000.0  \n",
              "prod2   2.0  1100.0  1272.792206  200.0  650.0  1100.0  1550.0  2000.0  \n",
              "prod3   1.0    20.0          NaN   20.0   20.0    20.0    20.0    20.0  "
            ],
            "text/html": [
              "\n",
              "  <div id=\"df-4109ee55-9357-4506-9037-b985d0453261\">\n",
              "    <div class=\"colab-df-container\">\n",
              "      <div>\n",
              "<style scoped>\n",
              "    .dataframe tbody tr th:only-of-type {\n",
              "        vertical-align: middle;\n",
              "    }\n",
              "\n",
              "    .dataframe tbody tr th {\n",
              "        vertical-align: top;\n",
              "    }\n",
              "\n",
              "    .dataframe thead tr th {\n",
              "        text-align: left;\n",
              "    }\n",
              "\n",
              "    .dataframe thead tr:last-of-type th {\n",
              "        text-align: right;\n",
              "    }\n",
              "</style>\n",
              "<table border=\"1\" class=\"dataframe\">\n",
              "  <thead>\n",
              "    <tr>\n",
              "      <th></th>\n",
              "      <th colspan=\"8\" halign=\"left\">one</th>\n",
              "      <th colspan=\"8\" halign=\"left\">two</th>\n",
              "    </tr>\n",
              "    <tr>\n",
              "      <th></th>\n",
              "      <th>count</th>\n",
              "      <th>mean</th>\n",
              "      <th>std</th>\n",
              "      <th>min</th>\n",
              "      <th>25%</th>\n",
              "      <th>50%</th>\n",
              "      <th>75%</th>\n",
              "      <th>max</th>\n",
              "      <th>count</th>\n",
              "      <th>mean</th>\n",
              "      <th>std</th>\n",
              "      <th>min</th>\n",
              "      <th>25%</th>\n",
              "      <th>50%</th>\n",
              "      <th>75%</th>\n",
              "      <th>max</th>\n",
              "    </tr>\n",
              "    <tr>\n",
              "      <th>price</th>\n",
              "      <th></th>\n",
              "      <th></th>\n",
              "      <th></th>\n",
              "      <th></th>\n",
              "      <th></th>\n",
              "      <th></th>\n",
              "      <th></th>\n",
              "      <th></th>\n",
              "      <th></th>\n",
              "      <th></th>\n",
              "      <th></th>\n",
              "      <th></th>\n",
              "      <th></th>\n",
              "      <th></th>\n",
              "      <th></th>\n",
              "      <th></th>\n",
              "    </tr>\n",
              "  </thead>\n",
              "  <tbody>\n",
              "    <tr>\n",
              "      <th>prod1</th>\n",
              "      <td>2.0</td>\n",
              "      <td>500.5</td>\n",
              "      <td>706.399674</td>\n",
              "      <td>1.0</td>\n",
              "      <td>250.75</td>\n",
              "      <td>500.5</td>\n",
              "      <td>750.25</td>\n",
              "      <td>1000.0</td>\n",
              "      <td>2.0</td>\n",
              "      <td>1001.0</td>\n",
              "      <td>1412.799349</td>\n",
              "      <td>2.0</td>\n",
              "      <td>501.5</td>\n",
              "      <td>1001.0</td>\n",
              "      <td>1500.5</td>\n",
              "      <td>2000.0</td>\n",
              "    </tr>\n",
              "    <tr>\n",
              "      <th>prod2</th>\n",
              "      <td>2.0</td>\n",
              "      <td>5050.0</td>\n",
              "      <td>7000.357134</td>\n",
              "      <td>100.0</td>\n",
              "      <td>2575.00</td>\n",
              "      <td>5050.0</td>\n",
              "      <td>7525.00</td>\n",
              "      <td>10000.0</td>\n",
              "      <td>2.0</td>\n",
              "      <td>1100.0</td>\n",
              "      <td>1272.792206</td>\n",
              "      <td>200.0</td>\n",
              "      <td>650.0</td>\n",
              "      <td>1100.0</td>\n",
              "      <td>1550.0</td>\n",
              "      <td>2000.0</td>\n",
              "    </tr>\n",
              "    <tr>\n",
              "      <th>prod3</th>\n",
              "      <td>1.0</td>\n",
              "      <td>10.0</td>\n",
              "      <td>NaN</td>\n",
              "      <td>10.0</td>\n",
              "      <td>10.00</td>\n",
              "      <td>10.0</td>\n",
              "      <td>10.00</td>\n",
              "      <td>10.0</td>\n",
              "      <td>1.0</td>\n",
              "      <td>20.0</td>\n",
              "      <td>NaN</td>\n",
              "      <td>20.0</td>\n",
              "      <td>20.0</td>\n",
              "      <td>20.0</td>\n",
              "      <td>20.0</td>\n",
              "      <td>20.0</td>\n",
              "    </tr>\n",
              "  </tbody>\n",
              "</table>\n",
              "</div>\n",
              "      <button class=\"colab-df-convert\" onclick=\"convertToInteractive('df-4109ee55-9357-4506-9037-b985d0453261')\"\n",
              "              title=\"Convert this dataframe to an interactive table.\"\n",
              "              style=\"display:none;\">\n",
              "        \n",
              "  <svg xmlns=\"http://www.w3.org/2000/svg\" height=\"24px\"viewBox=\"0 0 24 24\"\n",
              "       width=\"24px\">\n",
              "    <path d=\"M0 0h24v24H0V0z\" fill=\"none\"/>\n",
              "    <path d=\"M18.56 5.44l.94 2.06.94-2.06 2.06-.94-2.06-.94-.94-2.06-.94 2.06-2.06.94zm-11 1L8.5 8.5l.94-2.06 2.06-.94-2.06-.94L8.5 2.5l-.94 2.06-2.06.94zm10 10l.94 2.06.94-2.06 2.06-.94-2.06-.94-.94-2.06-.94 2.06-2.06.94z\"/><path d=\"M17.41 7.96l-1.37-1.37c-.4-.4-.92-.59-1.43-.59-.52 0-1.04.2-1.43.59L10.3 9.45l-7.72 7.72c-.78.78-.78 2.05 0 2.83L4 21.41c.39.39.9.59 1.41.59.51 0 1.02-.2 1.41-.59l7.78-7.78 2.81-2.81c.8-.78.8-2.07 0-2.86zM5.41 20L4 18.59l7.72-7.72 1.47 1.35L5.41 20z\"/>\n",
              "  </svg>\n",
              "      </button>\n",
              "      \n",
              "  <style>\n",
              "    .colab-df-container {\n",
              "      display:flex;\n",
              "      flex-wrap:wrap;\n",
              "      gap: 12px;\n",
              "    }\n",
              "\n",
              "    .colab-df-convert {\n",
              "      background-color: #E8F0FE;\n",
              "      border: none;\n",
              "      border-radius: 50%;\n",
              "      cursor: pointer;\n",
              "      display: none;\n",
              "      fill: #1967D2;\n",
              "      height: 32px;\n",
              "      padding: 0 0 0 0;\n",
              "      width: 32px;\n",
              "    }\n",
              "\n",
              "    .colab-df-convert:hover {\n",
              "      background-color: #E2EBFA;\n",
              "      box-shadow: 0px 1px 2px rgba(60, 64, 67, 0.3), 0px 1px 3px 1px rgba(60, 64, 67, 0.15);\n",
              "      fill: #174EA6;\n",
              "    }\n",
              "\n",
              "    [theme=dark] .colab-df-convert {\n",
              "      background-color: #3B4455;\n",
              "      fill: #D2E3FC;\n",
              "    }\n",
              "\n",
              "    [theme=dark] .colab-df-convert:hover {\n",
              "      background-color: #434B5C;\n",
              "      box-shadow: 0px 1px 3px 1px rgba(0, 0, 0, 0.15);\n",
              "      filter: drop-shadow(0px 1px 2px rgba(0, 0, 0, 0.3));\n",
              "      fill: #FFFFFF;\n",
              "    }\n",
              "  </style>\n",
              "\n",
              "      <script>\n",
              "        const buttonEl =\n",
              "          document.querySelector('#df-4109ee55-9357-4506-9037-b985d0453261 button.colab-df-convert');\n",
              "        buttonEl.style.display =\n",
              "          google.colab.kernel.accessAllowed ? 'block' : 'none';\n",
              "\n",
              "        async function convertToInteractive(key) {\n",
              "          const element = document.querySelector('#df-4109ee55-9357-4506-9037-b985d0453261');\n",
              "          const dataTable =\n",
              "            await google.colab.kernel.invokeFunction('convertToInteractive',\n",
              "                                                     [key], {});\n",
              "          if (!dataTable) return;\n",
              "\n",
              "          const docLinkHtml = 'Like what you see? Visit the ' +\n",
              "            '<a target=\"_blank\" href=https://colab.research.google.com/notebooks/data_table.ipynb>data table notebook</a>'\n",
              "            + ' to learn more about interactive tables.';\n",
              "          element.innerHTML = '';\n",
              "          dataTable['output_type'] = 'display_data';\n",
              "          await google.colab.output.renderOutput(dataTable, element);\n",
              "          const docLink = document.createElement('div');\n",
              "          docLink.innerHTML = docLinkHtml;\n",
              "          element.appendChild(docLink);\n",
              "        }\n",
              "      </script>\n",
              "    </div>\n",
              "  </div>\n",
              "  "
            ]
          },
          "metadata": {},
          "execution_count": 19
        }
      ]
    },
    {
      "cell_type": "code",
      "metadata": {
        "id": "dgrNGBbdoGir",
        "colab": {
          "base_uri": "https://localhost:8080/",
          "height": 175
        },
        "outputId": "06fee94e-2c94-4bc7-b6e8-7b79bbc04a67"
      },
      "source": [
        "dfPrice.sum()   # sumowanie wartości obiektów po kolumnach dla poszczególnych podzbiorów"
      ],
      "execution_count": null,
      "outputs": [
        {
          "output_type": "execute_result",
          "data": {
            "text/plain": [
              "         one   two\n",
              "price             \n",
              "prod1   1001  2002\n",
              "prod2  10100  2200\n",
              "prod3     10    20"
            ],
            "text/html": [
              "\n",
              "  <div id=\"df-9f534c3d-9139-4c89-93eb-557728614fba\">\n",
              "    <div class=\"colab-df-container\">\n",
              "      <div>\n",
              "<style scoped>\n",
              "    .dataframe tbody tr th:only-of-type {\n",
              "        vertical-align: middle;\n",
              "    }\n",
              "\n",
              "    .dataframe tbody tr th {\n",
              "        vertical-align: top;\n",
              "    }\n",
              "\n",
              "    .dataframe thead th {\n",
              "        text-align: right;\n",
              "    }\n",
              "</style>\n",
              "<table border=\"1\" class=\"dataframe\">\n",
              "  <thead>\n",
              "    <tr style=\"text-align: right;\">\n",
              "      <th></th>\n",
              "      <th>one</th>\n",
              "      <th>two</th>\n",
              "    </tr>\n",
              "    <tr>\n",
              "      <th>price</th>\n",
              "      <th></th>\n",
              "      <th></th>\n",
              "    </tr>\n",
              "  </thead>\n",
              "  <tbody>\n",
              "    <tr>\n",
              "      <th>prod1</th>\n",
              "      <td>1001</td>\n",
              "      <td>2002</td>\n",
              "    </tr>\n",
              "    <tr>\n",
              "      <th>prod2</th>\n",
              "      <td>10100</td>\n",
              "      <td>2200</td>\n",
              "    </tr>\n",
              "    <tr>\n",
              "      <th>prod3</th>\n",
              "      <td>10</td>\n",
              "      <td>20</td>\n",
              "    </tr>\n",
              "  </tbody>\n",
              "</table>\n",
              "</div>\n",
              "      <button class=\"colab-df-convert\" onclick=\"convertToInteractive('df-9f534c3d-9139-4c89-93eb-557728614fba')\"\n",
              "              title=\"Convert this dataframe to an interactive table.\"\n",
              "              style=\"display:none;\">\n",
              "        \n",
              "  <svg xmlns=\"http://www.w3.org/2000/svg\" height=\"24px\"viewBox=\"0 0 24 24\"\n",
              "       width=\"24px\">\n",
              "    <path d=\"M0 0h24v24H0V0z\" fill=\"none\"/>\n",
              "    <path d=\"M18.56 5.44l.94 2.06.94-2.06 2.06-.94-2.06-.94-.94-2.06-.94 2.06-2.06.94zm-11 1L8.5 8.5l.94-2.06 2.06-.94-2.06-.94L8.5 2.5l-.94 2.06-2.06.94zm10 10l.94 2.06.94-2.06 2.06-.94-2.06-.94-.94-2.06-.94 2.06-2.06.94z\"/><path d=\"M17.41 7.96l-1.37-1.37c-.4-.4-.92-.59-1.43-.59-.52 0-1.04.2-1.43.59L10.3 9.45l-7.72 7.72c-.78.78-.78 2.05 0 2.83L4 21.41c.39.39.9.59 1.41.59.51 0 1.02-.2 1.41-.59l7.78-7.78 2.81-2.81c.8-.78.8-2.07 0-2.86zM5.41 20L4 18.59l7.72-7.72 1.47 1.35L5.41 20z\"/>\n",
              "  </svg>\n",
              "      </button>\n",
              "      \n",
              "  <style>\n",
              "    .colab-df-container {\n",
              "      display:flex;\n",
              "      flex-wrap:wrap;\n",
              "      gap: 12px;\n",
              "    }\n",
              "\n",
              "    .colab-df-convert {\n",
              "      background-color: #E8F0FE;\n",
              "      border: none;\n",
              "      border-radius: 50%;\n",
              "      cursor: pointer;\n",
              "      display: none;\n",
              "      fill: #1967D2;\n",
              "      height: 32px;\n",
              "      padding: 0 0 0 0;\n",
              "      width: 32px;\n",
              "    }\n",
              "\n",
              "    .colab-df-convert:hover {\n",
              "      background-color: #E2EBFA;\n",
              "      box-shadow: 0px 1px 2px rgba(60, 64, 67, 0.3), 0px 1px 3px 1px rgba(60, 64, 67, 0.15);\n",
              "      fill: #174EA6;\n",
              "    }\n",
              "\n",
              "    [theme=dark] .colab-df-convert {\n",
              "      background-color: #3B4455;\n",
              "      fill: #D2E3FC;\n",
              "    }\n",
              "\n",
              "    [theme=dark] .colab-df-convert:hover {\n",
              "      background-color: #434B5C;\n",
              "      box-shadow: 0px 1px 3px 1px rgba(0, 0, 0, 0.15);\n",
              "      filter: drop-shadow(0px 1px 2px rgba(0, 0, 0, 0.3));\n",
              "      fill: #FFFFFF;\n",
              "    }\n",
              "  </style>\n",
              "\n",
              "      <script>\n",
              "        const buttonEl =\n",
              "          document.querySelector('#df-9f534c3d-9139-4c89-93eb-557728614fba button.colab-df-convert');\n",
              "        buttonEl.style.display =\n",
              "          google.colab.kernel.accessAllowed ? 'block' : 'none';\n",
              "\n",
              "        async function convertToInteractive(key) {\n",
              "          const element = document.querySelector('#df-9f534c3d-9139-4c89-93eb-557728614fba');\n",
              "          const dataTable =\n",
              "            await google.colab.kernel.invokeFunction('convertToInteractive',\n",
              "                                                     [key], {});\n",
              "          if (!dataTable) return;\n",
              "\n",
              "          const docLinkHtml = 'Like what you see? Visit the ' +\n",
              "            '<a target=\"_blank\" href=https://colab.research.google.com/notebooks/data_table.ipynb>data table notebook</a>'\n",
              "            + ' to learn more about interactive tables.';\n",
              "          element.innerHTML = '';\n",
              "          dataTable['output_type'] = 'display_data';\n",
              "          await google.colab.output.renderOutput(dataTable, element);\n",
              "          const docLink = document.createElement('div');\n",
              "          docLink.innerHTML = docLinkHtml;\n",
              "          element.appendChild(docLink);\n",
              "        }\n",
              "      </script>\n",
              "    </div>\n",
              "  </div>\n",
              "  "
            ]
          },
          "metadata": {},
          "execution_count": 20
        }
      ]
    },
    {
      "cell_type": "code",
      "metadata": {
        "id": "vP8eO1rqoGir",
        "colab": {
          "base_uri": "https://localhost:8080/",
          "height": 175
        },
        "outputId": "55f89817-867d-4842-904f-051999d58f0f"
      },
      "source": [
        "dfPrice.mean()  # srednia z kolumn"
      ],
      "execution_count": null,
      "outputs": [
        {
          "output_type": "execute_result",
          "data": {
            "text/plain": [
              "          one     two\n",
              "price                \n",
              "prod1   500.5  1001.0\n",
              "prod2  5050.0  1100.0\n",
              "prod3    10.0    20.0"
            ],
            "text/html": [
              "\n",
              "  <div id=\"df-8e5f5a70-006f-41c3-b12f-525c7319d5d0\">\n",
              "    <div class=\"colab-df-container\">\n",
              "      <div>\n",
              "<style scoped>\n",
              "    .dataframe tbody tr th:only-of-type {\n",
              "        vertical-align: middle;\n",
              "    }\n",
              "\n",
              "    .dataframe tbody tr th {\n",
              "        vertical-align: top;\n",
              "    }\n",
              "\n",
              "    .dataframe thead th {\n",
              "        text-align: right;\n",
              "    }\n",
              "</style>\n",
              "<table border=\"1\" class=\"dataframe\">\n",
              "  <thead>\n",
              "    <tr style=\"text-align: right;\">\n",
              "      <th></th>\n",
              "      <th>one</th>\n",
              "      <th>two</th>\n",
              "    </tr>\n",
              "    <tr>\n",
              "      <th>price</th>\n",
              "      <th></th>\n",
              "      <th></th>\n",
              "    </tr>\n",
              "  </thead>\n",
              "  <tbody>\n",
              "    <tr>\n",
              "      <th>prod1</th>\n",
              "      <td>500.5</td>\n",
              "      <td>1001.0</td>\n",
              "    </tr>\n",
              "    <tr>\n",
              "      <th>prod2</th>\n",
              "      <td>5050.0</td>\n",
              "      <td>1100.0</td>\n",
              "    </tr>\n",
              "    <tr>\n",
              "      <th>prod3</th>\n",
              "      <td>10.0</td>\n",
              "      <td>20.0</td>\n",
              "    </tr>\n",
              "  </tbody>\n",
              "</table>\n",
              "</div>\n",
              "      <button class=\"colab-df-convert\" onclick=\"convertToInteractive('df-8e5f5a70-006f-41c3-b12f-525c7319d5d0')\"\n",
              "              title=\"Convert this dataframe to an interactive table.\"\n",
              "              style=\"display:none;\">\n",
              "        \n",
              "  <svg xmlns=\"http://www.w3.org/2000/svg\" height=\"24px\"viewBox=\"0 0 24 24\"\n",
              "       width=\"24px\">\n",
              "    <path d=\"M0 0h24v24H0V0z\" fill=\"none\"/>\n",
              "    <path d=\"M18.56 5.44l.94 2.06.94-2.06 2.06-.94-2.06-.94-.94-2.06-.94 2.06-2.06.94zm-11 1L8.5 8.5l.94-2.06 2.06-.94-2.06-.94L8.5 2.5l-.94 2.06-2.06.94zm10 10l.94 2.06.94-2.06 2.06-.94-2.06-.94-.94-2.06-.94 2.06-2.06.94z\"/><path d=\"M17.41 7.96l-1.37-1.37c-.4-.4-.92-.59-1.43-.59-.52 0-1.04.2-1.43.59L10.3 9.45l-7.72 7.72c-.78.78-.78 2.05 0 2.83L4 21.41c.39.39.9.59 1.41.59.51 0 1.02-.2 1.41-.59l7.78-7.78 2.81-2.81c.8-.78.8-2.07 0-2.86zM5.41 20L4 18.59l7.72-7.72 1.47 1.35L5.41 20z\"/>\n",
              "  </svg>\n",
              "      </button>\n",
              "      \n",
              "  <style>\n",
              "    .colab-df-container {\n",
              "      display:flex;\n",
              "      flex-wrap:wrap;\n",
              "      gap: 12px;\n",
              "    }\n",
              "\n",
              "    .colab-df-convert {\n",
              "      background-color: #E8F0FE;\n",
              "      border: none;\n",
              "      border-radius: 50%;\n",
              "      cursor: pointer;\n",
              "      display: none;\n",
              "      fill: #1967D2;\n",
              "      height: 32px;\n",
              "      padding: 0 0 0 0;\n",
              "      width: 32px;\n",
              "    }\n",
              "\n",
              "    .colab-df-convert:hover {\n",
              "      background-color: #E2EBFA;\n",
              "      box-shadow: 0px 1px 2px rgba(60, 64, 67, 0.3), 0px 1px 3px 1px rgba(60, 64, 67, 0.15);\n",
              "      fill: #174EA6;\n",
              "    }\n",
              "\n",
              "    [theme=dark] .colab-df-convert {\n",
              "      background-color: #3B4455;\n",
              "      fill: #D2E3FC;\n",
              "    }\n",
              "\n",
              "    [theme=dark] .colab-df-convert:hover {\n",
              "      background-color: #434B5C;\n",
              "      box-shadow: 0px 1px 3px 1px rgba(0, 0, 0, 0.15);\n",
              "      filter: drop-shadow(0px 1px 2px rgba(0, 0, 0, 0.3));\n",
              "      fill: #FFFFFF;\n",
              "    }\n",
              "  </style>\n",
              "\n",
              "      <script>\n",
              "        const buttonEl =\n",
              "          document.querySelector('#df-8e5f5a70-006f-41c3-b12f-525c7319d5d0 button.colab-df-convert');\n",
              "        buttonEl.style.display =\n",
              "          google.colab.kernel.accessAllowed ? 'block' : 'none';\n",
              "\n",
              "        async function convertToInteractive(key) {\n",
              "          const element = document.querySelector('#df-8e5f5a70-006f-41c3-b12f-525c7319d5d0');\n",
              "          const dataTable =\n",
              "            await google.colab.kernel.invokeFunction('convertToInteractive',\n",
              "                                                     [key], {});\n",
              "          if (!dataTable) return;\n",
              "\n",
              "          const docLinkHtml = 'Like what you see? Visit the ' +\n",
              "            '<a target=\"_blank\" href=https://colab.research.google.com/notebooks/data_table.ipynb>data table notebook</a>'\n",
              "            + ' to learn more about interactive tables.';\n",
              "          element.innerHTML = '';\n",
              "          dataTable['output_type'] = 'display_data';\n",
              "          await google.colab.output.renderOutput(dataTable, element);\n",
              "          const docLink = document.createElement('div');\n",
              "          docLink.innerHTML = docLinkHtml;\n",
              "          element.appendChild(docLink);\n",
              "        }\n",
              "      </script>\n",
              "    </div>\n",
              "  </div>\n",
              "  "
            ]
          },
          "metadata": {},
          "execution_count": 21
        }
      ]
    },
    {
      "cell_type": "markdown",
      "metadata": {
        "id": "DOYj2ppLoGis"
      },
      "source": [
        "### Przykłady grupowania danych po wielu kolumnach"
      ]
    },
    {
      "cell_type": "code",
      "metadata": {
        "id": "mq5e9G7moGis"
      },
      "source": [
        "grouped = dfs.groupby(['price', 'one'])"
      ],
      "execution_count": null,
      "outputs": []
    },
    {
      "cell_type": "code",
      "metadata": {
        "id": "9OHImw_7oGis",
        "colab": {
          "base_uri": "https://localhost:8080/"
        },
        "outputId": "0dedcb2e-1764-4f65-af26-c9439f62d940"
      },
      "source": [
        "print(grouped.get_group)"
      ],
      "execution_count": null,
      "outputs": [
        {
          "output_type": "stream",
          "name": "stdout",
          "text": [
            "<bound method BaseGroupBy.get_group of <pandas.core.groupby.generic.DataFrameGroupBy object at 0x7f0bc1d19c00>>\n"
          ]
        }
      ]
    },
    {
      "cell_type": "code",
      "metadata": {
        "id": "c2FjqBYuoGit",
        "colab": {
          "base_uri": "https://localhost:8080/"
        },
        "outputId": "645c1ee8-c209-4d54-b031-7df02f2fb9ff"
      },
      "source": [
        "print(grouped.sum())"
      ],
      "execution_count": null,
      "outputs": [
        {
          "output_type": "stream",
          "name": "stdout",
          "text": [
            "              two\n",
            "price one        \n",
            "prod1 1         2\n",
            "      1000   2000\n",
            "prod2 100     200\n",
            "      10000  2000\n",
            "prod3 10       20\n"
          ]
        }
      ]
    },
    {
      "cell_type": "code",
      "metadata": {
        "id": "_3tAUnU9oGit",
        "colab": {
          "base_uri": "https://localhost:8080/"
        },
        "outputId": "ee08af27-e73f-47fc-99e9-9362dbbaa7d6"
      },
      "source": [
        "print(grouped.sum().index)"
      ],
      "execution_count": null,
      "outputs": [
        {
          "output_type": "stream",
          "name": "stdout",
          "text": [
            "MultiIndex([('prod1',     1),\n",
            "            ('prod1',  1000),\n",
            "            ('prod2',   100),\n",
            "            ('prod2', 10000),\n",
            "            ('prod3',    10)],\n",
            "           names=['price', 'one'])\n"
          ]
        }
      ]
    },
    {
      "cell_type": "markdown",
      "metadata": {
        "id": "IQfQQjDj3tRr"
      },
      "source": [
        "### Praca na danych z pliku: zapis danych do pliku"
      ]
    },
    {
      "cell_type": "markdown",
      "metadata": {
        "id": "a1Qb1D9RoGiu"
      },
      "source": [
        "\n",
        "The pandas I/O API is a set of top level reader functions accessed like pd.read_csv() that generally return a pandas object.\n",
        "\n",
        "* read_csv\n",
        "* read_excel\n",
        "* read_hdf\n",
        "* read_sql\n",
        "* read_json\n",
        "* read_msgpack (experimental)\n",
        "* read_html\n",
        "* read_gbq (experimental)\n",
        "* read_stata\n",
        "* read_sas\n",
        "* read_clipboard\n",
        "* read_pickle\n",
        "The corresponding writer functions are object methods that are accessed like df.to_csv()\n",
        "\n",
        "* to_csv\n",
        "* to_excel\n",
        "* to_hdf\n",
        "* to_sql\n",
        "* to_json\n",
        "* to_msgpack (experimental)\n",
        "* to_html\n",
        "* to_gbq (experimental)\n",
        "* to_stata\n",
        "* to_clipboard\n",
        "* to_pickle###  Praca na danych z pliku: odczyt danych z pliku"
      ]
    },
    {
      "cell_type": "code",
      "metadata": {
        "id": "MngFNugQoGiu"
      },
      "source": [
        "#data = pd.read_excel( 'movies.xlsx')\n",
        "data = pd.read_excel('titanic_train.xlsx')  # tak wczytujemy dane z pliku jeśli jest w folderze roboczym\n",
        "#data = pd.read_excel('e:/DYDAKTYKA/Python/laboratoriumtitanic_train.xlsx')\n",
        "#folder_path = 'e:/DYDAKTYKA/Python/laboratorium/titanic_train.xlsx'\n",
        "#data = pd.read_excel(os.path.join(folder_path, 'titanic_train.xlsx'))  # tak wczytujemy dane z pliku jeśli jest w folderze roboczym"
      ],
      "execution_count": null,
      "outputs": []
    },
    {
      "cell_type": "code",
      "source": [
        "from google.colab\n",
        "drive.mount ('/import/drive') "
      ],
      "metadata": {
        "id": "7kVV2i1IHEcn"
      },
      "execution_count": null,
      "outputs": []
    },
    {
      "cell_type": "code",
      "metadata": {
        "id": "4OD0nelYoGiu",
        "colab": {
          "base_uri": "https://localhost:8080/",
          "height": 206
        },
        "outputId": "08a3b3fb-4e16-4c4a-e365-07b8394a3184"
      },
      "source": [
        "data.head()  # metoda .head wyświetla dla wszystkich kolumn 5 pierwszych wierszy"
      ],
      "execution_count": null,
      "outputs": [
        {
          "output_type": "execute_result",
          "data": {
            "text/plain": [
              "   PassengerId  Survived  Pclass  \\\n",
              "0            1         0       3   \n",
              "1            2         1       1   \n",
              "2            3         1       3   \n",
              "3            4         1       1   \n",
              "4            5         0       3   \n",
              "\n",
              "                                                Name     Sex   Age  SibSp  \\\n",
              "0                            Braund, Mr. Owen Harris    male  22.0      1   \n",
              "1  Cumings, Mrs. John Bradley (Florence Briggs Th...  female  38.0      1   \n",
              "2                             Heikkinen, Miss. Laina  female  26.0      0   \n",
              "3       Futrelle, Mrs. Jacques Heath (Lily May Peel)  female  35.0      1   \n",
              "4                           Allen, Mr. William Henry    male  35.0      0   \n",
              "\n",
              "   Parch            Ticket     Fare Cabin Embarked  \n",
              "0      0         A/5 21171   7.2500   NaN        S  \n",
              "1      0          PC 17599  71.2833   C85        C  \n",
              "2      0  STON/O2. 3101282   7.9250   NaN        S  \n",
              "3      0            113803  53.1000  C123        S  \n",
              "4      0            373450   8.0500   NaN        S  "
            ],
            "text/html": [
              "\n",
              "  <div id=\"df-c7ff8a3a-2b53-4eea-92cd-5c0654b2d745\">\n",
              "    <div class=\"colab-df-container\">\n",
              "      <div>\n",
              "<style scoped>\n",
              "    .dataframe tbody tr th:only-of-type {\n",
              "        vertical-align: middle;\n",
              "    }\n",
              "\n",
              "    .dataframe tbody tr th {\n",
              "        vertical-align: top;\n",
              "    }\n",
              "\n",
              "    .dataframe thead th {\n",
              "        text-align: right;\n",
              "    }\n",
              "</style>\n",
              "<table border=\"1\" class=\"dataframe\">\n",
              "  <thead>\n",
              "    <tr style=\"text-align: right;\">\n",
              "      <th></th>\n",
              "      <th>PassengerId</th>\n",
              "      <th>Survived</th>\n",
              "      <th>Pclass</th>\n",
              "      <th>Name</th>\n",
              "      <th>Sex</th>\n",
              "      <th>Age</th>\n",
              "      <th>SibSp</th>\n",
              "      <th>Parch</th>\n",
              "      <th>Ticket</th>\n",
              "      <th>Fare</th>\n",
              "      <th>Cabin</th>\n",
              "      <th>Embarked</th>\n",
              "    </tr>\n",
              "  </thead>\n",
              "  <tbody>\n",
              "    <tr>\n",
              "      <th>0</th>\n",
              "      <td>1</td>\n",
              "      <td>0</td>\n",
              "      <td>3</td>\n",
              "      <td>Braund, Mr. Owen Harris</td>\n",
              "      <td>male</td>\n",
              "      <td>22.0</td>\n",
              "      <td>1</td>\n",
              "      <td>0</td>\n",
              "      <td>A/5 21171</td>\n",
              "      <td>7.2500</td>\n",
              "      <td>NaN</td>\n",
              "      <td>S</td>\n",
              "    </tr>\n",
              "    <tr>\n",
              "      <th>1</th>\n",
              "      <td>2</td>\n",
              "      <td>1</td>\n",
              "      <td>1</td>\n",
              "      <td>Cumings, Mrs. John Bradley (Florence Briggs Th...</td>\n",
              "      <td>female</td>\n",
              "      <td>38.0</td>\n",
              "      <td>1</td>\n",
              "      <td>0</td>\n",
              "      <td>PC 17599</td>\n",
              "      <td>71.2833</td>\n",
              "      <td>C85</td>\n",
              "      <td>C</td>\n",
              "    </tr>\n",
              "    <tr>\n",
              "      <th>2</th>\n",
              "      <td>3</td>\n",
              "      <td>1</td>\n",
              "      <td>3</td>\n",
              "      <td>Heikkinen, Miss. Laina</td>\n",
              "      <td>female</td>\n",
              "      <td>26.0</td>\n",
              "      <td>0</td>\n",
              "      <td>0</td>\n",
              "      <td>STON/O2. 3101282</td>\n",
              "      <td>7.9250</td>\n",
              "      <td>NaN</td>\n",
              "      <td>S</td>\n",
              "    </tr>\n",
              "    <tr>\n",
              "      <th>3</th>\n",
              "      <td>4</td>\n",
              "      <td>1</td>\n",
              "      <td>1</td>\n",
              "      <td>Futrelle, Mrs. Jacques Heath (Lily May Peel)</td>\n",
              "      <td>female</td>\n",
              "      <td>35.0</td>\n",
              "      <td>1</td>\n",
              "      <td>0</td>\n",
              "      <td>113803</td>\n",
              "      <td>53.1000</td>\n",
              "      <td>C123</td>\n",
              "      <td>S</td>\n",
              "    </tr>\n",
              "    <tr>\n",
              "      <th>4</th>\n",
              "      <td>5</td>\n",
              "      <td>0</td>\n",
              "      <td>3</td>\n",
              "      <td>Allen, Mr. William Henry</td>\n",
              "      <td>male</td>\n",
              "      <td>35.0</td>\n",
              "      <td>0</td>\n",
              "      <td>0</td>\n",
              "      <td>373450</td>\n",
              "      <td>8.0500</td>\n",
              "      <td>NaN</td>\n",
              "      <td>S</td>\n",
              "    </tr>\n",
              "  </tbody>\n",
              "</table>\n",
              "</div>\n",
              "      <button class=\"colab-df-convert\" onclick=\"convertToInteractive('df-c7ff8a3a-2b53-4eea-92cd-5c0654b2d745')\"\n",
              "              title=\"Convert this dataframe to an interactive table.\"\n",
              "              style=\"display:none;\">\n",
              "        \n",
              "  <svg xmlns=\"http://www.w3.org/2000/svg\" height=\"24px\"viewBox=\"0 0 24 24\"\n",
              "       width=\"24px\">\n",
              "    <path d=\"M0 0h24v24H0V0z\" fill=\"none\"/>\n",
              "    <path d=\"M18.56 5.44l.94 2.06.94-2.06 2.06-.94-2.06-.94-.94-2.06-.94 2.06-2.06.94zm-11 1L8.5 8.5l.94-2.06 2.06-.94-2.06-.94L8.5 2.5l-.94 2.06-2.06.94zm10 10l.94 2.06.94-2.06 2.06-.94-2.06-.94-.94-2.06-.94 2.06-2.06.94z\"/><path d=\"M17.41 7.96l-1.37-1.37c-.4-.4-.92-.59-1.43-.59-.52 0-1.04.2-1.43.59L10.3 9.45l-7.72 7.72c-.78.78-.78 2.05 0 2.83L4 21.41c.39.39.9.59 1.41.59.51 0 1.02-.2 1.41-.59l7.78-7.78 2.81-2.81c.8-.78.8-2.07 0-2.86zM5.41 20L4 18.59l7.72-7.72 1.47 1.35L5.41 20z\"/>\n",
              "  </svg>\n",
              "      </button>\n",
              "      \n",
              "  <style>\n",
              "    .colab-df-container {\n",
              "      display:flex;\n",
              "      flex-wrap:wrap;\n",
              "      gap: 12px;\n",
              "    }\n",
              "\n",
              "    .colab-df-convert {\n",
              "      background-color: #E8F0FE;\n",
              "      border: none;\n",
              "      border-radius: 50%;\n",
              "      cursor: pointer;\n",
              "      display: none;\n",
              "      fill: #1967D2;\n",
              "      height: 32px;\n",
              "      padding: 0 0 0 0;\n",
              "      width: 32px;\n",
              "    }\n",
              "\n",
              "    .colab-df-convert:hover {\n",
              "      background-color: #E2EBFA;\n",
              "      box-shadow: 0px 1px 2px rgba(60, 64, 67, 0.3), 0px 1px 3px 1px rgba(60, 64, 67, 0.15);\n",
              "      fill: #174EA6;\n",
              "    }\n",
              "\n",
              "    [theme=dark] .colab-df-convert {\n",
              "      background-color: #3B4455;\n",
              "      fill: #D2E3FC;\n",
              "    }\n",
              "\n",
              "    [theme=dark] .colab-df-convert:hover {\n",
              "      background-color: #434B5C;\n",
              "      box-shadow: 0px 1px 3px 1px rgba(0, 0, 0, 0.15);\n",
              "      filter: drop-shadow(0px 1px 2px rgba(0, 0, 0, 0.3));\n",
              "      fill: #FFFFFF;\n",
              "    }\n",
              "  </style>\n",
              "\n",
              "      <script>\n",
              "        const buttonEl =\n",
              "          document.querySelector('#df-c7ff8a3a-2b53-4eea-92cd-5c0654b2d745 button.colab-df-convert');\n",
              "        buttonEl.style.display =\n",
              "          google.colab.kernel.accessAllowed ? 'block' : 'none';\n",
              "\n",
              "        async function convertToInteractive(key) {\n",
              "          const element = document.querySelector('#df-c7ff8a3a-2b53-4eea-92cd-5c0654b2d745');\n",
              "          const dataTable =\n",
              "            await google.colab.kernel.invokeFunction('convertToInteractive',\n",
              "                                                     [key], {});\n",
              "          if (!dataTable) return;\n",
              "\n",
              "          const docLinkHtml = 'Like what you see? Visit the ' +\n",
              "            '<a target=\"_blank\" href=https://colab.research.google.com/notebooks/data_table.ipynb>data table notebook</a>'\n",
              "            + ' to learn more about interactive tables.';\n",
              "          element.innerHTML = '';\n",
              "          dataTable['output_type'] = 'display_data';\n",
              "          await google.colab.output.renderOutput(dataTable, element);\n",
              "          const docLink = document.createElement('div');\n",
              "          docLink.innerHTML = docLinkHtml;\n",
              "          element.appendChild(docLink);\n",
              "        }\n",
              "      </script>\n",
              "    </div>\n",
              "  </div>\n",
              "  "
            ]
          },
          "metadata": {},
          "execution_count": 64
        }
      ]
    },
    {
      "cell_type": "code",
      "source": [
        "data.columns"
      ],
      "metadata": {
        "colab": {
          "base_uri": "https://localhost:8080/"
        },
        "id": "LwSgSJTxUs6Z",
        "outputId": "9093f89c-b4a0-43e9-e1db-a7f8ead3b2fb"
      },
      "execution_count": null,
      "outputs": [
        {
          "output_type": "execute_result",
          "data": {
            "text/plain": [
              "Index(['PassengerId', 'Survived', 'Pclass', 'Name', 'Sex', 'Age', 'SibSp',\n",
              "       'Parch', 'Ticket', 'Fare', 'Cabin', 'Embarked'],\n",
              "      dtype='object')"
            ]
          },
          "metadata": {},
          "execution_count": 65
        }
      ]
    },
    {
      "cell_type": "code",
      "source": [
        "print('Ilu było pasażerów?')\n",
        "print(data[(data['Pclass']==1)].shape)\n",
        "print(data[(data['Pclass']==2)].shape)\n",
        "print(data[(data['Pclass']==3)].shape)\n",
        "\n",
        "print('Ilu pasażerów przeżyło?')\n",
        "print(data[(data['Pclass']==1) & (data['Survived']==1)].shape)\n",
        "print(data[(data['Pclass']==2) & (data['Survived']==1)].shape)\n",
        "print(data[(data['Pclass']==3) & (data['Survived']==1)].shape)\n",
        "\n",
        "print('Ile było kobiet na statku?')\n",
        "print(data[(data['Pclass']==1) & (data['Sex']== 'female')].shape)\n",
        "print(data[(data['Pclass']==2) & (data['Sex']== 'female')].shape)\n",
        "print(data[(data['Pclass']==3) & (data['Sex']== 'female')].shape)\n",
        "\n",
        "print('Ile kobiet przeżyło?')\n",
        "print(data[(data['Pclass']==1) & (data['Survived']==1) & (data['Sex']== 'female')].shape)\n",
        "print(data[(data['Pclass']==2) & (data['Survived']==1) & (data['Sex']== 'female')].shape)\n",
        "print(data[(data['Pclass']==3) & (data['Survived']==1) & (data['Sex']== 'female')].shape)\n",
        "\n"
      ],
      "metadata": {
        "colab": {
          "base_uri": "https://localhost:8080/"
        },
        "id": "JbDzfjM3U4mz",
        "outputId": "241e8bbb-4f77-46f6-db94-bd22ee644498"
      },
      "execution_count": null,
      "outputs": [
        {
          "output_type": "stream",
          "name": "stdout",
          "text": [
            "Ilu było pasażerów?\n",
            "(216, 12)\n",
            "(184, 12)\n",
            "(491, 12)\n",
            "Ilu pasażerów przeżyło?\n",
            "(136, 12)\n",
            "(87, 12)\n",
            "(119, 12)\n",
            "Ile było koniet na statku?\n",
            "(94, 12)\n",
            "(76, 12)\n",
            "(144, 12)\n",
            "Ile kobiet przeżyło?\n",
            "(91, 12)\n",
            "(70, 12)\n",
            "(72, 12)\n"
          ]
        }
      ]
    },
    {
      "cell_type": "markdown",
      "metadata": {
        "id": "OhTmdHtQoGiv"
      },
      "source": [
        "### Praca na danych z pliku: zapis danych do pliku"
      ]
    },
    {
      "cell_type": "code",
      "metadata": {
        "id": "d7MnEdTboGiv"
      },
      "source": [
        "############# składnia funkcji dla plików z rozszerzeniem *.csv\n",
        "# data.to_csv(path_or_buf=None, sep=',', na_rep='', float_format=None, columns=None, \n",
        "#            header=True, index=True, index_label=None, mode='w', encoding=None, \n",
        "#            compression=None, quoting=None, quotechar='\"', line_terminator='\\n', \n",
        "#            chunksize=None, tupleize_cols=False, date_format=None, doublequote=True, \n",
        "#            escapechar=None, decimal='.', **kwds)"
      ],
      "execution_count": null,
      "outputs": []
    },
    {
      "cell_type": "code",
      "metadata": {
        "id": "f6lraNeroGiw"
      },
      "source": [
        "############## składnia funkcji dla plików z rozszerzeniem *.xlsx\n",
        "# data.to_excel(excel_writer, sheet_name='Sheet1', na_rep='', float_format=None, columns=None, \n",
        "#              header=True, index=True, index_label=None, startrow=0, startcol=0, engine=None, \n",
        "#              merge_cells=True, encoding=None, inf_rep='inf', verbose=True)"
      ],
      "execution_count": null,
      "outputs": []
    },
    {
      "cell_type": "code",
      "metadata": {
        "id": "va83WXuboGiw"
      },
      "source": [
        "#dataTitanic = data\n",
        "#data.to_excel('titanic_train.xlsx') # zapis do pliku *.xlsx\n",
        "#data.to_csv(os.path.join(folder_path, 'titanic_copy.csv'), index=False)    # zapis do pliku *.csv"
      ],
      "execution_count": null,
      "outputs": []
    },
    {
      "cell_type": "markdown",
      "metadata": {
        "id": "7dLlk5kvoGix"
      },
      "source": [
        "### Zadanie 1\n",
        "#### a) wypisz: pierwsze 3 kolumny, wiersze od 4 do 9, \n",
        "#### b) wyznacz średnią wieku pasażerów statku\n",
        "#### c) określ ile osób przeżyło katastrofę statku\n",
        "#### d) określ statystyki podstawowe dla 2 grup/klas: male i female\n",
        "#### e) ilu pasażerów podróżowało klasą 1 ilu 3"
      ]
    },
    {
      "cell_type": "code",
      "source": [
        "#### Zadanie 1 - A\n",
        "print(data.iloc[3:10, :3])"
      ],
      "metadata": {
        "colab": {
          "base_uri": "https://localhost:8080/"
        },
        "id": "vBeJWjlGUAjd",
        "outputId": "1ecbe636-c7d1-487a-ea56-800718bf34d2"
      },
      "execution_count": null,
      "outputs": [
        {
          "output_type": "stream",
          "name": "stdout",
          "text": [
            "   PassengerId  Survived  Pclass\n",
            "3            4         1       1\n",
            "4            5         0       3\n",
            "5            6         0       3\n",
            "6            7         0       1\n",
            "7            8         0       3\n",
            "8            9         1       3\n",
            "9           10         1       2\n"
          ]
        }
      ]
    },
    {
      "cell_type": "code",
      "source": [
        "#### Zadanie 1 - B\n",
        "df = pd.read_excel('titanic_train.xlsx')\n",
        "srednia_wieku = df['Age'].mean()\n",
        "print('Średnia wieku:', srednia_wieku)"
      ],
      "metadata": {
        "colab": {
          "base_uri": "https://localhost:8080/"
        },
        "id": "oED7z4F7jUoo",
        "outputId": "cccd5ecd-c22b-409a-f4ee-23c0b8914204"
      },
      "execution_count": null,
      "outputs": [
        {
          "output_type": "stream",
          "name": "stdout",
          "text": [
            "Średnia wieku: 29.69911764705882\n"
          ]
        }
      ]
    },
    {
      "cell_type": "code",
      "source": [
        "\n",
        "print(dir(df))\n"
      ],
      "metadata": {
        "colab": {
          "base_uri": "https://localhost:8080/"
        },
        "id": "WWvj-p0zG_yB",
        "outputId": "1b5b3835-910b-4619-aa81-7ae299e3b325"
      },
      "execution_count": null,
      "outputs": [
        {
          "output_type": "stream",
          "name": "stdout",
          "text": [
            "['Age', 'Cabin', 'Embarked', 'Fare', 'Name', 'Parch', 'PassengerId', 'Pclass', 'Sex', 'SibSp', 'Survived', 'T', 'Ticket', '_AXIS_LEN', '_AXIS_ORDERS', '_AXIS_TO_AXIS_NUMBER', '_HANDLED_TYPES', '__abs__', '__add__', '__and__', '__annotations__', '__array__', '__array_priority__', '__array_ufunc__', '__array_wrap__', '__bool__', '__class__', '__contains__', '__copy__', '__dataframe__', '__deepcopy__', '__delattr__', '__delitem__', '__dict__', '__dir__', '__divmod__', '__doc__', '__eq__', '__finalize__', '__floordiv__', '__format__', '__ge__', '__getattr__', '__getattribute__', '__getitem__', '__getstate__', '__gt__', '__hash__', '__iadd__', '__iand__', '__ifloordiv__', '__imod__', '__imul__', '__init__', '__init_subclass__', '__invert__', '__ior__', '__ipow__', '__isub__', '__iter__', '__itruediv__', '__ixor__', '__le__', '__len__', '__lt__', '__matmul__', '__mod__', '__module__', '__mul__', '__ne__', '__neg__', '__new__', '__nonzero__', '__or__', '__pos__', '__pow__', '__radd__', '__rand__', '__rdivmod__', '__reduce__', '__reduce_ex__', '__repr__', '__rfloordiv__', '__rmatmul__', '__rmod__', '__rmul__', '__ror__', '__round__', '__rpow__', '__rsub__', '__rtruediv__', '__rxor__', '__setattr__', '__setitem__', '__setstate__', '__sizeof__', '__str__', '__sub__', '__subclasshook__', '__truediv__', '__weakref__', '__xor__', '_accessors', '_accum_func', '_add_numeric_operations', '_agg_by_level', '_agg_examples_doc', '_agg_summary_and_see_also_doc', '_align_frame', '_align_series', '_append', '_arith_method', '_as_manager', '_attrs', '_box_col_values', '_can_fast_transpose', '_check_inplace_and_allows_duplicate_labels', '_check_inplace_setting', '_check_is_chained_assignment_possible', '_check_label_or_level_ambiguity', '_check_setitem_copy', '_clear_item_cache', '_clip_with_one_bound', '_clip_with_scalar', '_cmp_method', '_combine_frame', '_consolidate', '_consolidate_inplace', '_construct_axes_dict', '_construct_axes_from_arguments', '_construct_result', '_constructor', '_constructor_sliced', '_convert', '_count_level', '_data', '_dir_additions', '_dir_deletions', '_dispatch_frame_op', '_drop_axis', '_drop_labels_or_levels', '_ensure_valid_index', '_find_valid_index', '_flags', '_from_arrays', '_get_agg_axis', '_get_axis', '_get_axis_name', '_get_axis_number', '_get_axis_resolvers', '_get_block_manager_axis', '_get_bool_data', '_get_cleaned_column_resolvers', '_get_column_array', '_get_index_resolvers', '_get_item_cache', '_get_label_or_level_values', '_get_numeric_data', '_get_value', '_getitem_bool_array', '_getitem_multilevel', '_gotitem', '_hidden_attrs', '_indexed_same', '_info_axis', '_info_axis_name', '_info_axis_number', '_info_repr', '_init_mgr', '_inplace_method', '_internal_names', '_internal_names_set', '_is_copy', '_is_homogeneous_type', '_is_label_or_level_reference', '_is_label_reference', '_is_level_reference', '_is_mixed_type', '_is_view', '_iset_item', '_iset_item_mgr', '_iset_not_inplace', '_item_cache', '_iter_column_arrays', '_ixs', '_join_compat', '_logical_func', '_logical_method', '_maybe_cache_changed', '_maybe_update_cacher', '_metadata', '_mgr', '_min_count_stat_function', '_needs_reindex_multi', '_protect_consolidate', '_reduce', '_reduce_axis1', '_reindex_axes', '_reindex_columns', '_reindex_index', '_reindex_multi', '_reindex_with_indexers', '_rename', '_replace_columnwise', '_repr_data_resource_', '_repr_fits_horizontal_', '_repr_fits_vertical_', '_repr_html_', '_repr_latex_', '_reset_cache', '_reset_cacher', '_sanitize_column', '_series', '_set_axis', '_set_axis_name', '_set_axis_nocheck', '_set_is_copy', '_set_item', '_set_item_frame_value', '_set_item_mgr', '_set_value', '_setitem_array', '_setitem_frame', '_setitem_slice', '_slice', '_stat_axis', '_stat_axis_name', '_stat_axis_number', '_stat_function', '_stat_function_ddof', '_take', '_take_with_is_copy', '_to_dict_of_blocks', '_typ', '_update_inplace', '_validate_dtype', '_values', '_where', 'abs', 'add', 'add_prefix', 'add_suffix', 'agg', 'aggregate', 'align', 'all', 'any', 'append', 'apply', 'applymap', 'asfreq', 'asof', 'assign', 'astype', 'at', 'at_time', 'attrs', 'axes', 'backfill', 'between_time', 'bfill', 'bool', 'boxplot', 'clip', 'columns', 'combine', 'combine_first', 'compare', 'convert_dtypes', 'copy', 'corr', 'corrwith', 'count', 'cov', 'cummax', 'cummin', 'cumprod', 'cumsum', 'describe', 'diff', 'div', 'divide', 'dot', 'drop', 'drop_duplicates', 'droplevel', 'dropna', 'dtypes', 'duplicated', 'empty', 'eq', 'equals', 'eval', 'ewm', 'expanding', 'explode', 'ffill', 'fillna', 'filter', 'first', 'first_valid_index', 'flags', 'floordiv', 'from_dict', 'from_records', 'ge', 'get', 'groupby', 'gt', 'head', 'hist', 'iat', 'idxmax', 'idxmin', 'iloc', 'index', 'infer_objects', 'info', 'insert', 'interpolate', 'isetitem', 'isin', 'isna', 'isnull', 'items', 'iteritems', 'iterrows', 'itertuples', 'join', 'keys', 'kurt', 'kurtosis', 'last', 'last_valid_index', 'le', 'loc', 'lookup', 'lt', 'mad', 'mask', 'max', 'mean', 'median', 'melt', 'memory_usage', 'merge', 'min', 'mod', 'mode', 'mul', 'multiply', 'ndim', 'ne', 'nlargest', 'notna', 'notnull', 'nsmallest', 'nunique', 'pad', 'pct_change', 'pipe', 'pivot', 'pivot_table', 'plot', 'pop', 'pow', 'prod', 'product', 'quantile', 'query', 'radd', 'rank', 'rdiv', 'reindex', 'reindex_like', 'rename', 'rename_axis', 'reorder_levels', 'replace', 'resample', 'reset_index', 'rfloordiv', 'rmod', 'rmul', 'rolling', 'round', 'rpow', 'rsub', 'rtruediv', 'sample', 'select_dtypes', 'sem', 'set_axis', 'set_flags', 'set_index', 'shape', 'shift', 'size', 'skew', 'slice_shift', 'sort_index', 'sort_values', 'squeeze', 'stack', 'std', 'style', 'sub', 'subtract', 'sum', 'swapaxes', 'swaplevel', 'tail', 'take', 'to_clipboard', 'to_csv', 'to_dict', 'to_excel', 'to_feather', 'to_gbq', 'to_hdf', 'to_html', 'to_json', 'to_latex', 'to_markdown', 'to_numpy', 'to_orc', 'to_parquet', 'to_period', 'to_pickle', 'to_records', 'to_sql', 'to_stata', 'to_string', 'to_timestamp', 'to_xarray', 'to_xml', 'transform', 'transpose', 'truediv', 'truncate', 'tz_convert', 'tz_localize', 'unstack', 'update', 'value_counts', 'values', 'var', 'where', 'xs']\n"
          ]
        }
      ]
    },
    {
      "cell_type": "code",
      "source": [
        "#### Zadanie 1 - C\n",
        "suma_survived = df['Survived'].sum()\n",
        "print('Suma osób które przeżyło katastrofę statku:', suma_survived)"
      ],
      "metadata": {
        "colab": {
          "base_uri": "https://localhost:8080/"
        },
        "id": "pV_lcgWYHP1R",
        "outputId": "e7ed266f-08f0-4e7f-c444-c4743cdd52f7"
      },
      "execution_count": null,
      "outputs": [
        {
          "output_type": "stream",
          "name": "stdout",
          "text": [
            "Suma osób które przeżyło katastrofę statku: 342\n"
          ]
        }
      ]
    },
    {
      "cell_type": "code",
      "source": [
        "#### Zadanie 1 - D\n",
        "male_stats = df[df['Sex'] == 'male']['Survived'].describe()\n",
        "female_stats = df[df['Sex'] == 'female']['Survived'].describe()\n",
        "print(\"Stats for Male:\", male_stats)\n",
        "print(\"Stats for Female:\", female_stats)\n"
      ],
      "metadata": {
        "colab": {
          "base_uri": "https://localhost:8080/"
        },
        "id": "7Z__J96UIC4i",
        "outputId": "10b86963-5c76-4933-887b-66a7d85a1719"
      },
      "execution_count": null,
      "outputs": [
        {
          "output_type": "stream",
          "name": "stdout",
          "text": [
            "Stats for Male: count    577.000000\n",
            "mean       0.188908\n",
            "std        0.391775\n",
            "min        0.000000\n",
            "25%        0.000000\n",
            "50%        0.000000\n",
            "75%        0.000000\n",
            "max        1.000000\n",
            "Name: Survived, dtype: float64\n",
            "Stats for Female: count    314.000000\n",
            "mean       0.742038\n",
            "std        0.438211\n",
            "min        0.000000\n",
            "25%        0.000000\n",
            "50%        1.000000\n",
            "75%        1.000000\n",
            "max        1.000000\n",
            "Name: Survived, dtype: float64\n"
          ]
        }
      ]
    },
    {
      "cell_type": "code",
      "source": [
        "#### Zadanie 1 - E\n",
        "pclass1_sum = df[df['Pclass'] == 1]['Pclass'].sum()\n",
        "pclass3_sum = df[df['Pclass'] == 3]['Pclass'].sum()\n",
        "\n",
        "print(\"Suma dla 1 Klasy:\", pclass1_sum)\n",
        "print(\"Suma dla 3 Klasy:\", pclass3_sum)\n"
      ],
      "metadata": {
        "colab": {
          "base_uri": "https://localhost:8080/"
        },
        "id": "PLh0AMOMKc6B",
        "outputId": "2905b16a-a6bf-4dd0-d3be-de5b7980bc02"
      },
      "execution_count": null,
      "outputs": [
        {
          "output_type": "stream",
          "name": "stdout",
          "text": [
            "Suma dla 1 Klasy: 216\n",
            "Suma dla 3 Klasy: 1473\n"
          ]
        }
      ]
    },
    {
      "cell_type": "code",
      "metadata": {
        "id": "XPTBx-54oGix"
      },
      "source": [
        "\n",
        "data.columns"
      ],
      "execution_count": null,
      "outputs": []
    },
    {
      "cell_type": "code",
      "metadata": {
        "id": "Bqh1IArboGiy"
      },
      "source": [
        "meanAge = data[['Age']].mean()  # nazwa zmiennej w Camel meanAge\n",
        "mean_age = data[['Age']].mean()  # nazwa zmiennej w sneake mean_age"
      ],
      "execution_count": null,
      "outputs": []
    },
    {
      "cell_type": "code",
      "metadata": {
        "id": "t2_phSVZoGiy"
      },
      "source": [
        "statisticSex = data[['Sex']].describe()\n",
        "statisticSexdfs.groupby(['price'])"
      ],
      "execution_count": null,
      "outputs": []
    },
    {
      "cell_type": "code",
      "metadata": {
        "id": "FBGE-iNkoGiz"
      },
      "source": [
        "dataSex = data.groupby(['Sex'])"
      ],
      "execution_count": null,
      "outputs": []
    },
    {
      "cell_type": "code",
      "metadata": {
        "id": "cJ8w8NtooGiz"
      },
      "source": [
        "dataSex.describe()"
      ],
      "execution_count": null,
      "outputs": []
    },
    {
      "cell_type": "markdown",
      "metadata": {
        "id": "Az5hPwBOoGi1"
      },
      "source": []
    },
    {
      "cell_type": "markdown",
      "metadata": {
        "id": "I6TsyTdXoGi1"
      },
      "source": [
        "## Metody .loc i .iloc - służą do selekcji danych\n",
        "#### składnia:  nazwaObiektu.loc[numbersRows, nameColumns]      oraz   nazwaObiektu.iloc[numbersRows, numbersColumns]"
      ]
    },
    {
      "cell_type": "markdown",
      "metadata": {
        "id": "06UfXDWHoGi1"
      },
      "source": [
        "#### Zadanie 2 Zapoznaj się z przykładami działania metod .loc oraz .iloc"
      ]
    },
    {
      "cell_type": "code",
      "metadata": {
        "id": "RcBe3ydsoGi1",
        "colab": {
          "base_uri": "https://localhost:8080/"
        },
        "outputId": "b8b9185a-19ef-451e-eeb2-abd909da2b78"
      },
      "source": [
        " data = pd.read_excel('titanic_train.xlsx')\n",
        " print(data.loc[5])  # wyświetl dane 6 wiersz i wszystkie kolumny\n",
        " print(data.loc[5:10]) # wyświetl 6,...,9 wiersze i wszystkie kolumny\n",
        " print(data.loc[5, 'Name']) # wyświetl 6 wiersz z kolumny 'Name'\n",
        " print(data.loc[5:10, 'Name'])  # wyświetl 6,...,9 wiersze z kolumny 'Name'\n",
        " print(data.columns)\n",
        " print(data.loc[5:10, :'Pclass']) # wyświetl 6,...,10 wiersze i wszystkie kolumny poprzedzające kolumne 'Pclass'\n",
        " print(data.loc[5:10, ['Name', 'Pclass', 'Survived']]) # wyświetl 6,...,10 wiersze i kolumny 'Name', 'Pclass', 'Survived'"
      ],
      "execution_count": null,
      "outputs": [
        {
          "output_type": "stream",
          "name": "stdout",
          "text": [
            "PassengerId                   6\n",
            "Survived                      0\n",
            "Pclass                        3\n",
            "Name           Moran, Mr. James\n",
            "Sex                        male\n",
            "Age                         NaN\n",
            "SibSp                         0\n",
            "Parch                         0\n",
            "Ticket                   330877\n",
            "Fare                     8.4583\n",
            "Cabin                       NaN\n",
            "Embarked                      Q\n",
            "Name: 5, dtype: object\n",
            "    PassengerId  Survived  Pclass  \\\n",
            "5             6         0       3   \n",
            "6             7         0       1   \n",
            "7             8         0       3   \n",
            "8             9         1       3   \n",
            "9            10         1       2   \n",
            "10           11         1       3   \n",
            "\n",
            "                                                 Name     Sex   Age  SibSp  \\\n",
            "5                                    Moran, Mr. James    male   NaN      0   \n",
            "6                             McCarthy, Mr. Timothy J    male  54.0      0   \n",
            "7                      Palsson, Master. Gosta Leonard    male   2.0      3   \n",
            "8   Johnson, Mrs. Oscar W (Elisabeth Vilhelmina Berg)  female  27.0      0   \n",
            "9                 Nasser, Mrs. Nicholas (Adele Achem)  female  14.0      1   \n",
            "10                    Sandstrom, Miss. Marguerite Rut  female   4.0      1   \n",
            "\n",
            "    Parch   Ticket     Fare Cabin Embarked  \n",
            "5       0   330877   8.4583   NaN        Q  \n",
            "6       0    17463  51.8625   E46        S  \n",
            "7       1   349909  21.0750   NaN        S  \n",
            "8       2   347742  11.1333   NaN        S  \n",
            "9       0   237736  30.0708   NaN        C  \n",
            "10      1  PP 9549  16.7000    G6        S  \n",
            "Moran, Mr. James\n",
            "5                                      Moran, Mr. James\n",
            "6                               McCarthy, Mr. Timothy J\n",
            "7                        Palsson, Master. Gosta Leonard\n",
            "8     Johnson, Mrs. Oscar W (Elisabeth Vilhelmina Berg)\n",
            "9                   Nasser, Mrs. Nicholas (Adele Achem)\n",
            "10                      Sandstrom, Miss. Marguerite Rut\n",
            "Name: Name, dtype: object\n",
            "Index(['PassengerId', 'Survived', 'Pclass', 'Name', 'Sex', 'Age', 'SibSp',\n",
            "       'Parch', 'Ticket', 'Fare', 'Cabin', 'Embarked'],\n",
            "      dtype='object')\n",
            "    PassengerId  Survived  Pclass\n",
            "5             6         0       3\n",
            "6             7         0       1\n",
            "7             8         0       3\n",
            "8             9         1       3\n",
            "9            10         1       2\n",
            "10           11         1       3\n",
            "                                                 Name  Pclass  Survived\n",
            "5                                    Moran, Mr. James       3         0\n",
            "6                             McCarthy, Mr. Timothy J       1         0\n",
            "7                      Palsson, Master. Gosta Leonard       3         0\n",
            "8   Johnson, Mrs. Oscar W (Elisabeth Vilhelmina Berg)       3         1\n",
            "9                 Nasser, Mrs. Nicholas (Adele Achem)       2         1\n",
            "10                    Sandstrom, Miss. Marguerite Rut       3         1\n"
          ]
        }
      ]
    },
    {
      "cell_type": "code",
      "metadata": {
        "id": "xoGJBQhxoGi2",
        "colab": {
          "base_uri": "https://localhost:8080/"
        },
        "outputId": "2854d292-187d-4092-e7a7-d3c5747ecbba"
      },
      "source": [
        "print(data.loc[5])  # wyświetl dane 6 wiersz i wszystkie kolumny\n",
        "print(data.loc[5:10]) # wyświetl 6,...,9 wiersze i wszystkie kolumny\n",
        "print(data.loc[5, 'Name']) # wyświetl 6 wiersz z kolumny 'Name'\n",
        "print(data.loc[5:10, 'Name'])  # wyświetl 6,...,9 wiersze z kolumny 'Name'\n",
        "print(data.columns)\n",
        "print(data.loc[5:10, :'Pclass']) # wyświetl 6,...,10 wiersze i wszystkie kolumny poprzedzające kolumne 'Pclass'\n",
        "print(data.loc[5:10, ['Name', 'Pclass', 'Survived']]) # wyświetl 6,...,10 wiersze i kolumny 'Name', 'Pclass', 'Survived'"
      ],
      "execution_count": null,
      "outputs": [
        {
          "output_type": "stream",
          "name": "stdout",
          "text": [
            "PassengerId                   6\n",
            "Survived                      0\n",
            "Pclass                        3\n",
            "Name           Moran, Mr. James\n",
            "Sex                        male\n",
            "Age                         NaN\n",
            "SibSp                         0\n",
            "Parch                         0\n",
            "Ticket                   330877\n",
            "Fare                     8.4583\n",
            "Cabin                       NaN\n",
            "Embarked                      Q\n",
            "Name: 5, dtype: object\n",
            "    PassengerId  Survived  Pclass  \\\n",
            "5             6         0       3   \n",
            "6             7         0       1   \n",
            "7             8         0       3   \n",
            "8             9         1       3   \n",
            "9            10         1       2   \n",
            "10           11         1       3   \n",
            "\n",
            "                                                 Name     Sex   Age  SibSp  \\\n",
            "5                                    Moran, Mr. James    male   NaN      0   \n",
            "6                             McCarthy, Mr. Timothy J    male  54.0      0   \n",
            "7                      Palsson, Master. Gosta Leonard    male   2.0      3   \n",
            "8   Johnson, Mrs. Oscar W (Elisabeth Vilhelmina Berg)  female  27.0      0   \n",
            "9                 Nasser, Mrs. Nicholas (Adele Achem)  female  14.0      1   \n",
            "10                    Sandstrom, Miss. Marguerite Rut  female   4.0      1   \n",
            "\n",
            "    Parch   Ticket     Fare Cabin Embarked  \n",
            "5       0   330877   8.4583   NaN        Q  \n",
            "6       0    17463  51.8625   E46        S  \n",
            "7       1   349909  21.0750   NaN        S  \n",
            "8       2   347742  11.1333   NaN        S  \n",
            "9       0   237736  30.0708   NaN        C  \n",
            "10      1  PP 9549  16.7000    G6        S  \n",
            "Moran, Mr. James\n",
            "5                                      Moran, Mr. James\n",
            "6                               McCarthy, Mr. Timothy J\n",
            "7                        Palsson, Master. Gosta Leonard\n",
            "8     Johnson, Mrs. Oscar W (Elisabeth Vilhelmina Berg)\n",
            "9                   Nasser, Mrs. Nicholas (Adele Achem)\n",
            "10                      Sandstrom, Miss. Marguerite Rut\n",
            "Name: Name, dtype: object\n",
            "Index(['PassengerId', 'Survived', 'Pclass', 'Name', 'Sex', 'Age', 'SibSp',\n",
            "       'Parch', 'Ticket', 'Fare', 'Cabin', 'Embarked'],\n",
            "      dtype='object')\n",
            "    PassengerId  Survived  Pclass\n",
            "5             6         0       3\n",
            "6             7         0       1\n",
            "7             8         0       3\n",
            "8             9         1       3\n",
            "9            10         1       2\n",
            "10           11         1       3\n",
            "                                                 Name  Pclass  Survived\n",
            "5                                    Moran, Mr. James       3         0\n",
            "6                             McCarthy, Mr. Timothy J       1         0\n",
            "7                      Palsson, Master. Gosta Leonard       3         0\n",
            "8   Johnson, Mrs. Oscar W (Elisabeth Vilhelmina Berg)       3         1\n",
            "9                 Nasser, Mrs. Nicholas (Adele Achem)       2         1\n",
            "10                    Sandstrom, Miss. Marguerite Rut       3         1\n"
          ]
        }
      ]
    },
    {
      "cell_type": "code",
      "metadata": {
        "id": "WKUe8lYqoGi2",
        "colab": {
          "base_uri": "https://localhost:8080/"
        },
        "outputId": "561c39c9-594d-4712-ee04-b99b2a48795f"
      },
      "source": [
        " print(data.iloc[1])\n",
        " print(data.iloc[5:10])\n",
        " print(data.iloc[5, 3])  # dane: 5 wiersz 3 kolumna\n",
        " print(data.iloc[5:10, 3])\n",
        " print(data.iloc[5:10, :3])\n",
        " print(data.iloc[range(0, 50, 5), [1, 3]]) # dane: wiersze od 0 do 50 z krokiem 5, kolumny: 1, 3\n",
        " print(data.iloc[:50:5, [1, 3]]) # analog do formuły powyżej\n",
        " print(data.iloc[-10:]) # minus oznacza liczenie od końca tu wyświetl od 10 wiersza od końca\n",
        " print(data.Pclass.max()) # Wartość max i min dla kolumny Pclass\n",
        " print(data.Pclass.min())\n",
        " print(data.Pclass.sum()) # Wartość sumy dla kolumny Pclass\n",
        " print(data['Cabin'])\n",
        " print(data.Cabin.fillna(0)) # wstaw 0 w rekordy w których brakuje danych czyli jest NaN w kolumnie Cabin"
      ],
      "execution_count": null,
      "outputs": [
        {
          "output_type": "stream",
          "name": "stdout",
          "text": [
            "PassengerId                                                    2\n",
            "Survived                                                       1\n",
            "Pclass                                                         1\n",
            "Name           Cumings, Mrs. John Bradley (Florence Briggs Th...\n",
            "Sex                                                       female\n",
            "Age                                                         38.0\n",
            "SibSp                                                          1\n",
            "Parch                                                          0\n",
            "Ticket                                                  PC 17599\n",
            "Fare                                                     71.2833\n",
            "Cabin                                                        C85\n",
            "Embarked                                                       C\n",
            "Name: 1, dtype: object\n",
            "   PassengerId  Survived  Pclass  \\\n",
            "5            6         0       3   \n",
            "6            7         0       1   \n",
            "7            8         0       3   \n",
            "8            9         1       3   \n",
            "9           10         1       2   \n",
            "\n",
            "                                                Name     Sex   Age  SibSp  \\\n",
            "5                                   Moran, Mr. James    male   NaN      0   \n",
            "6                            McCarthy, Mr. Timothy J    male  54.0      0   \n",
            "7                     Palsson, Master. Gosta Leonard    male   2.0      3   \n",
            "8  Johnson, Mrs. Oscar W (Elisabeth Vilhelmina Berg)  female  27.0      0   \n",
            "9                Nasser, Mrs. Nicholas (Adele Achem)  female  14.0      1   \n",
            "\n",
            "   Parch  Ticket     Fare Cabin Embarked  \n",
            "5      0  330877   8.4583   NaN        Q  \n",
            "6      0   17463  51.8625   E46        S  \n",
            "7      1  349909  21.0750   NaN        S  \n",
            "8      2  347742  11.1333   NaN        S  \n",
            "9      0  237736  30.0708   NaN        C  \n",
            "Moran, Mr. James\n",
            "5                                     Moran, Mr. James\n",
            "6                              McCarthy, Mr. Timothy J\n",
            "7                       Palsson, Master. Gosta Leonard\n",
            "8    Johnson, Mrs. Oscar W (Elisabeth Vilhelmina Berg)\n",
            "9                  Nasser, Mrs. Nicholas (Adele Achem)\n",
            "Name: Name, dtype: object\n",
            "   PassengerId  Survived  Pclass\n",
            "5            6         0       3\n",
            "6            7         0       1\n",
            "7            8         0       3\n",
            "8            9         1       3\n",
            "9           10         1       2\n",
            "    Survived                                               Name\n",
            "0          0                            Braund, Mr. Owen Harris\n",
            "5          0                                   Moran, Mr. James\n",
            "10         1                    Sandstrom, Miss. Marguerite Rut\n",
            "15         1                   Hewlett, Mrs. (Mary D Kingcome) \n",
            "20         0                               Fynney, Mr. Joseph J\n",
            "25         1  Asplund, Mrs. Carl Oscar (Selma Augusta Emilia...\n",
            "30         0                           Uruchurtu, Don. Manuel E\n",
            "35         0                     Holverson, Mr. Alexander Oskar\n",
            "40         0     Ahlin, Mrs. Johan (Johanna Persdotter Larsson)\n",
            "45         0                           Rogers, Mr. William John\n",
            "    Survived                                               Name\n",
            "0          0                            Braund, Mr. Owen Harris\n",
            "5          0                                   Moran, Mr. James\n",
            "10         1                    Sandstrom, Miss. Marguerite Rut\n",
            "15         1                   Hewlett, Mrs. (Mary D Kingcome) \n",
            "20         0                               Fynney, Mr. Joseph J\n",
            "25         1  Asplund, Mrs. Carl Oscar (Selma Augusta Emilia...\n",
            "30         0                           Uruchurtu, Don. Manuel E\n",
            "35         0                     Holverson, Mr. Alexander Oskar\n",
            "40         0     Ahlin, Mrs. Johan (Johanna Persdotter Larsson)\n",
            "45         0                           Rogers, Mr. William John\n",
            "     PassengerId  Survived  Pclass                                      Name  \\\n",
            "881          882         0       3                        Markun, Mr. Johann   \n",
            "882          883         0       3              Dahlberg, Miss. Gerda Ulrika   \n",
            "883          884         0       2             Banfield, Mr. Frederick James   \n",
            "884          885         0       3                    Sutehall, Mr. Henry Jr   \n",
            "885          886         0       3      Rice, Mrs. William (Margaret Norton)   \n",
            "886          887         0       2                     Montvila, Rev. Juozas   \n",
            "887          888         1       1              Graham, Miss. Margaret Edith   \n",
            "888          889         0       3  Johnston, Miss. Catherine Helen \"Carrie\"   \n",
            "889          890         1       1                     Behr, Mr. Karl Howell   \n",
            "890          891         0       3                       Dooley, Mr. Patrick   \n",
            "\n",
            "        Sex   Age  SibSp  Parch            Ticket     Fare Cabin Embarked  \n",
            "881    male  33.0      0      0            349257   7.8958   NaN        S  \n",
            "882  female  22.0      0      0              7552  10.5167   NaN        S  \n",
            "883    male  28.0      0      0  C.A./SOTON 34068  10.5000   NaN        S  \n",
            "884    male  25.0      0      0   SOTON/OQ 392076   7.0500   NaN        S  \n",
            "885  female  39.0      0      5            382652  29.1250   NaN        Q  \n",
            "886    male  27.0      0      0            211536  13.0000   NaN        S  \n",
            "887  female  19.0      0      0            112053  30.0000   B42        S  \n",
            "888  female   NaN      1      2        W./C. 6607  23.4500   NaN        S  \n",
            "889    male  26.0      0      0            111369  30.0000  C148        C  \n",
            "890    male  32.0      0      0            370376   7.7500   NaN        Q  \n",
            "3\n",
            "1\n",
            "2057\n",
            "0       NaN\n",
            "1       C85\n",
            "2       NaN\n",
            "3      C123\n",
            "4       NaN\n",
            "       ... \n",
            "886     NaN\n",
            "887     B42\n",
            "888     NaN\n",
            "889    C148\n",
            "890     NaN\n",
            "Name: Cabin, Length: 891, dtype: object\n",
            "0         0\n",
            "1       C85\n",
            "2         0\n",
            "3      C123\n",
            "4         0\n",
            "       ... \n",
            "886       0\n",
            "887     B42\n",
            "888       0\n",
            "889    C148\n",
            "890       0\n",
            "Name: Cabin, Length: 891, dtype: object\n"
          ]
        }
      ]
    },
    {
      "cell_type": "code",
      "metadata": {
        "id": "5Qise4BsoGi3"
      },
      "source": [
        "mean_age"
      ],
      "execution_count": null,
      "outputs": []
    },
    {
      "cell_type": "markdown",
      "metadata": {
        "id": "uv3fmPw0oGi3"
      },
      "source": [
        "#### Zadanie 3\n",
        "#### a) Podaj wiek najmłodszego pasażera statku\n",
        "#### b) imputacja danych: podstaw wartość średnią za NaN w kolumnie Age\n",
        "#### c) wyświetl wiersze 2,4,30 i tylko 3 kolumny Age Name Sex"
      ]
    },
    {
      "cell_type": "code",
      "source": [
        "\n",
        "#### Zadanie 3 - A\n",
        "df = pd.read_excel('titanic_train.xlsx')\n",
        "najmniejszy_wiek = df['Age'].min()\n",
        "print(\"Najmniejszy wiek:\", najmniejszy_wiek)"
      ],
      "metadata": {
        "colab": {
          "base_uri": "https://localhost:8080/"
        },
        "id": "hlqHSccIMmiD",
        "outputId": "825d4d1e-8bdb-484f-f0f4-0030b8b75611"
      },
      "execution_count": null,
      "outputs": [
        {
          "output_type": "stream",
          "name": "stdout",
          "text": [
            "Najmniejszy wiek: 0.42\n"
          ]
        }
      ]
    },
    {
      "cell_type": "code",
      "source": [
        "#### Zadanie 3 - B\n",
        "srednia_wiek = df['Age'].mean()\n",
        "df['Age'].fillna(srednia_wiek, inplace=True)\n",
        "print(df)"
      ],
      "metadata": {
        "colab": {
          "base_uri": "https://localhost:8080/",
          "height": 201
        },
        "id": "0q0XqHbeNMYq",
        "outputId": "12747b9e-214b-4e34-c1d7-006dd3ab7609"
      },
      "execution_count": 1,
      "outputs": [
        {
          "output_type": "error",
          "ename": "NameError",
          "evalue": "ignored",
          "traceback": [
            "\u001b[0;31m---------------------------------------------------------------------------\u001b[0m",
            "\u001b[0;31mNameError\u001b[0m                                 Traceback (most recent call last)",
            "\u001b[0;32m<ipython-input-1-500272213d11>\u001b[0m in \u001b[0;36m<cell line: 1>\u001b[0;34m()\u001b[0m\n\u001b[0;32m----> 1\u001b[0;31m \u001b[0msrednia_wiek\u001b[0m \u001b[0;34m=\u001b[0m \u001b[0mdf\u001b[0m\u001b[0;34m[\u001b[0m\u001b[0;34m'Age'\u001b[0m\u001b[0;34m]\u001b[0m\u001b[0;34m.\u001b[0m\u001b[0mmean\u001b[0m\u001b[0;34m(\u001b[0m\u001b[0;34m)\u001b[0m\u001b[0;34m\u001b[0m\u001b[0;34m\u001b[0m\u001b[0m\n\u001b[0m\u001b[1;32m      2\u001b[0m \u001b[0mdf\u001b[0m\u001b[0;34m[\u001b[0m\u001b[0;34m'Age'\u001b[0m\u001b[0;34m]\u001b[0m\u001b[0;34m.\u001b[0m\u001b[0mfillna\u001b[0m\u001b[0;34m(\u001b[0m\u001b[0msrednia_wiek\u001b[0m\u001b[0;34m,\u001b[0m \u001b[0minplace\u001b[0m\u001b[0;34m=\u001b[0m\u001b[0;32mTrue\u001b[0m\u001b[0;34m)\u001b[0m\u001b[0;34m\u001b[0m\u001b[0;34m\u001b[0m\u001b[0m\n\u001b[1;32m      3\u001b[0m \u001b[0mprint\u001b[0m\u001b[0;34m(\u001b[0m\u001b[0mdf\u001b[0m\u001b[0;34m)\u001b[0m\u001b[0;34m\u001b[0m\u001b[0;34m\u001b[0m\u001b[0m\n",
            "\u001b[0;31mNameError\u001b[0m: name 'df' is not defined"
          ]
        }
      ]
    },
    {
      "cell_type": "code",
      "source": [
        "#### Zadanie 3 - C\n",
        "wybrane_wiersze = [2, 4, 30]\n",
        "wybrane_kolumny = ['Age', 'Name', 'Sex']\n",
        "df_wybrane = df.loc[wybrane_wiersze, wybrane_kolumny]\n",
        "print(df_wybrane)"
      ],
      "metadata": {
        "colab": {
          "base_uri": "https://localhost:8080/"
        },
        "id": "MbLAMDBsOIsK",
        "outputId": "af5bbcbb-ad2f-4187-9f7e-fe40d103c1ed"
      },
      "execution_count": null,
      "outputs": [
        {
          "output_type": "stream",
          "name": "stdout",
          "text": [
            "     Age                      Name     Sex\n",
            "2   26.0    Heikkinen, Miss. Laina  female\n",
            "4   35.0  Allen, Mr. William Henry    male\n",
            "30  40.0  Uruchurtu, Don. Manuel E    male\n"
          ]
        }
      ]
    },
    {
      "cell_type": "code",
      "metadata": {
        "id": "d7lCoxDSoGi3"
      },
      "source": [
        "####"
      ],
      "execution_count": null,
      "outputs": []
    },
    {
      "cell_type": "markdown",
      "metadata": {
        "id": "oD_nbiWzoGi4"
      },
      "source": [
        "#### Zadanie 4  Zapoznaj się z warunkową selekcją zmiennych"
      ]
    },
    {
      "cell_type": "code",
      "metadata": {
        "colab": {
          "base_uri": "https://localhost:8080/"
        },
        "id": "yeM_7sakoGi4",
        "outputId": "bb7b71b0-dd71-45f5-d797-337c9359f5f7"
      },
      "source": [
        "#print(data['Pclass'] == 3) # określa które rekordy/wiersze kolumny Pclass mają bilet klasy 3\n",
        "#print(data.loc[data['Pclass'] == 3]) # wyświetla tylko te wiersze dla których w kolumnie Pclass jest bilet klasy 3\n",
        "#print(data[data['Pclass'] == 3]) # analog powyższej formuły\n",
        "# z1 = data[data['Pclass'] == 3]\n",
        "# z1\n",
        "#print(data[data['Cabin'].isin(['C85', 'C123'])])  # szukanie w kolumnie 'Cabin' konkretnych elementów/wartości tj.'C85', 'C123'\n",
        "print(data[(data['Cabin'] == 'C123') & (data['Pclass']==1)]) # wiele warunków równocześnie  & => odpowiednik and"
      ],
      "execution_count": null,
      "outputs": [
        {
          "output_type": "stream",
          "name": "stdout",
          "text": [
            "     PassengerId  Survived  Pclass  \\\n",
            "3              4         1       1   \n",
            "137          138         0       1   \n",
            "\n",
            "                                             Name     Sex   Age  SibSp  Parch  \\\n",
            "3    Futrelle, Mrs. Jacques Heath (Lily May Peel)  female  35.0      1      0   \n",
            "137                   Futrelle, Mr. Jacques Heath    male  37.0      1      0   \n",
            "\n",
            "     Ticket  Fare Cabin Embarked  \n",
            "3    113803  53.1  C123        S  \n",
            "137  113803  53.1  C123        S  \n"
          ]
        }
      ]
    },
    {
      "cell_type": "code",
      "metadata": {
        "id": "xtFFXqKWoGi4"
      },
      "source": [
        "#### Zadanie 5\n",
        "#### a) wyswietl dane pasażerów którzy mają wiek poniżej 25 lat i bilet klasy 2 zapisz uzyskane do pliku na dysk\n",
        "#### b) wyświetl ile osób podróżowało statkiem, podaj w/w dane z podziałem na kategorie np.: płeć, klasa biletu, wiek (grupy co 10 lat)\n",
        "#### c) określ ile osób przeżyło katastrofę statku"
      ],
      "execution_count": null,
      "outputs": []
    },
    {
      "cell_type": "code",
      "source": [
        "#### Zadanie 5 - A\n",
        "df_filtered = df[(df['Age'] < 25) & (df['Pclass'] == 2)]\n",
        "print(df_filtered)\n",
        "df_filtered.to_excel('titanic2.xlsx', index=False)"
      ],
      "metadata": {
        "id": "3YQQnjcsO5v6"
      },
      "execution_count": null,
      "outputs": []
    },
    {
      "cell_type": "code",
      "source": [
        "#### Zadanie 5 - B\n",
        "liczba_osob = len(df)\n",
        "podzial_plec = df['Sex'].value_counts()\n",
        "podzial_klasa = df['Pclass'].value_counts()\n",
        "podzial_wiek = pd.cut(df['Age'], bins=range(0, 101, 10), right=False).value_counts()\n",
        "print(\"Liczba osób podróżujących statkiem:\", liczba_osob)\n",
        "print(\"Płeć:\", podzial_plec)\n",
        "print(\"Klasa biletu:\", podzial_klasa)\n",
        "print(\"Wiek (grupy co 10 lat):\", podzial_wiek)\n",
        "\n"
      ],
      "metadata": {
        "colab": {
          "base_uri": "https://localhost:8080/"
        },
        "id": "006ReobcTEAK",
        "outputId": "10e66300-13f7-489a-8bef-b2aeda034ac4"
      },
      "execution_count": null,
      "outputs": [
        {
          "output_type": "stream",
          "name": "stdout",
          "text": [
            "Liczba osób podróżujących statkiem: 891\n",
            "Płeć: male      577\n",
            "female    314\n",
            "Name: Sex, dtype: int64\n",
            "Klasa biletu: 3    491\n",
            "1    216\n",
            "2    184\n",
            "Name: Pclass, dtype: int64\n",
            "Wiek (grupy co 10 lat): [20, 30)     397\n",
            "[30, 40)     167\n",
            "[10, 20)     102\n",
            "[40, 50)      89\n",
            "[0, 10)       62\n",
            "[50, 60)      48\n",
            "[60, 70)      19\n",
            "[70, 80)       6\n",
            "[80, 90)       1\n",
            "[90, 100)      0\n",
            "Name: Age, dtype: int64\n"
          ]
        }
      ]
    },
    {
      "cell_type": "code",
      "source": [
        "#### Zadanie 5 - C\n",
        "survived = df['Survived'].sum()\n",
        "print(\"Liczba osób, które przeżyły:\", survived)"
      ],
      "metadata": {
        "colab": {
          "base_uri": "https://localhost:8080/"
        },
        "id": "wsUirJEkbxTr",
        "outputId": "4b8ff393-3006-448f-ef44-1855c1305f06"
      },
      "execution_count": null,
      "outputs": [
        {
          "output_type": "stream",
          "name": "stdout",
          "text": [
            "Liczba osób, które przeżyły: 342\n"
          ]
        }
      ]
    },
    {
      "cell_type": "code",
      "metadata": {
        "id": "S2M0B9s_oGi4"
      },
      "source": [
        "#### Zadanie 6 \n",
        "#### a) korzystając z data2 = pd.read_csv(os.path.join(folder_path, 'movies.csv'))      odczytaj dane movies.csv\n",
        "#### b) określ ile filmów nakręcono w każdym roku\n",
        "#### c) określ który film miał najwięcej lajków na facebook-u\n",
        "#### d) podziel zbiór ze względu na kategorię country lub color i określ dla każdej kategorii liczbę filmów o budżecie > 240mln\n",
        "#### e) jaki film wykonany w kolorze miał największy budżet?\n",
        "#### f) Czy w zbiorze znajdują się dane dla filmu Piraci z karaibów? Jeśli tak to ile kosztował ten film i kto był jego reżyserem\n",
        "#### g) Jaki film miał największy budżet"
      ],
      "execution_count": null,
      "outputs": []
    },
    {
      "cell_type": "code",
      "source": [
        "#### Zadanie 6 - A\n",
        "data2 = pd.read_csv(os.path.join('movies.csv'))\n",
        "\n",
        "print(data2)\n",
        "\n"
      ],
      "metadata": {
        "id": "wNolZOFmcXSL"
      },
      "execution_count": null,
      "outputs": []
    },
    {
      "cell_type": "code",
      "source": [
        "#### Zadanie 6 - B   Dwa rozwiazania #\n",
        "\n",
        "\n",
        "# lista = data2.groupby('title_year')['movie_title'].unique()\n",
        "# for title_year, movie_titles in lista.items():\n",
        "#     print(\"Rok:\", title_year)\n",
        "#     print(\"Lista movie_title:\")\n",
        "#     for title in movie_titles:\n",
        "#         print(title)\n",
        "#     print()\n",
        "\n",
        "#### Zadanie 6 - B lub\n",
        "\n",
        "liczba = data2.groupby('title_year')['movie_title'].nunique()\n",
        "print(liczba)\n"
      ],
      "metadata": {
        "colab": {
          "base_uri": "https://localhost:8080/"
        },
        "id": "Wdnb7hNtc5c7",
        "outputId": "42fdc02e-79ff-4a35-b9f3-f3cfc464c798"
      },
      "execution_count": null,
      "outputs": [
        {
          "output_type": "stream",
          "name": "stdout",
          "text": [
            "title_year\n",
            "1916.0      1\n",
            "1920.0      1\n",
            "1925.0      1\n",
            "1927.0      1\n",
            "1929.0      2\n",
            "         ... \n",
            "2012.0    214\n",
            "2013.0    231\n",
            "2014.0    243\n",
            "2015.0    211\n",
            "2016.0     98\n",
            "Name: movie_title, Length: 91, dtype: int64\n"
          ]
        }
      ]
    },
    {
      "cell_type": "code",
      "source": [
        "#### Zadanie 6 - C\n",
        "najwiecej_likes = data2.loc[data2['movie_facebook_likes'].idxmax(), 'movie_title']\n",
        "print(\"Film z największą liczbą facebook likes':\", najwiecej_likes)"
      ],
      "metadata": {
        "colab": {
          "base_uri": "https://localhost:8080/"
        },
        "id": "1cL6AffOmKhm",
        "outputId": "c5df7f6a-39e9-41fd-d96f-859b489eb366"
      },
      "execution_count": null,
      "outputs": [
        {
          "output_type": "stream",
          "name": "stdout",
          "text": [
            "Film z największą liczbą facebook likes': Interstellar\n"
          ]
        }
      ]
    },
    {
      "cell_type": "code",
      "source": [
        "#### Zadanie 6 - D\n",
        "films_by_country = data2[data2['budget'] > 240e6].groupby('country').size()\n",
        "films_by_color = data2[data2['budget'] > 240e6].groupby('color').size()\n",
        "print(\"Liczba filmów o budżecie > 240mln dla kategorii:\", films_by_country)\n",
        "print(\"Liczba filmów o budżecie > 240mln dla kategorii:\", films_by_color)"
      ],
      "metadata": {
        "colab": {
          "base_uri": "https://localhost:8080/"
        },
        "id": "a59RlikimdME",
        "outputId": "64299e90-2f64-4a80-d157-3a4823e6d7df"
      },
      "execution_count": null,
      "outputs": [
        {
          "output_type": "stream",
          "name": "stdout",
          "text": [
            "Liczba filmów o budżecie > 240mln dla kategorii: country\n",
            "China           1\n",
            "France          1\n",
            "Hungary         1\n",
            "India           2\n",
            "Japan           4\n",
            "New Zealand     1\n",
            "South Korea     2\n",
            "Spain           1\n",
            "Thailand        2\n",
            "UK              2\n",
            "USA            10\n",
            "dtype: int64\n",
            "Liczba filmów o budżecie > 240mln dla kategorii: color\n",
            "Color    27\n",
            "dtype: int64\n"
          ]
        }
      ]
    },
    {
      "cell_type": "code",
      "source": [
        "#### Zadanie 6 - E\n",
        "df_kolor = data2[data2['color'] == 'Color']\n",
        "najwiekszy_budzet = df_kolor.loc[df_kolor['budget'].idxmax(), 'movie_title']\n",
        "print(\"Film w kolorze z największym budżetem:  '\", najwiekszy_budzet ,\"'  !\")\n"
      ],
      "metadata": {
        "colab": {
          "base_uri": "https://localhost:8080/"
        },
        "id": "MbV3F0N3oaZO",
        "outputId": "f801a896-db9a-4aa8-c490-569dd02ef2aa"
      },
      "execution_count": null,
      "outputs": [
        {
          "output_type": "stream",
          "name": "stdout",
          "text": [
            "Film w kolorze z największym budżetem:  ' The Host '  !\n"
          ]
        }
      ]
    },
    {
      "cell_type": "code",
      "source": [
        "#### Zadanie 6 - F\n",
        "# Sprawdzenie, czy film \"Piraci z Karaibów\" znajduje się w data2\n",
        "if any(data2['movie_title'] == 'Pirates of the Caribbean: The Curse of the Black Pearl'):\n",
        "    koszty = data2.loc[data2['movie_title'] == 'Pirates of the Caribbean: The Curse of the Black Pearl', 'budget'].values[0]\n",
        "    rezyser = data2.loc[data2['movie_title'] == 'Pirates of the Caribbean: The Curse of the Black Pearl', 'director_name'].values[0]\n",
        "    print(\"Film 'Piraci z Karaibów':\")\n",
        "    print(\"Koszt:\", koszty)\n",
        "    print(\"Reżyser:\", rezyser)\n",
        "else:\n",
        "    print(\"Film 'Piraci z Karaibów' nie znajduje się w zbiorze danych.\")"
      ],
      "metadata": {
        "colab": {
          "base_uri": "https://localhost:8080/"
        },
        "id": "PKo27paErRNF",
        "outputId": "7569f7e4-dd28-40b5-abf0-fcbbe5c53f1a"
      },
      "execution_count": null,
      "outputs": [
        {
          "output_type": "stream",
          "name": "stdout",
          "text": [
            "Film 'Piraci z Karaibów':\n",
            "Koszty: 140000000.0\n",
            "Reżyser: Gore Verbinski\n"
          ]
        }
      ]
    },
    {
      "cell_type": "code",
      "source": [
        "#### Zadanie 6 - G \n",
        "# Znalezienie filmu z największym budżetem\n",
        "film = data2.loc[data2['budget'].idxmax(), 'movie_title']\n",
        "print(\"Film z największym budżetem:\", film)"
      ],
      "metadata": {
        "colab": {
          "base_uri": "https://localhost:8080/"
        },
        "id": "Q_Z4ftfsrsVN",
        "outputId": "850b0af7-78bb-4ad4-899d-eec1e84b13c7"
      },
      "execution_count": null,
      "outputs": [
        {
          "output_type": "stream",
          "name": "stdout",
          "text": [
            "Film z największym budżetem: The Host\n"
          ]
        }
      ]
    },
    {
      "cell_type": "markdown",
      "metadata": {
        "id": "sPfo47H2JHwZ"
      },
      "source": [
        "### Łączenie danych tabelarycznych (concatenate)\n",
        "funkcja concat() - domyślnie względem wierszy\n",
        "\n",
        "pd.concat(objs, axis=0, join='outer', join_axes=None, ignore_index=False,\n",
        "          keys=None, levels=None, names=None, verify_integrity=False,\n",
        "          copy=True)\n"
      ]
    },
    {
      "cell_type": "code",
      "metadata": {
        "id": "-mBBl7zIKZMp"
      },
      "source": [
        "df1 = pd.DataFrame({'A': ['A0', 'A1', 'A2', 'A3'],\n",
        "                     'B': ['B0', 'B1', 'B2', 'B3'],\n",
        "                     'C': ['C0', 'C1', 'C2', 'C3'],\n",
        "                     'D': ['D0', 'D1', 'D2', 'D3']},\n",
        "                     index=[0, 1, 2, 3])\n",
        "\n",
        "df2 = pd.DataFrame({'A': ['A4', 'A5', 'A6', 'A7'],\n",
        "                     'B': ['B4', 'B5', 'B6', 'B7'],\n",
        "                     'C': ['C4', 'C5', 'C6', 'C7'],\n",
        "                     'D': ['D4', 'D5', 'D6', 'D7']},\n",
        "                      index=[4, 5, 6, 7])\n",
        "\n",
        "df3 = pd.DataFrame({'A': ['A8', 'A9', 'A10', 'A11'],\n",
        "                     'B': ['B8', 'B9', 'B10', 'B11'],\n",
        "                     'C': ['C8', 'C9', 'C10', 'C11'],\n",
        "                     'D': ['D8', 'D9', 'D10', 'D11']},\n",
        "                     index=[8, 9, 10, 11])\n",
        "\n",
        "frame = [df1, df2, df3]"
      ],
      "execution_count": null,
      "outputs": []
    },
    {
      "cell_type": "code",
      "metadata": {
        "id": "qIaea4j_Kf-h"
      },
      "source": [
        "pd.concat(frame)"
      ],
      "execution_count": null,
      "outputs": []
    },
    {
      "cell_type": "code",
      "metadata": {
        "id": "AgzzWzjIKzon"
      },
      "source": [
        "df4 = pd.DataFrame({'B': ['B2', 'B3', 'B6', 'B7'],\n",
        "                  'D': ['D2', 'D3', 'D6', 'D7'],\n",
        "                  'F': ['F2', 'F3', 'F6', 'F7']},\n",
        "                 index=[2, 3, 6, 7])\n"
      ],
      "execution_count": null,
      "outputs": []
    },
    {
      "cell_type": "code",
      "metadata": {
        "colab": {
          "base_uri": "https://localhost:8080/",
          "height": 223
        },
        "id": "DFG_ZlsRK6uI",
        "outputId": "ffb81e5c-bb65-4997-a4d5-25748d8b01b1"
      },
      "source": [
        "pd.concat([df1, df4], axis=1)   # łączenie ze wskazaniem pozycji w tabeli"
      ],
      "execution_count": null,
      "outputs": [
        {
          "output_type": "execute_result",
          "data": {
            "text/html": [
              "<div>\n",
              "<style scoped>\n",
              "    .dataframe tbody tr th:only-of-type {\n",
              "        vertical-align: middle;\n",
              "    }\n",
              "\n",
              "    .dataframe tbody tr th {\n",
              "        vertical-align: top;\n",
              "    }\n",
              "\n",
              "    .dataframe thead th {\n",
              "        text-align: right;\n",
              "    }\n",
              "</style>\n",
              "<table border=\"1\" class=\"dataframe\">\n",
              "  <thead>\n",
              "    <tr style=\"text-align: right;\">\n",
              "      <th></th>\n",
              "      <th>A</th>\n",
              "      <th>B</th>\n",
              "      <th>C</th>\n",
              "      <th>D</th>\n",
              "      <th>B</th>\n",
              "      <th>D</th>\n",
              "      <th>F</th>\n",
              "    </tr>\n",
              "  </thead>\n",
              "  <tbody>\n",
              "    <tr>\n",
              "      <th>0</th>\n",
              "      <td>A0</td>\n",
              "      <td>B0</td>\n",
              "      <td>C0</td>\n",
              "      <td>D0</td>\n",
              "      <td>NaN</td>\n",
              "      <td>NaN</td>\n",
              "      <td>NaN</td>\n",
              "    </tr>\n",
              "    <tr>\n",
              "      <th>1</th>\n",
              "      <td>A1</td>\n",
              "      <td>B1</td>\n",
              "      <td>C1</td>\n",
              "      <td>D1</td>\n",
              "      <td>NaN</td>\n",
              "      <td>NaN</td>\n",
              "      <td>NaN</td>\n",
              "    </tr>\n",
              "    <tr>\n",
              "      <th>2</th>\n",
              "      <td>A2</td>\n",
              "      <td>B2</td>\n",
              "      <td>C2</td>\n",
              "      <td>D2</td>\n",
              "      <td>B2</td>\n",
              "      <td>D2</td>\n",
              "      <td>F2</td>\n",
              "    </tr>\n",
              "    <tr>\n",
              "      <th>3</th>\n",
              "      <td>A3</td>\n",
              "      <td>B3</td>\n",
              "      <td>C3</td>\n",
              "      <td>D3</td>\n",
              "      <td>B3</td>\n",
              "      <td>D3</td>\n",
              "      <td>F3</td>\n",
              "    </tr>\n",
              "    <tr>\n",
              "      <th>6</th>\n",
              "      <td>NaN</td>\n",
              "      <td>NaN</td>\n",
              "      <td>NaN</td>\n",
              "      <td>NaN</td>\n",
              "      <td>B6</td>\n",
              "      <td>D6</td>\n",
              "      <td>F6</td>\n",
              "    </tr>\n",
              "    <tr>\n",
              "      <th>7</th>\n",
              "      <td>NaN</td>\n",
              "      <td>NaN</td>\n",
              "      <td>NaN</td>\n",
              "      <td>NaN</td>\n",
              "      <td>B7</td>\n",
              "      <td>D7</td>\n",
              "      <td>F7</td>\n",
              "    </tr>\n",
              "  </tbody>\n",
              "</table>\n",
              "</div>"
            ],
            "text/plain": [
              "     A    B    C    D    B    D    F\n",
              "0   A0   B0   C0   D0  NaN  NaN  NaN\n",
              "1   A1   B1   C1   D1  NaN  NaN  NaN\n",
              "2   A2   B2   C2   D2   B2   D2   F2\n",
              "3   A3   B3   C3   D3   B3   D3   F3\n",
              "6  NaN  NaN  NaN  NaN   B6   D6   F6\n",
              "7  NaN  NaN  NaN  NaN   B7   D7   F7"
            ]
          },
          "metadata": {
            "tags": []
          },
          "execution_count": 9
        }
      ]
    },
    {
      "cell_type": "code",
      "metadata": {
        "colab": {
          "base_uri": "https://localhost:8080/",
          "height": 106
        },
        "id": "urAMoK-FLTOw",
        "outputId": "3972f1de-07b0-4a38-a900-ed3f84199422"
      },
      "source": [
        "pd.concat([df1, df4], axis=1, join='inner')"
      ],
      "execution_count": null,
      "outputs": [
        {
          "output_type": "execute_result",
          "data": {
            "text/html": [
              "<div>\n",
              "<style scoped>\n",
              "    .dataframe tbody tr th:only-of-type {\n",
              "        vertical-align: middle;\n",
              "    }\n",
              "\n",
              "    .dataframe tbody tr th {\n",
              "        vertical-align: top;\n",
              "    }\n",
              "\n",
              "    .dataframe thead th {\n",
              "        text-align: right;\n",
              "    }\n",
              "</style>\n",
              "<table border=\"1\" class=\"dataframe\">\n",
              "  <thead>\n",
              "    <tr style=\"text-align: right;\">\n",
              "      <th></th>\n",
              "      <th>A</th>\n",
              "      <th>B</th>\n",
              "      <th>C</th>\n",
              "      <th>D</th>\n",
              "      <th>B</th>\n",
              "      <th>D</th>\n",
              "      <th>F</th>\n",
              "    </tr>\n",
              "  </thead>\n",
              "  <tbody>\n",
              "    <tr>\n",
              "      <th>2</th>\n",
              "      <td>A2</td>\n",
              "      <td>B2</td>\n",
              "      <td>C2</td>\n",
              "      <td>D2</td>\n",
              "      <td>B2</td>\n",
              "      <td>D2</td>\n",
              "      <td>F2</td>\n",
              "    </tr>\n",
              "    <tr>\n",
              "      <th>3</th>\n",
              "      <td>A3</td>\n",
              "      <td>B3</td>\n",
              "      <td>C3</td>\n",
              "      <td>D3</td>\n",
              "      <td>B3</td>\n",
              "      <td>D3</td>\n",
              "      <td>F3</td>\n",
              "    </tr>\n",
              "  </tbody>\n",
              "</table>\n",
              "</div>"
            ],
            "text/plain": [
              "    A   B   C   D   B   D   F\n",
              "2  A2  B2  C2  D2  B2  D2  F2\n",
              "3  A3  B3  C3  D3  B3  D3  F3"
            ]
          },
          "metadata": {
            "tags": []
          },
          "execution_count": 11
        }
      ]
    },
    {
      "cell_type": "markdown",
      "metadata": {
        "id": "lHmzR4y3MWpA"
      },
      "source": [
        "Funkcja merge() - względem kolumn, indeksów\n",
        "merge(right, how='inner', on=None, left_on=None, right_on=None, left_index=False, right_index=False, sort=False, suffixes=('_x', '_y'), copy=True, indicator=False)\n",
        "\n"
      ]
    },
    {
      "cell_type": "code",
      "metadata": {
        "id": "ZwI7MHEVMn-P"
      },
      "source": [
        " left = pd.DataFrame({'key': ['K0', 'K1', 'K2', 'K3'],\n",
        "                      'A': ['A0', 'A1', 'A2', 'A3'],\n",
        "                      'B': ['B0', 'B1', 'B2', 'B3']})\n",
        "\n",
        "right = pd.DataFrame({'key': ['K0', 'K1', 'K2', 'K3'],\n",
        "                       'C': ['C0', 'C1', 'C2', 'C3'],\n",
        "                       'D': ['D0', 'D1', 'D2', 'D3']})"
      ],
      "execution_count": null,
      "outputs": []
    },
    {
      "cell_type": "code",
      "metadata": {
        "colab": {
          "base_uri": "https://localhost:8080/",
          "height": 164
        },
        "id": "xeWWK0zaMrmg",
        "outputId": "cc8c5941-c2aa-4a79-f499-0b9579a85de1"
      },
      "source": [
        "# kluczowy argument to how który określa sposób łącznie danych, mamy warianty:\n",
        "#left,           right, outer, inner\n",
        "pd.merge(left, right, on='key')   "
      ],
      "execution_count": null,
      "outputs": [
        {
          "output_type": "execute_result",
          "data": {
            "text/html": [
              "<div>\n",
              "<style scoped>\n",
              "    .dataframe tbody tr th:only-of-type {\n",
              "        vertical-align: middle;\n",
              "    }\n",
              "\n",
              "    .dataframe tbody tr th {\n",
              "        vertical-align: top;\n",
              "    }\n",
              "\n",
              "    .dataframe thead th {\n",
              "        text-align: right;\n",
              "    }\n",
              "</style>\n",
              "<table border=\"1\" class=\"dataframe\">\n",
              "  <thead>\n",
              "    <tr style=\"text-align: right;\">\n",
              "      <th></th>\n",
              "      <th>key</th>\n",
              "      <th>A</th>\n",
              "      <th>B</th>\n",
              "      <th>C</th>\n",
              "      <th>D</th>\n",
              "    </tr>\n",
              "  </thead>\n",
              "  <tbody>\n",
              "    <tr>\n",
              "      <th>0</th>\n",
              "      <td>K0</td>\n",
              "      <td>A0</td>\n",
              "      <td>B0</td>\n",
              "      <td>C0</td>\n",
              "      <td>D0</td>\n",
              "    </tr>\n",
              "    <tr>\n",
              "      <th>1</th>\n",
              "      <td>K1</td>\n",
              "      <td>A1</td>\n",
              "      <td>B1</td>\n",
              "      <td>C1</td>\n",
              "      <td>D1</td>\n",
              "    </tr>\n",
              "    <tr>\n",
              "      <th>2</th>\n",
              "      <td>K2</td>\n",
              "      <td>A2</td>\n",
              "      <td>B2</td>\n",
              "      <td>C2</td>\n",
              "      <td>D2</td>\n",
              "    </tr>\n",
              "    <tr>\n",
              "      <th>3</th>\n",
              "      <td>K3</td>\n",
              "      <td>A3</td>\n",
              "      <td>B3</td>\n",
              "      <td>C3</td>\n",
              "      <td>D3</td>\n",
              "    </tr>\n",
              "  </tbody>\n",
              "</table>\n",
              "</div>"
            ],
            "text/plain": [
              "  key   A   B   C   D\n",
              "0  K0  A0  B0  C0  D0\n",
              "1  K1  A1  B1  C1  D1\n",
              "2  K2  A2  B2  C2  D2\n",
              "3  K3  A3  B3  C3  D3"
            ]
          },
          "metadata": {
            "tags": []
          },
          "execution_count": 16
        }
      ]
    }
  ]
}