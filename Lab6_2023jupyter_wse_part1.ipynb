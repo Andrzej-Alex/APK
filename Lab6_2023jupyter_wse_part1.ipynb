{
  "nbformat": 4,
  "nbformat_minor": 0,
  "metadata": {
    "anaconda-cloud": {},
    "kernelspec": {
      "display_name": "Python 3",
      "language": "python",
      "name": "python3"
    },
    "language_info": {
      "codemirror_mode": {
        "name": "ipython",
        "version": 3
      },
      "file_extension": ".py",
      "mimetype": "text/x-python",
      "name": "python",
      "nbconvert_exporter": "python",
      "pygments_lexer": "ipython3",
      "version": "3.7.0"
    },
    "colab": {
      "provenance": [],
      "include_colab_link": true
    }
  },
  "cells": [
    {
      "cell_type": "markdown",
      "metadata": {
        "id": "view-in-github",
        "colab_type": "text"
      },
      "source": [
        "<a href=\"https://colab.research.google.com/github/Andrzej-Alex/APK/blob/main/Lab6_2023jupyter_wse_part1.ipynb\" target=\"_parent\"><img src=\"https://colab.research.google.com/assets/colab-badge.svg\" alt=\"Open In Colab\"/></a>"
      ]
    },
    {
      "cell_type": "markdown",
      "metadata": {
        "id": "O2PHSOsw6h66"
      },
      "source": [
        "# Laboratorium 6 - wstęp do programowania obiektowego"
      ]
    },
    {
      "cell_type": "markdown",
      "metadata": {
        "id": "9KHrZDDR6h60"
      },
      "source": [
        "#### dr Aneta Polewko-Klim"
      ]
    },
    {
      "cell_type": "markdown",
      "source": [],
      "metadata": {
        "id": "xfZ0D5Emesam"
      }
    },
    {
      "cell_type": "markdown",
      "metadata": {
        "id": "jV9tgMAG6h67"
      },
      "source": [
        "# **Pojęcia podstawowe:** klasa, metoda, pole\n",
        "\n",
        "**Klasa**, z punktu widzenia programowania, jest to typ zmiennej.\n",
        "Natomiast w ujęciu projektowym jest to ogólna definicja pewnej grupy powiązanych ze sobą obiektów,\n",
        "które różnią się tożsamością. \n",
        "\n",
        "Klasa definiuje **metody**, czyli funkcjonalności, które są dostarczane przez obiekty. Poza tym definiuje również atrybuty, które są indywidualne (choć nie zawsze) dla konkretnych obiektów.\n",
        "\n",
        "Czym jest **obiekt**? Jest to konkretna zmienna danego typu czyli instancja danej klasy.\n",
        "\n",
        "Janek, Ania, Zosia to obiekty klasy Człowiek in. to poszczególne egzemplarze danej klasy czyli instancje. Każde z nich może spać, jeść, poruszać się i to są właśnie metody zdefiniowane w klasie Człowiek. Oprócz tego każdy człowiek posiada imię oraz datę urodzenia, jednak są one indywidualne dla każdego obiektu, czyli nie są bezpośrednio powiązane z klasą, a z jej instancją (obiektem).\n",
        "\n",
        "**Zapamiętaj**: w programowaniu  obiektowym  tworzymy/wykorzystujemy: klasy i obiekty.\n",
        "* Klasa  tworzy nowy typ. Obiekty to są  egzemplarze (instancje) danej klasy.\n",
        "* Klasa zawiera:\n",
        "\n",
        " a) elementy opisujące  stan (pola klasy)\n",
        "\n",
        " b) zachowania (metody klasy)\n",
        " \n",
        "Wyobraź sobie dwa różne zwierzęta: Samochód i Motyla  - to są dwie różne klasy\n",
        "\n",
        "Samochód: jeździ, wyrzuca spaliny, psuje się - to są metody klasy Samochód\n",
        "Motyl: lata, pije nektar  - to są metody klasy Motyl\n",
        "Samochód ma: masę, rok produkcji, typ silnika, pojemność silnika - to są pola/dane klasy Samochód\n",
        "Motyl ma: rozmiar skrzydeł, wagę, kolorystykę itp. - to są pola/dane klasy Motyl\n",
        "\n",
        "Ale jeżeli będziesz mieć  konkretny Samochód lub Motyla (np. Twoje własne)  to  będą one konkretnymi egzemplarzami, czyli obiektem klasy Samochód lub obiektem klasy Motyl"
      ]
    },
    {
      "cell_type": "markdown",
      "source": [
        "###**Przykład 1**\n",
        "\n",
        "Tworzymy klasę o nazwie Komputer1 oraz metodę o nazwie powitanie. Parametr ”self” to specjalny parametr (wpisuj go zawsze jako pierwszy argument w funkcji),\n",
        "który przekazuje do każdej metody obiekt klasy na jakiej ma operować."
      ],
      "metadata": {
        "id": "6OLaj4PWkPgS"
      }
    },
    {
      "cell_type": "code",
      "source": [
        "class Komputer1:\n",
        "    def powitanie(self):\n",
        "        print('Witaj użytkowniku to ja Twój PC')"
      ],
      "metadata": {
        "colab": {
          "base_uri": "https://localhost:8080/"
        },
        "id": "zrI8I4YQkYrR",
        "outputId": "77f3d3d6-3aa6-40e7-f6b4-651d4c698a4d"
      },
      "execution_count": null,
      "outputs": [
        {
          "output_type": "stream",
          "name": "stdout",
          "text": [
            "Witaj użytkowniku to ja Twój PC\n"
          ]
        }
      ]
    },
    {
      "cell_type": "code",
      "source": [
        "mojKomputer = Komputer1() # Tworzymy obiekt klasy Komputer -> struktura: nazwa_obiektu = nazwa_Klasy()\n",
        "mojKomputer.powitanie() # Wywołujemy metodę -> metodę powitanie na obiekcie mojKomputer"
      ],
      "metadata": {
        "id": "rVkPq6TBka4p"
      },
      "execution_count": null,
      "outputs": []
    },
    {
      "cell_type": "markdown",
      "source": [
        "### Konstruktor \\__init__\n",
        "\n",
        "Metoda która jest wywoływana tylko raz (automatycznie podczas\n",
        "tworzenia przez nas obiektu) nazywana jest konstruktorem.\n",
        "\n",
        "Konstruktor możemy wykorzystać np. do ustalenia wartości początkowej pól klasy.\n",
        "\n",
        "Załóżmy, że tworzysz 3 różne obiekty (egzemplarze) dla klasy TV (kanał telewizyjny), są różne kanały telewizyjne, więc każdego obiektu możesz przypisać inną nazwę telewizji/kanału, ale możesz ustawić konkretne wartość/-ci początkowe tj. ustalasz 1 kanał do oglądania"
      ],
      "metadata": {
        "id": "iwWzo3yAlEcv"
      }
    },
    {
      "cell_type": "markdown",
      "source": [
        "###**Przykład 2**\n"
      ],
      "metadata": {
        "id": "wKolO9GDkolU"
      }
    },
    {
      "cell_type": "markdown",
      "source": [
        "Utworzymy klasę o nazwie Komputer w której zdefiniujemy pola: rodzajMatrycy, pojemnoscDysku w/w pola to zmienne proste.\n",
        "\n",
        "Ustawimy też początkowe wartości w/w własności dla przykładowej instancji/konkretnego obiektu."
      ],
      "metadata": {
        "id": "wLzg1H4LkpJh"
      }
    },
    {
      "cell_type": "code",
      "source": [
        "class TV:\n",
        "    listaKanalow = ['TV1','Polsat','TVN']\n",
        "    numerKanalu = 1\n",
        "    def __init__(self):\n",
        "        print('Włączony kanał to: ' + self.listaKanalow[self.numerKanalu])\n"
      ],
      "metadata": {
        "id": "DaqeQc_zkvbZ"
      },
      "execution_count": null,
      "outputs": []
    },
    {
      "cell_type": "code",
      "source": [
        "\n",
        "mojTV = TV() "
      ],
      "metadata": {
        "colab": {
          "base_uri": "https://localhost:8080/"
        },
        "id": "1BLu_kXfdzHa",
        "outputId": "ead9363b-8eff-4402-abf6-2c8d26e5994c"
      },
      "execution_count": null,
      "outputs": [
        {
          "output_type": "stream",
          "name": "stdout",
          "text": [
            "Włączony kanał to: Polsat\n"
          ]
        }
      ]
    },
    {
      "cell_type": "markdown",
      "source": [
        "### **Przykład 3**\n",
        "\n",
        "Nauczymy zmieniać wartości pól.\n",
        "\n",
        "Tworzymy klasę o nazwie Muzyka w której zdefiniujemy pole, które będzie listą zawierająca typy muzyki oraz pole nrTyp o wartości 0.\n",
        "\n",
        "Zdefiniujemy konstruktor który ustawi/wyświetli początkowy typ muzyki.\n",
        "\n",
        "Następnie zdefiniujemy metody ustawTypMuzyki, wyswietlTypMuzyki do zmiany wartości pola typ muzyki i wyświetlania wyniku."
      ],
      "metadata": {
        "id": "aVN_e1l7nEsY"
      }
    },
    {
      "cell_type": "code",
      "source": [
        "\n",
        "class Muzyka:\n",
        "    typyMuzyki = ['ROCK','POP','JAZZ','KLASYKA','DISCO_POLO']\n",
        "    nrTyp = 0\n",
        "    def __init__(self):\n",
        "        self.typyMuzyki[self.nrTyp]\n",
        "        # print('Początkowy typ muzyki to: ' + self.typyMuzyki[self.nrTyp])\n",
        "\n",
        "    def ustawTypMuzyki(self, wpisanyNumer):\n",
        "        self.nrTyp = wpisanyNumer\n",
        "        #print(self.typyMuzyki[self.nrTyp])\n",
        "\n",
        "    def wyswietlTypMuzyki(self):\n",
        "        print('Ustawiony typ muzyki to: ' + self.typyMuzyki[self.nrTyp])\n",
        "\n"
      ],
      "metadata": {
        "id": "ePKluQ8SnTAX"
      },
      "execution_count": null,
      "outputs": []
    },
    {
      "cell_type": "code",
      "source": [
        "\n",
        "mojaMuzyka1 = Muzyka()\n",
        "mojaMuzyka1.wyswietlTypMuzyki()\n",
        "mojaMuzyka1.ustawTypMuzyki(3)\n",
        "mojaMuzyka1.wyswietlTypMuzyki()"
      ],
      "metadata": {
        "colab": {
          "base_uri": "https://localhost:8080/"
        },
        "id": "LCMZsU9RnkaV",
        "outputId": "32bd17d9-b1a5-4ad0-a5e6-93e1886ee6ab"
      },
      "execution_count": null,
      "outputs": [
        {
          "output_type": "stream",
          "name": "stdout",
          "text": [
            "Ustawiony typ muzyki to: ROCK\n",
            "Ustawiony typ muzyki to: KLASYKA\n"
          ]
        }
      ]
    },
    {
      "cell_type": "markdown",
      "source": [
        "A teraz odblokuj kod który jest jeszcze bardziej uniwersalny"
      ],
      "metadata": {
        "id": "PRwAwuPHntIE"
      }
    },
    {
      "cell_type": "code",
      "source": [
        "# mojaMuzyka2 = Muzyka()\n",
        "# mojaMuzyka2.ustawTypMuzyki(int(input(\"Wskaz numer typu muzyki od 1-5: \"))-1)\n",
        "# mojaMuzyka2.wyswietlTypMuzyki()"
      ],
      "metadata": {
        "id": "sbypRA7-nsjJ"
      },
      "execution_count": null,
      "outputs": []
    },
    {
      "cell_type": "markdown",
      "source": [
        "##Przykład 4\n",
        "\n",
        "Utwórz klasę Prostokat, ktora bedzie miała możliwość obliczenia pola powierzchni prostokąta o bokach dowolnie zdefiniowanych przez użytkownika, początkowe wartości boków ustaw na 2 i 5\n",
        "\n",
        "Prześledź i porównaj 3 różne warianty rozwiazania, zastanów się który wariant jest najbardziej optymalny?"
      ],
      "metadata": {
        "id": "Ey3vSTmBo5eW"
      }
    },
    {
      "cell_type": "markdown",
      "source": [
        "**Wariant 1**"
      ],
      "metadata": {
        "id": "A59zeBBypCuC"
      }
    },
    {
      "cell_type": "code",
      "source": [
        "class Prostokat:\n",
        "    def __init__(self):\n",
        "        self.bokA = 2\n",
        "        self.bokB = 5\n",
        "        #return(print('Poczatkowe wartosci bokow to a = ' + str(self.bokA) + ' oraz b = ',str(self.bokB)))\n",
        "\n",
        "    def podajBokA(self,podanybokA):\n",
        "        self.bokA = podanybokA\n",
        "\n",
        "    def podajBokB(self, podanybokB):\n",
        "        self.bokB = podanybokB\n",
        "        \n",
        "    def pole(self):\n",
        "        S = self.bokA * self.bokB\n",
        "        return(print('Pole wynosi: '+ str(S)))"
      ],
      "metadata": {
        "id": "jgPyuKY_pUz5"
      },
      "execution_count": null,
      "outputs": []
    },
    {
      "cell_type": "code",
      "source": [
        "mojProstokat = Prostokat()\n",
        "mojProstokat.pole()  # bez ustawiania wartości boku A i B, program korzysta z wartości początkowych\n",
        "mojProstokat.podajBokA(10)  # ustawianie wartości boku A, początkowa wartość 2 zamieniana jest na 10\n",
        "# mojProstokat.podajBokB(20)  # ustawianie wartości boku B, początkowa wartość 5 zamieniana jest na 20\n",
        "# mojProstokat.pole()"
      ],
      "metadata": {
        "colab": {
          "base_uri": "https://localhost:8080/"
        },
        "id": "HUI9OH4FpdIc",
        "outputId": "246341f0-5286-41fb-88b9-c9147b23dac3"
      },
      "execution_count": null,
      "outputs": [
        {
          "output_type": "stream",
          "name": "stdout",
          "text": [
            "Pole wynosi: 10\n"
          ]
        }
      ]
    },
    {
      "cell_type": "markdown",
      "source": [
        "**Wariant 2**"
      ],
      "metadata": {
        "id": "eOd_SThKpC0u"
      }
    },
    {
      "cell_type": "code",
      "source": [
        "class Prostokat():\n",
        "    bokA = 2\n",
        "    bokB = 5\n",
        "    def __init__(self):\n",
        "        self.bokA\n",
        "        self.bokB \n",
        "\n",
        "    def podajBoki(self,bokA,bokB):\n",
        "        self.bokA = bokA\n",
        "        self.bokB = bokB\n",
        "        \n",
        "    def pole(self):\n",
        "        S = self.bokA * self.bokB\n",
        "        return(print('Pole wynosi: '+ str(S)))"
      ],
      "metadata": {
        "id": "QL5hG9alphoy"
      },
      "execution_count": null,
      "outputs": []
    },
    {
      "cell_type": "code",
      "source": [
        "#mojProstokat = Prostokat()\n",
        "#mojProstokat.pole()\n",
        "mojProstokat.podajBoki(8,8)\n",
        "mojProstokat.pole()"
      ],
      "metadata": {
        "colab": {
          "base_uri": "https://localhost:8080/"
        },
        "id": "MsOPdOBSpqEa",
        "outputId": "254a6a9d-ce6c-4467-bca8-c08893c5d14c"
      },
      "execution_count": null,
      "outputs": [
        {
          "output_type": "stream",
          "name": "stdout",
          "text": [
            "Pole wynosi: 64\n"
          ]
        }
      ]
    },
    {
      "cell_type": "markdown",
      "source": [
        "**Wariant 3**"
      ],
      "metadata": {
        "id": "4_z7T0fmpC6u"
      }
    },
    {
      "cell_type": "code",
      "source": [
        "class Prostokat():\n",
        "    def __init__(self,bokA,bokB):\n",
        "        self.bokA = bokA\n",
        "        self.bokB = bokB\n",
        "        \n",
        "    def pole(self):\n",
        "        S = self.bokA * self.bokB\n",
        "        return(print('Pole wynosi: '+ str(S)))"
      ],
      "metadata": {
        "id": "UbR6x-nno4Qx"
      },
      "execution_count": null,
      "outputs": []
    },
    {
      "cell_type": "code",
      "source": [
        "mojProstokat = Prostokat(2,5)\n",
        "mojProstokat.pole()"
      ],
      "metadata": {
        "id": "3Ud3Rypopywb",
        "colab": {
          "base_uri": "https://localhost:8080/"
        },
        "outputId": "c8fc1629-799f-4415-ac14-7a933760d83a"
      },
      "execution_count": null,
      "outputs": [
        {
          "output_type": "stream",
          "name": "stdout",
          "text": [
            "Pole wynosi: 10\n"
          ]
        }
      ]
    },
    {
      "cell_type": "markdown",
      "source": [],
      "metadata": {
        "id": "SDN4uqqoqBKL"
      }
    },
    {
      "cell_type": "markdown",
      "source": [
        "###**Zadanie 1**\n",
        "\n",
        "Utwórz klasę o nazwie Egzamin w której:\n",
        "\n",
        "* zdefiniujemy pole Przedmioty, które będzie listą zawierającą nazwy przedmiotów które zdajesz w tym semestrze oraz pole nrPrzedmiotu,\n",
        "wartość tego pola odpowiada nr przedmiotu który zdajesz jako pierwszy w sesji\n",
        "\n",
        "* zdefiniujemy konstruktor który ustawi/wyświetli początkowy przedmiot który będziesz zdawał w sesji\n",
        "\n",
        "* zdefiniujemy 2 metody ustawPrzedmiot, wyswietlPrzedmiot do zmiany wartości w/w pola i wyświetlania wyniku\n",
        "\n",
        "* wstaw odpowiedni komentarz dla wyświetlanej odpowiedzi, przetestuj swój program.\n"
      ],
      "metadata": {
        "id": "gc5rMlszoK-B"
      }
    },
    {
      "cell_type": "code",
      "source": [
        "class Egzaminy:\n",
        "  typyEgz = ['Android', 'Python', 'JAVA', 'JavaEE']\n",
        "  nrTyp = 0\n",
        "\n",
        "  def __init__(self):\n",
        "    self.typyEgz[self.nrTyp]\n",
        "\n",
        "  def ustawEgz(self, wpisanyNumer):\n",
        "    self.nrTyp = wpisanyNumer\n",
        "\n",
        "  def wyswietlEgz(self):\n",
        "      print('Ustawiony egzamin to: ' + self.typyEgz[self.nrTyp])\n",
        "\n",
        " "
      ],
      "metadata": {
        "id": "jJqrFIWQHkkq"
      },
      "execution_count": 6,
      "outputs": []
    },
    {
      "cell_type": "code",
      "source": [
        " mojEgzaminy1 = Egzaminy()\n",
        " mojEgzaminy1.wyswietlEgz()\n",
        " mojEgzaminy1.ustawEgz(3)\n",
        " mojEgzaminy1.wyswietlEgz()"
      ],
      "metadata": {
        "colab": {
          "base_uri": "https://localhost:8080/"
        },
        "id": "hvSBKvzXeQf-",
        "outputId": "dc0a9cdd-7ca0-4425-fd82-c4b1d7bafdb3"
      },
      "execution_count": 7,
      "outputs": [
        {
          "output_type": "stream",
          "name": "stdout",
          "text": [
            "Ustawiony egzamin to: Android\n",
            "Ustawiony egzamin to: JavaEE\n"
          ]
        }
      ]
    },
    {
      "cell_type": "markdown",
      "source": [
        "###**Zadanie 2** \n",
        "\n",
        "Utwórz klasę Koło, ktora bedzie miała możliwość obliczenia pola powierzchni i obwodu koła o promieniu dowolnie zdefiniowanym przez użytkownika, początkową wartość promienia ustaw na 1."
      ],
      "metadata": {
        "id": "pvvklCE9olEj"
      }
    },
    {
      "cell_type": "code",
      "source": [
        "import math\n",
        "\n",
        "class Kolo:\n",
        "    def __init__(self, promien=1):\n",
        "        self.promien = promien\n",
        "\n",
        "    def obliczPole(self):\n",
        "        return math.pi * self.promien ** 2\n",
        "\n",
        "    def obliczObwod(self):\n",
        "        return 2 * math.pi * self.promien"
      ],
      "metadata": {
        "id": "h7tqEFK7fRtL"
      },
      "execution_count": 9,
      "outputs": []
    },
    {
      "cell_type": "markdown",
      "source": [
        "###**Przykład 5**\n",
        "\n",
        "Utwórz klasę Ankieta, która będzie posiadała:\n",
        "\n",
        "* 5 pól: nazwisko, wiek, studia, lubi1, lubi2\n",
        "\n",
        "* 5 metod: pytanieDane, pytanieWiek, pytanieStudia, pytanieLubi, wyswietlAnkiete\n",
        "\n",
        "* zbierz informacje od conajmniej 2 użytkownikow, zadajac im pytania: o dane osobowe, wiek, kierunek studiow, o to co lubią robić w wolnym czasie; wyniki zapisz do listy/słownika.\n"
      ],
      "metadata": {
        "id": "5jnEMR-AqWUy"
      }
    },
    {
      "cell_type": "code",
      "source": [
        "\n",
        "class Ankieta(object):\n",
        "    nazwisko=[]\n",
        "    wiek = []\n",
        "    studia = []\n",
        "    lubi1 = []\n",
        "    lubi2 = []\n",
        "\n",
        "    def __init__(self):\n",
        "        return(print('Nazwisko: - ', 'Wiek: -', 'Studia: -', 'Lubi: -'))\n",
        "\n",
        "    def pytanieDane(self,noweNazwisko):\n",
        "        self.nazwisko = noweNazwisko\n",
        "        return(self.nazwisko)\n",
        "\n",
        "    def pytanieDane(self, wiek1):\n",
        "        self.wiek = wiek1\n",
        "        return(self.wiek)\n",
        "\n",
        "    def pytanieStudia(self, studia1):\n",
        "        self.studia = studia1\n",
        "        return (self.studia)\n",
        "\n",
        "    def pytanieLubi(self, lubi11,lubi22):\n",
        "        self.lubi1 = lubi11\n",
        "        self.lubi2 = lubi22\n",
        "        return([self.lubi1, self.lubi2])\n",
        "        \n",
        "    def wyswietl(self):\n",
        "        mojSlownik = {'Imie_Nazwisko': self.nazwisko, 'Wiek': self.wiek, 'Studia_kierunek': self.studia,'Lubi': [self.lubi1, self.lubi2]}\n",
        "        print(mojSlownik)"
      ],
      "metadata": {
        "id": "5GJU_D3UqYgZ"
      },
      "execution_count": null,
      "outputs": []
    },
    {
      "cell_type": "code",
      "source": [
        "mojaAnkieta = Ankieta()\n",
        "mojaAnkieta.wyswietl()\n",
        "# #mojaAnkieta.nazwisko = 'Kowalska'\n",
        "# mojaAnkieta.nazwisko = input('Podaj nazwisko: ')\n",
        "# mojaAnkieta.wiek = 18\n",
        "# mojaAnkieta.studia = 'Informatyka'\n",
        "# mojaAnkieta.lubi1 = 'Spacery z psem'\n",
        "# mojaAnkieta.wyswietl()\n",
        "# mojaAnkieta.lubi2 = 'Muzyka'\n",
        "# mojaAnkieta.wyswietl()"
      ],
      "metadata": {
        "colab": {
          "base_uri": "https://localhost:8080/"
        },
        "id": "ZqHH0pnxqzqZ",
        "outputId": "22673c2c-a8b9-4ca6-d873-66d904a04fb0"
      },
      "execution_count": null,
      "outputs": [
        {
          "output_type": "stream",
          "name": "stdout",
          "text": [
            "Nazwisko: -  Wiek: - Studia: - Lubi: -\n",
            "{'Imie_Nazwisko': [], 'Wiek': [], 'Studia_kierunek': [], 'Lubi': [[], []]}\n"
          ]
        }
      ]
    },
    {
      "cell_type": "markdown",
      "source": [
        "###**Zadanie 3** \n",
        "Twoim zadaniem będzie zebranie informacji w formie ankiety od conajmniej 3 osób planujących swoje wakacje, zadaj odpowiednie pytania, zbierz interesujące Cię informacje.\n",
        "\n",
        "* utwórz klasę Wakacje\n",
        "* conajmniej 6 pól np.: wiek, płeć, kraj, miasto, transport, liczbaOsob.\n",
        "* conajmniej 4 metod: pytanieWiek, ..., pytanieliczbaOsob, wyswietlAnkiete\n",
        "* zbierz informacje od conajmniej 2 użytkownikow, zadajac im pytania: o dane osobowe, wiek, kierunek studiow, o to co lubią robić w wolnym czasie, a następnie wyniki zapisz do listy/słownika."
      ],
      "metadata": {
        "id": "tmk7n--tq5Xe"
      }
    },
    {
      "cell_type": "code",
      "source": [
        "class Wakacje:\n",
        "    def __init__(self):\n",
        "        self.ankiet_a = {}\n",
        "        self.ankiet_b = []\n",
        "\n",
        "    def pytanieWiek(self):\n",
        "        wiek = input(\"Wiek ? \")\n",
        "        self.ankiet_a[\"wiek\"] = wiek\n",
        "\n",
        "    def pytaniePlec(self):\n",
        "        plec = input(\"Kobieta / Mężczyzna? \")\n",
        "        self.ankiet_a[\"plec\"] = plec\n",
        "\n",
        "    def pytanieKraj(self):\n",
        "        kraj = input(\"Jaki kraj  ? \")\n",
        "        self.ankiet_a[\"kraj\"] = kraj\n",
        "\n",
        "    def pytanieMiasto(self):\n",
        "        miasto = input(\"Jakie miasto ? \")\n",
        "        self.ankiet_a[\"miasto\"] = miasto\n",
        "\n",
        "    def pytanieTransport(self):\n",
        "        transport = input(\"Transport ? \")\n",
        "        self.ankiet_a[\"transport\"] = transport\n",
        "\n",
        "    def pytanieLiczbaOsob(self):\n",
        "        liczba_osob = input(\"Ile osób ? \")\n",
        "        self.ankiet_a[\"liczba_osob\"] = liczba_osob\n",
        "\n",
        "    def wyswietlAnkiete(self):\n",
        "        for k, v in self.ankiet_a.items():\n",
        "            print(f\"{k}: {v}\")\n",
        "\n",
        "    def zapiszAnkiete(self):\n",
        "        self.ankiet_b.append(self.ankiet_a)\n",
        "        self.ankiet_a = {}"
      ],
      "metadata": {
        "id": "efWc4lLvirpq"
      },
      "execution_count": 18,
      "outputs": []
    },
    {
      "cell_type": "code",
      "source": [
        "ankieta1 = Wakacje()\n",
        "ankieta1.pytanieWiek()        \n",
        "ankieta1.pytaniePlec()        \n",
        "ankieta1.pytanieKraj()       \n",
        "ankieta1.pytanieMiasto()     \n",
        "ankieta1.pytanieTransport()   \n",
        "ankieta1.pytanieLiczbaOsob() \n",
        "ankieta1.wyswietlAnkiete()\n",
        "ankieta1.zapiszAnkiete()\n",
        "\n",
        "ankieta2 = Wakacje()\n",
        "ankieta2.pytanieWiek()        \n",
        "ankieta2.pytaniePlec()       \n",
        "ankieta2.pytanieKraj()       \n",
        "ankieta2.pytanieMiasto()      \n",
        "ankieta2.pytanieTransport()  \n",
        "ankieta2.pytanieLiczbaOsob()  \n",
        "ankieta2.wyswietlAnkiete()\n",
        "ankieta2.zapiszAnkiete()"
      ],
      "metadata": {
        "id": "t-lSvVwxi3G3"
      },
      "execution_count": null,
      "outputs": []
    },
    {
      "cell_type": "code",
      "source": [
        "for ankiet_a in [ankieta1, ankieta2]:\n",
        "    for wynik in ankiet_a.ankiet_b:\n",
        "        print(wynik)"
      ],
      "metadata": {
        "id": "WrNgTPs7lk2V"
      },
      "execution_count": null,
      "outputs": []
    },
    {
      "cell_type": "markdown",
      "metadata": {
        "id": "P0fhquM56h6-"
      },
      "source": [
        "## **Dziedziczenie  (Inheritance)**"
      ]
    },
    {
      "cell_type": "markdown",
      "metadata": {
        "id": "yolp2Il96h6_"
      },
      "source": [
        "###**Przykład 5**\n",
        "\n",
        "Utwórzmy 2 klasy"
      ]
    },
    {
      "cell_type": "code",
      "metadata": {
        "id": "b-CbNAyU6h6_",
        "colab": {
          "base_uri": "https://localhost:8080/"
        },
        "outputId": "90c3d70d-bda9-47ea-b162-18da3b23c5d9"
      },
      "source": [
        "class A(object):\n",
        "    \n",
        "    def __init__(self, a):\n",
        "        self.a = a\n",
        "        \n",
        "\n",
        "a_obj = A(1)\n",
        "print(a_obj.a)\n"
      ],
      "execution_count": null,
      "outputs": [
        {
          "output_type": "stream",
          "name": "stdout",
          "text": [
            "1\n"
          ]
        }
      ]
    },
    {
      "cell_type": "code",
      "metadata": {
        "id": "xySEKzPr6h6_",
        "colab": {
          "base_uri": "https://localhost:8080/"
        },
        "outputId": "8f1a175b-9cc1-4401-b9dd-80c1799d2a16"
      },
      "source": [
        "class B(A):  # niech klasa B dziedziczy własności klasy A, tak jest wygodniej bo nie musimy ponownie pisać tego samego kodu\n",
        "    pass\n",
        "\n",
        "\n",
        "b_obj = B(2)\n",
        "print(b_obj.a)"
      ],
      "execution_count": null,
      "outputs": [
        {
          "output_type": "stream",
          "name": "stdout",
          "text": [
            "2\n"
          ]
        }
      ]
    },
    {
      "cell_type": "code",
      "source": [],
      "metadata": {
        "id": "Mn4_SFB_KLHe"
      },
      "execution_count": null,
      "outputs": []
    },
    {
      "cell_type": "markdown",
      "metadata": {
        "id": "Ri8PyORk6h7A"
      },
      "source": [
        "#### Tworzymy kolejną klasę o nazwie C"
      ]
    },
    {
      "cell_type": "code",
      "metadata": {
        "id": "2j9ABa-C6h7A",
        "colab": {
          "base_uri": "https://localhost:8080/"
        },
        "outputId": "3510baa0-2bac-4a66-cdf9-ba039017b3c7"
      },
      "source": [
        "class C(object):\n",
        "    \n",
        "    def __init__(self, c):\n",
        "        self.c = c\n",
        "\n",
        "c_obj = C(3)\n",
        "print(c_obj.c)\n",
        "\n",
        "\n",
        "\n"
      ],
      "execution_count": null,
      "outputs": [
        {
          "output_type": "stream",
          "name": "stdout",
          "text": [
            "3\n"
          ]
        }
      ]
    },
    {
      "cell_type": "markdown",
      "metadata": {
        "id": "f-WZ0eTxo6lS"
      },
      "source": [
        "Tworzymy klasę D "
      ]
    },
    {
      "cell_type": "code",
      "metadata": {
        "colab": {
          "base_uri": "https://localhost:8080/"
        },
        "id": "Aoj5N5VupHMx",
        "outputId": "7739bbb5-9292-44d9-d384-a3e953868a83"
      },
      "source": [
        "class D(B, C):  # niech kolejna utworzona klasa D dziedziczy ten sam typ własności po klasie C i B, czy to możliwe???\n",
        "    pass        # Sprawdź blokując odpowiednie linie kodu: \"Dziedziczenie po której klasie jest narzędne?\" \n",
        "\n",
        "\n",
        "obj_d = D(1)\n",
        "print(obj_d.a)\n",
        "#print(obj_d.c)"
      ],
      "execution_count": null,
      "outputs": [
        {
          "output_type": "stream",
          "name": "stdout",
          "text": [
            "1\n"
          ]
        }
      ]
    },
    {
      "cell_type": "markdown",
      "metadata": {
        "id": "oqaAsKB66h7B"
      },
      "source": [
        "Zapoznaj się uważnie z przykładami 6 i 7 dziedziczenia klas, przykłady pochodzą z serii 100 zadań które należy rozwiązać w Pythonie\n",
        "\n",
        "100+ Python challenging programming exercises\n",
        "\n",
        "https://github.com/zhiwehu/Python-programming-exercises/blob/master/100%2B%20Python%20challenging%20programming%20exercises.txt"
      ]
    },
    {
      "cell_type": "markdown",
      "source": [
        "###**Przykład 6** \n",
        "\n",
        "Define a class named Shape and its subclass Square. \n",
        "The Square class has an init function which takes a length as argument. \n",
        "Both classes have a area function which can print the area of the shape where Shape's area is 0 by default."
      ],
      "metadata": {
        "id": "DRu6GiYUr1Nn"
      }
    },
    {
      "cell_type": "code",
      "metadata": {
        "id": "GG7jm0_f6h7B",
        "outputId": "8efab49a-15eb-46f9-ea99-e2a28ca66a54"
      },
      "source": [
        "class Shape(object):\n",
        "    def __init__(self):\n",
        "        pass\n",
        "\n",
        "    def area(self):\n",
        "        return 0\n",
        "\n",
        "class Square(Shape):\n",
        "    def __init__(self, l):\n",
        "        Shape.__init__(self)           # zastępowanie metod o takiej samej nazwie zdefiniowanej w klasie-rodzicu \n",
        "        self.length = l\n",
        "\n",
        "    def area(self):\n",
        "        return self.length*self.length\n",
        "\n"
      ],
      "execution_count": null,
      "outputs": [
        {
          "output_type": "stream",
          "text": [
            "9\n"
          ],
          "name": "stdout"
        }
      ]
    },
    {
      "cell_type": "code",
      "source": [
        "instancjaSquare = Square(3)\n",
        "print(instancjaSquare.area())"
      ],
      "metadata": {
        "id": "_77chkROsbx5"
      },
      "execution_count": null,
      "outputs": []
    },
    {
      "cell_type": "markdown",
      "source": [
        "###**Przykład 7** \n",
        "\n",
        "Write two classes, Country and City, City has to inherit from Country. \n",
        "Add a function to City class, which will print out both country name and city name."
      ],
      "metadata": {
        "id": "xTsIqthMsVhK"
      }
    },
    {
      "cell_type": "code",
      "metadata": {
        "id": "CxPSd3eN6h7C"
      },
      "source": [
        "class Country(object): #klasa nadrzędna\n",
        "    def __init__(self, kraj0):\n",
        "        self.kraj = kraj0\n",
        "\n",
        "class City(Country):\n",
        "    def __init__(self, miasto, kraj):   # konstruktor klasy bazowej\n",
        "        #super(City, self).__init__(kraj)   # odwołuję się do klasy nadrzędnej \n",
        "        super().__init__(kraj)              # linia 13 to odpowiednik linii 14 mamy dowolność\n",
        "        #Country.__init__(self, kraj)         # zamiast super możesz użyć nazwę klasy nadrzędnej\n",
        "        self.miasto = miasto\n",
        "        \n"
      ],
      "execution_count": null,
      "outputs": []
    },
    {
      "cell_type": "code",
      "source": [
        "instancja_City = City(\"Warszawa\",\"Polska\")\n",
        "print(instancja_City.miasto,' and ', instancja_City.kraj)"
      ],
      "metadata": {
        "colab": {
          "base_uri": "https://localhost:8080/"
        },
        "id": "nrzZJOPXsY0i",
        "outputId": "ab78ab29-a30f-456f-fa5e-c707b19c2da7"
      },
      "execution_count": null,
      "outputs": [
        {
          "output_type": "stream",
          "name": "stdout",
          "text": [
            "Warszawa  and  Polska\n"
          ]
        }
      ]
    },
    {
      "cell_type": "markdown",
      "source": [
        "## Przesłanianie metod\n",
        "\n",
        "###**Przykład 8** \n",
        "\n",
        "* Utwórz bazową klasę Samochod, konstruktor ma parametry kolor i typ_silnika, klasa posiada jedną metodę print_parameters które wypisuje parametry kolor i typ_silnika\n",
        "* Utwórz klasę pochodą Jeep, która dziedziczy wszystko po klasie bazowej, posiada dodatkowy parametr w konstruktorze naped_na_kola oraz\n",
        "metodę print_parameters która wypisuje parametry kolor, typ_silnika i naped_na_kola.\n"
      ],
      "metadata": {
        "id": "ZG4hdR8QsiXZ"
      }
    },
    {
      "cell_type": "code",
      "metadata": {
        "id": "ee9ax6NK1CUe"
      },
      "source": [
        "\n",
        "\n",
        "class Samochod():\n",
        "  def __init__(self, kolor, typ_silnika):\n",
        "    self.kolor = kolor\n",
        "    self.typ_silnika = typ_silnika\n",
        "  \n",
        "  def print_parameters(self):\n",
        "    print('Parametry samochodu (1) kolor: {} (2) typ silnika: {}'.format(self.kolor, self.typ_silnika)\n",
        "  )\n",
        "    \n",
        "class Jeep(Samochod):\n",
        "  def __init__(self, kolor, typ_silnika, naped_na_kola):\n",
        "    Samochod.__init__(self, kolor, typ_silnika)\n",
        "    self.naped_na_kola = naped_na_kola\n",
        "      \n",
        "  def print_parameters(self):\n",
        "    Samochod.print_parameters(self)\n",
        "    print('Parametry samochodu (1) kolor: {} (2) typ silnika: {} (3) napęd na koła: {}'.format(self.kolor, self.typ_silnika, self.naped_na_kola)\n",
        "  )"
      ],
      "execution_count": null,
      "outputs": []
    },
    {
      "cell_type": "code",
      "source": [
        "samochod_1 = Samochod('biały', 'diesel')\n",
        "samochod_1.print_parameters()\n",
        "\n",
        "samochod_2 = Jeep('czarny', 'hybrydowy', 4)\n",
        "samochod_2.print_parameters()"
      ],
      "metadata": {
        "colab": {
          "base_uri": "https://localhost:8080/"
        },
        "id": "F-9gIz1ls1bU",
        "outputId": "14ac8b85-8d03-4fe3-d02d-dbeee4b4ba19"
      },
      "execution_count": null,
      "outputs": [
        {
          "output_type": "stream",
          "name": "stdout",
          "text": [
            "Parametry samochodu (1) kolor: biały (2) typ silnika: diesel\n",
            "Parametry samochodu (1) kolor: czarny (2) typ silnika: hybrydowy\n",
            "Parametry samochodu (1) kolor: czarny (2) typ silnika: hybrydowy (3) napęd na koła: 4\n"
          ]
        }
      ]
    },
    {
      "cell_type": "markdown",
      "metadata": {
        "id": "-82QLdCR6h7C"
      },
      "source": [
        "###**Zadanie 4** \n",
        "#### Utwórz klasę Koło, konstruktor ma jeden parametr r tj. promień, napisz metodę która obliczy pole powierzchni koła, zadanie wykonaj na 2 sposoby tj. bez obsługi wyjątków i z obsługą wyjątków (uwaga w zadaniu użyj przynajmniej raz atrybut prywatny) \n"
      ]
    },
    {
      "cell_type": "code",
      "source": [
        "import math\n",
        "class Kolo:\n",
        "    \n",
        "    def __init__(self, r):\n",
        "      self.promien = r\n",
        "\n",
        "    def pole(self):\n",
        "      self.s = math.pi * self.promien ** 2\n",
        "      print(self.s)\n",
        "\n",
        "  "
      ],
      "metadata": {
        "id": "9g7_dY6PQnPU"
      },
      "execution_count": 31,
      "outputs": []
    },
    {
      "cell_type": "code",
      "source": [
        "k1 = Kolo(1)\n",
        "k1.pole()"
      ],
      "metadata": {
        "colab": {
          "base_uri": "https://localhost:8080/"
        },
        "id": "gmNhE7TTRi5b",
        "outputId": "330aac28-de48-4626-8287-95d3dcc4be33"
      },
      "execution_count": 32,
      "outputs": [
        {
          "output_type": "stream",
          "name": "stdout",
          "text": [
            "3.141592653589793\n"
          ]
        }
      ]
    },
    {
      "cell_type": "code",
      "source": [
        "import math\n",
        "\n",
        "class Kolo:\n",
        "    def __init__(self, r = 1):\n",
        "        self.promien = r\n",
        "\n",
        "    def pole(self):\n",
        "        try:\n",
        "            self.s = math.pi * self.promien ** 2\n",
        "        except TypeError as e:\n",
        "            print('TypeError: ', e)\n",
        "        else:\n",
        "            print(self.s)\n",
        "\n"
      ],
      "metadata": {
        "id": "-dhZRLEURy0m"
      },
      "execution_count": 51,
      "outputs": []
    },
    {
      "cell_type": "code",
      "source": [
        "k2 = Kolo(2)\n",
        "k2.pole()"
      ],
      "metadata": {
        "colab": {
          "base_uri": "https://localhost:8080/"
        },
        "id": "c2zyWP65R25k",
        "outputId": "c87fd332-32c0-4d28-d853-0ed6f8972ca4"
      },
      "execution_count": 54,
      "outputs": [
        {
          "output_type": "stream",
          "name": "stdout",
          "text": [
            "12.566370614359172\n"
          ]
        }
      ]
    },
    {
      "cell_type": "markdown",
      "metadata": {
        "id": "d1sbwW936h7D"
      },
      "source": [
        "###**Zadanie 5** \n",
        "#### Utwórz klasę bazową Osoba, oraz dwie klasy pochodne Kobieta i Mezczyzna wszystkie klasy posiadają metodę print_plec która wypisze \"female\" dla Klasy Kobieta, a \"male\" dla klasy Mezczyzna, lub wariant \"unknown\".\n",
        "\n",
        "Potencjalna dodatkowa modyfikacja: w zadaniu monitoruj liczbę osób/utworzonych obiektów, użyj metody statycznej"
      ]
    },
    {
      "cell_type": "code",
      "source": [
        "class Osoba:\n",
        "    liczba_osob = 0\n",
        "\n",
        "    def __init__(self, plec='unknown'):\n",
        "        self.plec = plec\n",
        "        Osoba.liczba_osob += 1\n",
        "\n",
        "    @staticmethod\n",
        "    def print_plec(plec):\n",
        "        print(plec)\n",
        "\n",
        "    @staticmethod\n",
        "    def get_liczba_osob():\n",
        "        return Osoba.liczba_osob\n",
        "\n",
        "\n",
        "class Kobieta(Osoba):\n",
        "    def __init__(self):\n",
        "        super().__init__('female')\n",
        "        Osoba.print_plec(self.plec)\n",
        "\n",
        "\n",
        "class Mezczyzna(Osoba):\n",
        "    def __init__(self):\n",
        "        super().__init__('male')\n",
        "        Osoba.print_plec(self.plec)"
      ],
      "metadata": {
        "id": "tk7FuRNJ_y-Z"
      },
      "execution_count": 2,
      "outputs": []
    },
    {
      "cell_type": "markdown",
      "metadata": {
        "id": "yhi2XxRd6h7D"
      },
      "source": [
        "###**Zadanie 6** \n",
        "#### Utwórz klasę Wielościan, konstruktor klasy ma jeden parametr h tj. wysokość, napisz 4 metody: obliczającą pole powierzchni całkowitej bryły (2 x pole podstawy + pole powierzchni bocznej), obliczającą pole powierzchni bocznej (obwód podstawy x wysokość), obliczającą objętość (pole podstawy x wysokość) i obwód podstawy.  Następnie utwórz dwie dodatkowe 2 klasy: prostopadłościan i walec, który dziedziczy pole r oraz które nadpisują tylko 2 metody klasy Wielościan tj. obliczające obwód podstawy + pola powierzchni podstawy. Przetestuj program obliczając pola powierzchni i objętości walca i prostopadłościanu dla wartości podanych przez użytkownika (a,b lub r).\n",
        "\n",
        "Potencjalna dodatkowa modyfikacja: wykonaj dokumentację napisanego kodu"
      ]
    },
    {
      "cell_type": "code",
      "source": [
        "import math\n",
        "\n",
        "class Wieloscian:\n",
        "    \"\"\"\n",
        "    Klasa reprezentująca koncepcję wielościanu.\n",
        "    \"\"\"\n",
        "    def __init__(self, h):\n",
        "        self.h = h  # wysokość\n",
        "        def pole_powierzchni_calkowitej(self):\n",
        "        \"\"\"\n",
        "        Oblicza pole powierzchni  wielościanu.\n",
        "        \"\"\"\n",
        "        return 2 * self.pole_podstawy() + self.pole_powierzchni_bocznej()"
      ],
      "metadata": {
        "id": "rbApK85EBKG2"
      },
      "execution_count": null,
      "outputs": []
    },
    {
      "cell_type": "markdown",
      "metadata": {
        "id": "maT_f6eIKI_S"
      },
      "source": [
        "## **Klasa abstrakcyjna**\n",
        "klasa w której nie możemy lub nie chcemy tworzyć obiektów. Klasę abstrakcyjną od standardowej klasy odróżnia posiadanie jednej lub więcej abstrakcyjnych metod, zaś abstrakcyjna metoda to metoda zadeklarowana w klasie i pozbawiona definicji. "
      ]
    },
    {
      "cell_type": "markdown",
      "metadata": {
        "id": "-UIS4aiG67aA"
      },
      "source": [
        "## **Polimorfizm** \n",
        "Oznacza, że:\n",
        "a) klasa dziedzicząca może być użyta wszędzie tam, gdzie może być użyta klasa bazowa. \n",
        "b) instancja klasy dziedziczącej jest uznawana za instancję klasy bazowej\n"
      ]
    },
    {
      "cell_type": "markdown",
      "metadata": {
        "id": "0LNAfQ6Q7LbZ"
      },
      "source": [
        "###**Przykład 9**"
      ]
    },
    {
      "cell_type": "code",
      "metadata": {
        "colab": {
          "base_uri": "https://localhost:8080/"
        },
        "id": "UqW9y1cN7S24",
        "outputId": "eecf2109-5e4b-45d4-f4b9-2705aa7404bc"
      },
      "source": [
        "class Samochod():\n",
        "  def __init__(self, kolor, typ_silnika):\n",
        "    self.kolor = kolor\n",
        "    self.typ_silnika = typ_silnika\n",
        "  \n",
        "  def print_parameters(self):\n",
        "    print('Parametry samochodu (1) kolor: {} (2) typ silnika: {}'.format(self.kolor, self.typ_silnika))\n",
        "\n",
        "  def print_sound(self):\n",
        "    print('Samochód jedzie: brum brum brum')\n",
        "    \n",
        "class Jeep(Samochod):\n",
        "  def __init__(self, kolor, typ_silnika):\n",
        "    super().__init__(kolor, typ_silnika)\n",
        "      \n",
        "  def print_parameters(self):\n",
        "    super().print_parameters()\n",
        "\n",
        "  def print_sound(self):\n",
        "    print('A jeep jedzie sobie wrrr wrrr wrrr')\n",
        "    \n",
        "   \n",
        "class Fiat(Samochod):\n",
        "  def __init__(self,kolor, typ_silnika):\n",
        "    super().__init__(kolor, typ_silnika)\n",
        "      \n",
        "  def print_parameters(self):\n",
        "    super().print_parameters()\n",
        "\n",
        "  def print_sound(self):\n",
        "    super().print_sound(  )\n",
        "    print('a fiacik robi jeszcze pip pip pip')\n",
        "\n",
        "# Tworzymy 3 obiekty różnych klas\n",
        "\n",
        "samochod_1 = Jeep('czarny', 'hybrydowy')\n",
        "samochod_2 = Fiat('czerwony', 'benzyna')\n",
        "\n",
        "samochody = [samochod_1, samochod_2]\n",
        "\n",
        "for obiekt in samochody:\n",
        "    obiekt.print_parameters()\n",
        "\n",
        "\n",
        "for obiekt in samochody:\n",
        "    obiekt.print_sound()\n",
        "\n"
      ],
      "execution_count": null,
      "outputs": [
        {
          "output_type": "stream",
          "text": [
            "Parametry samochodu (1) kolor: czarny (2) typ silnika: hybrydowy\n",
            "Parametry samochodu (1) kolor: czerwony (2) typ silnika: benzyna\n",
            "A jeep jedzie sobie wrrr wrrr wrrr\n",
            "Samochód jedzie: brum brum brum\n",
            "a fiacik robi jeszcze pip pip pip\n"
          ],
          "name": "stdout"
        }
      ]
    },
    {
      "cell_type": "code",
      "metadata": {
        "colab": {
          "base_uri": "https://localhost:8080/"
        },
        "id": "4ivhs-zst3PZ",
        "outputId": "c29509af-f033-4680-85d2-1eebd3b540df"
      },
      "source": [
        "# Sprawdźmy czy nasze obiekty należą do klasy Samochód\n",
        "\n",
        "for obiekt in samochody:\n",
        "    print(isinstance(obiekt, Samochod))"
      ],
      "execution_count": null,
      "outputs": [
        {
          "output_type": "stream",
          "text": [
            "True\n",
            "True\n"
          ],
          "name": "stdout"
        }
      ]
    }
  ]
}