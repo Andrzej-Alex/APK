{
  "nbformat": 4,
  "nbformat_minor": 0,
  "metadata": {
    "anaconda-cloud": {},
    "hide_input": false,
    "kernelspec": {
      "display_name": "Python 3",
      "language": "python",
      "name": "python3"
    },
    "language_info": {
      "codemirror_mode": {
        "name": "ipython",
        "version": 3
      },
      "file_extension": ".py",
      "mimetype": "text/x-python",
      "name": "python",
      "nbconvert_exporter": "python",
      "pygments_lexer": "ipython3",
      "version": "3.7.0"
    },
    "nav_menu": {},
    "toc": {
      "nav_menu": {
        "height": "461px",
        "width": "252px"
      },
      "navigate_menu": true,
      "number_sections": true,
      "sideBar": true,
      "threshold": 4,
      "toc_cell": false,
      "toc_section_display": "block",
      "toc_window_display": false
    },
    "colab": {
      "provenance": [],
      "include_colab_link": true
    }
  },
  "cells": [
    {
      "cell_type": "markdown",
      "metadata": {
        "id": "view-in-github",
        "colab_type": "text"
      },
      "source": [
        "<a href=\"https://colab.research.google.com/github/Andrzej-Alex/APK/blob/main/wseLab7Jupyter_2023_paradygmaty_programowania1.ipynb\" target=\"_parent\"><img src=\"https://colab.research.google.com/assets/colab-badge.svg\" alt=\"Open In Colab\"/></a>"
      ]
    },
    {
      "cell_type": "markdown",
      "metadata": {
        "ExecuteTime": {
          "end_time": "2016-12-02T01:30:23.686185",
          "start_time": "2016-12-02T01:30:23.683168"
        },
        "id": "2xwwl0Ny55Ue"
      },
      "source": [
        "# **Laboratorium 7 - programowanie w różnych paradygmatach**\n",
        "\n",
        "dr Aneta Polewko-Klim\n"
      ]
    },
    {
      "cell_type": "markdown",
      "metadata": {
        "ExecuteTime": {
          "end_time": "2016-12-01T22:45:11.067640",
          "start_time": "2016-12-01T22:45:11.064638"
        },
        "id": "ad5mrrzK55Uj"
      },
      "source": [
        "# **Obsługa wyjątków - przykłady**"
      ]
    },
    {
      "cell_type": "code",
      "source": [],
      "metadata": {
        "id": "jG9ODQ7Zj9vN"
      },
      "execution_count": null,
      "outputs": []
    },
    {
      "cell_type": "markdown",
      "metadata": {
        "id": "kXP0KyVt55Uj"
      },
      "source": [
        "\n",
        "ZAPAMIETAJ:\n",
        "1. Zgłoszenie wyjątku oznacza błąd programu i przerwanie normalnego działania programu.\n",
        "2. Aby przechwycić wyjątek trzeba użyć instrukcji try / except\n",
        "3. Po bloku except można również dodać blok else, który wykonany zostanie jeżeli nie zgłoszony zostanie wyjątek"
      ]
    },
    {
      "cell_type": "code",
      "metadata": {
        "ExecuteTime": {
          "end_time": "2016-12-02T01:12:01.133376",
          "start_time": "2016-12-02T01:12:01.128375"
        },
        "run_control": {
          "frozen": false,
          "read_only": false
        },
        "id": "2o0Bybtg55Up"
      },
      "source": [
        "def divide(x,y):\n",
        "    try:\n",
        "        result = x / y\n",
        "    except (ZeroDivisionError, TypeError) as e:\n",
        "        print(\"Error: \", e)\n",
        "    else:\n",
        "        print(\"result is\", result)\n",
        "    # finally:\n",
        "    #     print(\"executing finally clause\")"
      ],
      "execution_count": null,
      "outputs": []
    },
    {
      "cell_type": "code",
      "metadata": {
        "ExecuteTime": {
          "end_time": "2016-12-02T01:12:01.325164",
          "start_time": "2016-12-02T01:12:01.321146"
        },
        "run_control": {
          "frozen": false,
          "read_only": false
        },
        "id": "Z0_l8Bus55Uq",
        "colab": {
          "base_uri": "https://localhost:8080/"
        },
        "outputId": "76112f91-6b56-4d20-dea6-6c7f371b5e29"
      },
      "source": [
        "divide(2, 1)"
      ],
      "execution_count": null,
      "outputs": [
        {
          "output_type": "stream",
          "name": "stdout",
          "text": [
            "result is 2.0\n"
          ]
        }
      ]
    },
    {
      "cell_type": "code",
      "source": [
        "divide(2, 'one')"
      ],
      "metadata": {
        "colab": {
          "base_uri": "https://localhost:8080/"
        },
        "id": "STsvsyqMYGTG",
        "outputId": "80f6e261-8f01-4a9e-e00f-be1fd6192e79"
      },
      "execution_count": null,
      "outputs": [
        {
          "output_type": "stream",
          "name": "stdout",
          "text": [
            "Error:  unsupported operand type(s) for /: 'int' and 'str'\n"
          ]
        }
      ]
    },
    {
      "cell_type": "markdown",
      "source": [
        "## **Zadanie 1**\n",
        "Utwórz program kalkulator (operacje: dodawanie, odejmowanie, mnożenie, dzielenie dwu liczb), programuj w paradygmacie strukturalnym\n",
        "\n",
        "a) wariant bez obsługi wyjątków\n",
        "\n"
      ],
      "metadata": {
        "id": "KyOa-WnwyAil"
      }
    },
    {
      "cell_type": "markdown",
      "source": [
        "## **Zadanie 2**\n",
        "Utwórz program kalkulator (operacje: dodawanie, odejmowanie, mnożenie, dzielenie dwu liczb), programuj w paradygmacie funkcyjnym\n",
        "\n",
        "a) wariant bez obsługi wyjątków\n",
        "\n",
        "**Note:**\n",
        "* utwórz 4 funkcje proste dla poszczególnych operacji matematycznych\n",
        "* utwórz 1 funkcję wyższego rzędu calculator() która zarządza wszystkimi operacjami\n",
        "* użyj funkcji wbudowanych, pakietu math\n",
        "* wykonaj dokumentację dla funkcji"
      ],
      "metadata": {
        "id": "gVJs2IMRzPrs"
      }
    },
    {
      "cell_type": "markdown",
      "source": [
        "## **Zadanie 3**\n",
        "Utwórz program kalkulator (operacje: dodawanie, odejmowanie, mnożenie, dzielenie dwu liczb), programuj w paradygmacie funkcyjnym\n",
        "\n",
        "a) wariant z obsługą wyjątków\n",
        "\n",
        "**Note:**\n",
        "* utwórz 2 moduły: pierwszy zawiera 4 funkcje proste dla poszczególnych operacji matematycznych\n",
        "drugi moduł zawiera 1 funkcję która zarządza wszystkimi operacjami\n",
        "* wykonaj dokumentację dla 1 modułu"
      ],
      "metadata": {
        "id": "GPEMyJEzfBWf"
      }
    },
    {
      "cell_type": "code",
      "source": [],
      "metadata": {
        "id": "jj9kLxyIlx2d"
      },
      "execution_count": null,
      "outputs": []
    },
    {
      "cell_type": "markdown",
      "source": [
        "## **Zadanie 4**\n",
        "Utwórz program kalkulator wykonujący operacje: dodawanie, odejmowanie, mnożenie, dzielenie na dowolnej sekwencji liczb N liczb (dane wejściowe: lista lub ciąg liczb rozdzielonych przecinkiem), programuj w paradygmacie funkcyjnym\n",
        "\n",
        "**Note:**\n",
        "* zaimplementuj funkcję wielu zmiennych wejściowych"
      ],
      "metadata": {
        "id": "i-ikpxptiuvJ"
      }
    },
    {
      "cell_type": "markdown",
      "source": [
        "## **Zadanie 5**\n",
        "Utwórz program kalkulator z GUI (operacje: dodawanie, odejmowanie, mnożenie, dzielenie dwu liczb). Użytkownik ma możliwość zapisania danych do pliku tekstowego (nazwę pliku wraz ze ścieżką dostępu deklaruje użytkownik)\n",
        "\n",
        "a) wariant z obsługą wyjątków\n",
        "\n",
        "**Note:**\n",
        "* użyj funkcji okienek wbudowanych, dla wyświetlenia błędów (obsługa wyjątków)\n",
        "\n",
        "*Użyj edytora kodu innego niż JupyterNotebook*\n"
      ],
      "metadata": {
        "id": "rZsccb4oyo7s"
      }
    },
    {
      "cell_type": "markdown",
      "source": [],
      "metadata": {
        "id": "EynIA_u6fYrK"
      }
    },
    {
      "cell_type": "markdown",
      "source": [
        "## **Zadanie 6**\n",
        "Utwórz program kalkulator (operacje: dodawanie, odejmowanie, mnożenie, dzielenie dwu liczb), programuj w paradygmacie obiektowym\n",
        "\n",
        "a) wariant z obsługą wyjątków\n",
        "\n",
        "**Note:**\n",
        "* użyj funkcji wbudowanych, pakietu math\n",
        "* wykonaj dokumentację dla 1 metody\n",
        "* użyj metod specyjalnych: \\_\\_str_\\_, \\_\\_rep_\\_, \\_\\_add_\\_ , \\_\\_sub_\\_ , \\_\\_div_\\_"
      ],
      "metadata": {
        "id": "ZdOXGg3-y6AL"
      }
    },
    {
      "cell_type": "code",
      "source": [],
      "metadata": {
        "id": "nM86bqE5a45P"
      },
      "execution_count": null,
      "outputs": []
    },
    {
      "cell_type": "markdown",
      "source": [
        "# **Testy jednostkowe z użyciem pakietu unittest - przykład**\n"
      ],
      "metadata": {
        "id": "44tnCadJwX_m"
      }
    },
    {
      "cell_type": "markdown",
      "source": [
        "## Testowana funkcja"
      ],
      "metadata": {
        "id": "tcWX4iutnKPs"
      }
    },
    {
      "cell_type": "code",
      "source": [
        "def integrate(function, a, b, i):\n",
        "  # Obliczanie całki metodą trapezu\n",
        "    # Liczymy całkę metodą trapezu\n",
        "    dx = (b - a) / i    # a/b to górny/dolny przedział, i to liczba przedziałów\n",
        "    integr = 0\n",
        "    for x in range(i):\n",
        "        x = x * dx + a\n",
        "        fx1 = eval(function)\n",
        "        x += dx\n",
        "        fx2 = eval(function)\n",
        "        integr += 0.5 * dx * (fx1 + fx2)\n",
        "    return integr"
      ],
      "metadata": {
        "id": "IvMzRzNYm1u3"
      },
      "execution_count": null,
      "outputs": []
    },
    {
      "cell_type": "code",
      "source": [
        "integrate(function = '2*x', a = 0, b = 1, i = 1000)"
      ],
      "metadata": {
        "colab": {
          "base_uri": "https://localhost:8080/"
        },
        "id": "EaBso7WRnPjM",
        "outputId": "ea40db0e-6eaa-44a1-e967-0dc07ae4c8ee"
      },
      "execution_count": null,
      "outputs": [
        {
          "output_type": "execute_result",
          "data": {
            "text/plain": [
              "0.9999999999999998"
            ]
          },
          "metadata": {},
          "execution_count": 6
        }
      ]
    },
    {
      "cell_type": "markdown",
      "source": [
        "## Test jednostkowy funkcji"
      ],
      "metadata": {
        "id": "5vVYTO9Bnyhh"
      }
    },
    {
      "cell_type": "code",
      "metadata": {
        "ExecuteTime": {
          "end_time": "2016-12-03T11:35:16.593070",
          "start_time": "2016-12-03T11:35:16.587081"
        },
        "collapsed": true,
        "id": "06To_bfM55Uw",
        "colab": {
          "base_uri": "https://localhost:8080/",
          "height": 393
        },
        "outputId": "22616d31-3b96-4d24-978b-700e87a25205"
      },
      "source": [
        "import unittest as ut\n",
        "from mojafunkcja import integrate  # importuję funkcję do testu\n",
        "\n",
        "class TestSum(ut.TestCase):  # 1. Tworzę klasę TestSum\n",
        "    # Test sprawdzający poprawność liczenia całki\n",
        "    def test_1(self):\n",
        "            # 2 wpisuje moje dane wejściowe\n",
        "            function = '2*x'\n",
        "            a = 0\n",
        "            b = 1\n",
        "            i = 1000\n",
        "            result = integrate(function,a,b,i)  # dane wyjściowe\n",
        "            # 3 porównuję dane wyjściowe ze znanym mi poprawnym wynikiem\n",
        "            self.assertEqual(result, 0.9999999999999998, \"Should be 0.9999999999999998\")\n",
        "\n",
        "# # 4. Uruchomienie testów PyCharm\n",
        "# if __name__ == '__main__':\n",
        "#     ut.main()\n",
        "\n",
        "ut.main(argv=['']), varbosity=2, exit=False)\n"
      ],
      "execution_count": 2,
      "outputs": [
        {
          "output_type": "error",
          "ename": "ModuleNotFoundError",
          "evalue": "ignored",
          "traceback": [
            "\u001b[0;31m---------------------------------------------------------------------------\u001b[0m",
            "\u001b[0;31mModuleNotFoundError\u001b[0m                       Traceback (most recent call last)",
            "\u001b[0;32m<ipython-input-2-4198a601f59b>\u001b[0m in \u001b[0;36m<cell line: 2>\u001b[0;34m()\u001b[0m\n\u001b[1;32m      1\u001b[0m \u001b[0;32mimport\u001b[0m \u001b[0munittest\u001b[0m \u001b[0;32mas\u001b[0m \u001b[0mut\u001b[0m\u001b[0;34m\u001b[0m\u001b[0;34m\u001b[0m\u001b[0m\n\u001b[0;32m----> 2\u001b[0;31m \u001b[0;32mfrom\u001b[0m \u001b[0mmojafunkcja\u001b[0m \u001b[0;32mimport\u001b[0m \u001b[0mintegrate\u001b[0m  \u001b[0;31m# importuję funkcję do testu\u001b[0m\u001b[0;34m\u001b[0m\u001b[0;34m\u001b[0m\u001b[0m\n\u001b[0m\u001b[1;32m      3\u001b[0m \u001b[0;34m\u001b[0m\u001b[0m\n\u001b[1;32m      4\u001b[0m \u001b[0;32mclass\u001b[0m \u001b[0mTestSum\u001b[0m\u001b[0;34m(\u001b[0m\u001b[0mut\u001b[0m\u001b[0;34m.\u001b[0m\u001b[0mTestCase\u001b[0m\u001b[0;34m)\u001b[0m\u001b[0;34m:\u001b[0m  \u001b[0;31m# 1. Tworzę klasę TestSum\u001b[0m\u001b[0;34m\u001b[0m\u001b[0;34m\u001b[0m\u001b[0m\n\u001b[1;32m      5\u001b[0m     \u001b[0;31m# Test sprawdzający poprawność liczenia całki\u001b[0m\u001b[0;34m\u001b[0m\u001b[0;34m\u001b[0m\u001b[0m\n",
            "\u001b[0;31mModuleNotFoundError\u001b[0m: No module named 'mojafunkcja'",
            "",
            "\u001b[0;31m---------------------------------------------------------------------------\u001b[0;32m\nNOTE: If your import is failing due to a missing package, you can\nmanually install dependencies using either !pip or !apt.\n\nTo view examples of installing some common dependencies, click the\n\"Open Examples\" button below.\n\u001b[0;31m---------------------------------------------------------------------------\u001b[0m\n"
          ],
          "errorDetails": {
            "actions": [
              {
                "action": "open_url",
                "actionText": "Open Examples",
                "url": "/notebooks/snippets/importing_libraries.ipynb"
              }
            ]
          }
        }
      ]
    },
    {
      "cell_type": "code",
      "source": [
        "if __name__ == '__main__':\n",
        "    ut.main()"
      ],
      "metadata": {
        "colab": {
          "base_uri": "https://localhost:8080/",
          "height": 190
        },
        "id": "CMYp3M_XXbvS",
        "outputId": "5bd6c8dc-994b-45a6-a040-57b1c0dbf7fb"
      },
      "execution_count": 1,
      "outputs": [
        {
          "output_type": "error",
          "ename": "NameError",
          "evalue": "ignored",
          "traceback": [
            "\u001b[0;31m---------------------------------------------------------------------------\u001b[0m",
            "\u001b[0;31mNameError\u001b[0m                                 Traceback (most recent call last)",
            "\u001b[0;32m<ipython-input-1-bdc671e5e323>\u001b[0m in \u001b[0;36m<cell line: 1>\u001b[0;34m()\u001b[0m\n\u001b[1;32m      1\u001b[0m \u001b[0;32mif\u001b[0m \u001b[0m__name__\u001b[0m \u001b[0;34m==\u001b[0m \u001b[0;34m'__main__'\u001b[0m\u001b[0;34m:\u001b[0m\u001b[0;34m\u001b[0m\u001b[0;34m\u001b[0m\u001b[0m\n\u001b[0;32m----> 2\u001b[0;31m     \u001b[0mut\u001b[0m\u001b[0;34m.\u001b[0m\u001b[0mmain\u001b[0m\u001b[0;34m(\u001b[0m\u001b[0;34m)\u001b[0m\u001b[0;34m\u001b[0m\u001b[0;34m\u001b[0m\u001b[0m\n\u001b[0m",
            "\u001b[0;31mNameError\u001b[0m: name 'ut' is not defined"
          ]
        }
      ]
    },
    {
      "cell_type": "code",
      "source": [],
      "metadata": {
        "id": "EiRWlexbhz9r"
      },
      "execution_count": null,
      "outputs": []
    },
    {
      "cell_type": "markdown",
      "source": [
        "## **Zadanie 7**:\n",
        "\n",
        "Wykonaj testy jednostkowe dla zadania 2\n"
      ],
      "metadata": {
        "id": "HyaXhXSBxXXd"
      }
    },
    {
      "cell_type": "code",
      "source": [],
      "metadata": {
        "id": "W3ZaAwW0gyN3"
      },
      "execution_count": null,
      "outputs": []
    },
    {
      "cell_type": "markdown",
      "source": [
        "## **Zadanie 8**:\n",
        "* Testy wydajnościowe: zmierz czas wykonania operacji matematycznej z zadania 2\n",
        "dla jej liczby iteracji i = 1,...,100\n",
        "* Narysuj wykres przedstawiający czas wykonania algorytmu of liczby iteracji\n"
      ],
      "metadata": {
        "id": "04DK8s3ag-Hg"
      }
    }
  ]
}